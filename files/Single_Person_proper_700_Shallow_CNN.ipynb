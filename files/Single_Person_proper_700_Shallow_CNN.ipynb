{
  "nbformat": 4,
  "nbformat_minor": 0,
  "metadata": {
    "kernelspec": {
      "display_name": "venv_C247",
      "language": "python",
      "name": "venv_c247"
    },
    "language_info": {
      "codemirror_mode": {
        "name": "ipython",
        "version": 2
      },
      "file_extension": ".py",
      "mimetype": "text/x-python",
      "name": "python",
      "nbconvert_exporter": "python",
      "pygments_lexer": "ipython2",
      "version": "2.7.16"
    },
    "varInspector": {
      "cols": {
        "lenName": 16,
        "lenType": 16,
        "lenVar": 40
      },
      "kernels_config": {
        "python": {
          "delete_cmd_postfix": "",
          "delete_cmd_prefix": "del ",
          "library": "var_list.py",
          "varRefreshCmd": "print(var_dic_list())"
        },
        "r": {
          "delete_cmd_postfix": ") ",
          "delete_cmd_prefix": "rm(",
          "library": "var_list.r",
          "varRefreshCmd": "cat(var_dic_list()) "
        }
      },
      "oldHeight": 654.545454,
      "position": {
        "height": "40px",
        "left": "266.375px",
        "right": "20px",
        "top": "2px",
        "width": "800px"
      },
      "types_to_exclude": [
        "module",
        "function",
        "builtin_function_or_method",
        "instance",
        "_Feature"
      ],
      "varInspector_section_display": "none",
      "window_display": false
    },
    "colab": {
      "name": "Single Person proper 700 - Shallow CNN.ipynb",
      "provenance": [],
      "collapsed_sections": []
    }
  },
  "cells": [
    {
      "cell_type": "markdown",
      "metadata": {
        "id": "mI3bkjQUth9g",
        "colab_type": "text"
      },
      "source": [
        "# Description\n",
        "\n",
        "This architecture was described in \"Deep learning with convolutional neural networks for brain mapping and decoding of movement-related information from the human EEG\", by R. T. Schirrmeister et al, 2018. In this notebook we conduct experiments showing dependency between accuracy and the number of timestamps in a sample. "
      ]
    },
    {
      "cell_type": "markdown",
      "metadata": {
        "id": "giJ7VMQ1th9j",
        "colab_type": "text"
      },
      "source": [
        "# Set up the environment"
      ]
    },
    {
      "cell_type": "code",
      "metadata": {
        "id": "nRFMWH8mth9k",
        "colab_type": "code",
        "colab": {
          "base_uri": "https://localhost:8080/",
          "height": 51
        },
        "outputId": "14fe37df-80f5-4754-e26d-1a192732dfbe"
      },
      "source": [
        "%load_ext autoreload\n",
        "%autoreload 2\n",
        "%matplotlib inline"
      ],
      "execution_count": 21,
      "outputs": [
        {
          "output_type": "stream",
          "text": [
            "The autoreload extension is already loaded. To reload it, use:\n",
            "  %reload_ext autoreload\n"
          ],
          "name": "stdout"
        }
      ]
    },
    {
      "cell_type": "code",
      "metadata": {
        "id": "tKkMzgwDth9q",
        "colab_type": "code",
        "colab": {}
      },
      "source": [
        "from __future__ import absolute_import, division, print_function, unicode_literals\n",
        "\n",
        "# import tf\n",
        "import tensorflow as tf\n",
        "import tensorflow.keras as keras\n",
        "import tensorflow.keras.layers as layers\n",
        "import tensorflow.keras.backend as K\n",
        "\n",
        "# import os functions\n",
        "import os\n",
        "import time\n",
        "\n",
        "import numpy as np\n",
        "import matplotlib.pyplot as plt\n",
        "\n",
        "from IPython import display"
      ],
      "execution_count": 0,
      "outputs": []
    },
    {
      "cell_type": "code",
      "metadata": {
        "id": "dlJ_-3tgtmoY",
        "colab_type": "code",
        "colab": {
          "base_uri": "https://localhost:8080/",
          "height": 34
        },
        "outputId": "52040969-0707-4d7f-ceaa-7bf353c25f58"
      },
      "source": [
        "from google.colab import drive\n",
        "drive.mount('/content/drive')"
      ],
      "execution_count": 23,
      "outputs": [
        {
          "output_type": "stream",
          "text": [
            "Drive already mounted at /content/drive; to attempt to forcibly remount, call drive.mount(\"/content/drive\", force_remount=True).\n"
          ],
          "name": "stdout"
        }
      ]
    },
    {
      "cell_type": "code",
      "metadata": {
        "id": "RT7ZZRUgtvS7",
        "colab_type": "code",
        "colab": {
          "base_uri": "https://localhost:8080/",
          "height": 51
        },
        "outputId": "5d82951f-ce4e-41cc-de81-bc68ec2bfa77"
      },
      "source": [
        "cd 'drive/My Drive/147 Project'"
      ],
      "execution_count": 24,
      "outputs": [
        {
          "output_type": "stream",
          "text": [
            "[Errno 2] No such file or directory: 'drive/My Drive/147 Project'\n",
            "/content/drive/My Drive/147 Project\n"
          ],
          "name": "stdout"
        }
      ]
    },
    {
      "cell_type": "markdown",
      "metadata": {
        "id": "y2fFfnISth9u",
        "colab_type": "text"
      },
      "source": [
        "# Load the data"
      ]
    },
    {
      "cell_type": "markdown",
      "metadata": {
        "id": "AbdpXxp4th9v",
        "colab_type": "text"
      },
      "source": [
        "### Read the files"
      ]
    },
    {
      "cell_type": "code",
      "metadata": {
        "id": "Bu_havgnth9x",
        "colab_type": "code",
        "colab": {}
      },
      "source": [
        "X_test = np.load(\"./EEG_data/X_test.npy\")\n",
        "y_test = np.load(\"./EEG_data/y_test.npy\") - 769\n",
        "person_train_valid = np.load(\"./EEG_data/person_train_valid.npy\")\n",
        "X_train_valid = np.load(\"./EEG_data/X_train_valid.npy\")\n",
        "y_train_valid = np.load(\"./EEG_data/y_train_valid.npy\") - 769\n",
        "person_test = np.load(\"./EEG_data/person_test.npy\")"
      ],
      "execution_count": 0,
      "outputs": []
    },
    {
      "cell_type": "markdown",
      "metadata": {
        "id": "S2JCvLEeth93",
        "colab_type": "text"
      },
      "source": [
        "### Shape of data"
      ]
    },
    {
      "cell_type": "code",
      "metadata": {
        "id": "pb28mX3Zth94",
        "colab_type": "code",
        "colab": {
          "base_uri": "https://localhost:8080/",
          "height": 119
        },
        "outputId": "8d6b9a6d-ab00-4807-b3cc-2f2fa2af1901"
      },
      "source": [
        "print(\"training/Valid data shape: {}\".format(X_train_valid.shape))       # training data of many persons\n",
        "print(\"Test data shape: {}\".format(X_test.shape))                        # test data of many persons\n",
        "print(\"Training/Valid target shape: {}\".format(y_train_valid.shape))     # training labels of many persons\n",
        "print(\"Test target shape: {}\".format(y_test.shape))                      # test labels of many persons\n",
        "print(\"Person train/valid  shape: {}\".format(person_train_valid.shape))  # which person correspond to the trail in test set\n",
        "print(\"Person test shape: {}\".format(person_test.shape))                 # which person correspond to the trail in test set"
      ],
      "execution_count": 26,
      "outputs": [
        {
          "output_type": "stream",
          "text": [
            "training/Valid data shape: (2115, 22, 1000)\n",
            "Test data shape: (443, 22, 1000)\n",
            "Training/Valid target shape: (2115,)\n",
            "Test target shape: (443,)\n",
            "Person train/valid  shape: (2115, 1)\n",
            "Person test shape: (443, 1)\n"
          ],
          "name": "stdout"
        }
      ]
    },
    {
      "cell_type": "markdown",
      "metadata": {
        "id": "J4G3MTC4th-A",
        "colab_type": "text"
      },
      "source": [
        "### divide dataset into training and validation"
      ]
    },
    {
      "cell_type": "code",
      "metadata": {
        "id": "JuXJgCQjth-B",
        "colab_type": "code",
        "colab": {
          "base_uri": "https://localhost:8080/",
          "height": 119
        },
        "outputId": "336447f7-f73f-46e3-f1e4-3322bfdeca0e"
      },
      "source": [
        "perm = np.random.permutation(X_train_valid.shape[0])\n",
        "num_train = int(0.8 * X_train_valid.shape[0])\n",
        "num_valid = X_train_valid.shape[0] - num_train\n",
        "X_train =  X_train_valid[perm[0:num_train]]\n",
        "y_train =  y_train_valid[perm[0:num_train]]\n",
        "X_valid = X_train_valid[perm[num_train: ]]\n",
        "y_valid = y_train_valid[perm[num_train: ]]\n",
        "\n",
        "\n",
        "print(\"Training data shape: {}\".format(X_train.shape))\n",
        "print(\"Training label shape: {}\".format(y_train.shape))\n",
        "print(\"Validation data shape: {}\".format(X_valid.shape))\n",
        "print(\"Validation label shape: {}\".format(y_valid.shape))\n",
        "print(\"Test data shape: {}\".format(X_test.shape))\n",
        "print(\"Test label shape: {}\".format(y_test.shape))"
      ],
      "execution_count": 27,
      "outputs": [
        {
          "output_type": "stream",
          "text": [
            "Training data shape: (1692, 22, 1000)\n",
            "Training label shape: (1692,)\n",
            "Validation data shape: (423, 22, 1000)\n",
            "Validation label shape: (423,)\n",
            "Test data shape: (443, 22, 1000)\n",
            "Test label shape: (443,)\n"
          ],
          "name": "stdout"
        }
      ]
    },
    {
      "cell_type": "markdown",
      "metadata": {
        "id": "snvrU0t-th-E",
        "colab_type": "text"
      },
      "source": [
        "### Preprocess data"
      ]
    },
    {
      "cell_type": "code",
      "metadata": {
        "id": "5VvCis8-th-F",
        "colab_type": "code",
        "colab": {}
      },
      "source": [
        "def sliding_window(X_arr, y_arr, time_window=100, time_step=1, time_stride=1):\n",
        "    temp_x = np.moveaxis(X_arr, 2, 0)\n",
        "    temp_x = temp_x.astype(np.float32)\n",
        "    buff = []\n",
        "    \n",
        "    num_slices = (len(temp_x)-time_window*time_step) // time_stride + 1\n",
        "    \n",
        "    # get time slices for data\n",
        "    for i in range(num_slices):\n",
        "        buff.append(temp_x[i*time_stride:i*time_stride + time_window*time_step:time_step])\n",
        "        buff[i] = np.moveaxis(buff[i], 0, 2)\n",
        "        # uncomment this if additional dimension is needed\n",
        "        # buff[i] = buff[i].reshape(1, buff[i].shape[0], buff[i].shape[1], buff[i].shape[2])\n",
        "        \n",
        "    temp_x = np.concatenate(buff)\n",
        "        \n",
        "    # get time slice for labels\n",
        "    temp_y = np.ones((X_arr.shape[0],num_slices))\n",
        "    \n",
        "    for i in range(len(y_arr)):\n",
        "        temp_y[i] = temp_y[i] * y_arr[i]\n",
        "        \n",
        "    temp_y = temp_y.reshape((-1))\n",
        "    \n",
        "    return temp_x, temp_y"
      ],
      "execution_count": 0,
      "outputs": []
    },
    {
      "cell_type": "code",
      "metadata": {
        "id": "LNqtsiWjth-L",
        "colab_type": "code",
        "colab": {}
      },
      "source": [
        "def Ksquare(x):\n",
        "    return K.pow(x, 2)\n",
        "\n",
        "def Klog(x):\n",
        "    return K.log(x)"
      ],
      "execution_count": 0,
      "outputs": []
    },
    {
      "cell_type": "code",
      "metadata": {
        "id": "qEE4dZdpth-Q",
        "colab_type": "code",
        "colab": {}
      },
      "source": [
        "def construct_shallow_model(TIME_WINDOW):\n",
        "    # input\n",
        "    shallow_input = layers.Input(shape=(22, TIME_WINDOW))\n",
        "\n",
        "    # conv accross time domain\n",
        "    r1 = layers.Reshape((22, TIME_WINDOW, 1))(shallow_input)\n",
        "    c1 = layers.Conv2D(40, (1, 25), strides=(1, 1), activation=\"elu\")(r1)\n",
        "    new_size = TIME_WINDOW - 25 + 1\n",
        "    t1 = tf.keras.layers.Permute((2, 3, 1))(c1)\n",
        "    \n",
        "    \n",
        "    # conv accross time domain\n",
        "    r2 = layers.Reshape((new_size, 40*22, 1))(t1)\n",
        "    c2 = layers.Conv2D(40, (1, 40*22), strides=(1, 1), activation=\"elu\")(r2)\n",
        "\n",
        "    sq1 = layers.Activation(Ksquare)(c2)\n",
        "    r3 = layers.Reshape((new_size, 40, 1))(sq1)\n",
        "    apool1 = layers.AveragePooling2D(pool_size=(75, 1), strides=(15, 1))(r3)\n",
        "\n",
        "    log1 = layers.Activation(Klog)(apool1)\n",
        "    f1 = layers.Flatten()(log1)\n",
        "\n",
        "    # output\n",
        "    shallow_output = layers.Dense(4, activation=\"softmax\")(f1)\n",
        "    \n",
        "    return keras.Model(inputs = shallow_input, outputs = shallow_output)"
      ],
      "execution_count": 0,
      "outputs": []
    },
    {
      "cell_type": "markdown",
      "metadata": {
        "id": "X63jPECrvCMn",
        "colab_type": "text"
      },
      "source": [
        "### Train on single person"
      ]
    },
    {
      "cell_type": "code",
      "metadata": {
        "id": "9EJO57JPvEFG",
        "colab_type": "code",
        "colab": {
          "base_uri": "https://localhost:8080/",
          "height": 1000
        },
        "outputId": "2d72f0a6-2268-4752-fd4a-d7fb7da5805b"
      },
      "source": [
        "person_num = 0\n",
        "indices_train_valid = np.where(person_train_valid == person_num)[0]\n",
        "indices_test = np.where(person_test == person_num)[0]\n",
        "\n",
        "single_person_X_train_valid = X_train_valid[indices_train_valid]\n",
        "single_person_y_train_valid = y_train_valid[indices_train_valid]\n",
        "\n",
        "perm = np.random.permutation(single_person_X_train_valid.shape[0])\n",
        "num_train = int(0.8 * single_person_X_train_valid.shape[0])\n",
        "num_valid = single_person_X_train_valid.shape[0] - num_train\n",
        "single_person_X_train =  single_person_X_train_valid[perm[0:num_train]]\n",
        "single_person_y_train =  single_person_y_train_valid[perm[0:num_train]]\n",
        "single_person_X_valid = single_person_X_train_valid[perm[num_train: ]]\n",
        "single_person_y_valid = single_person_y_train_valid[perm[num_train: ]]\n",
        "\n",
        "single_person_X_test = X_test[indices_test]\n",
        "single_person_y_test = y_test[indices_test]\n",
        "\n",
        "\n",
        "print(\"Training data shape for 1 person: {}\".format(single_person_X_train.shape))\n",
        "print(\"Training label shape for 1 person: {}\".format(single_person_y_train.shape))\n",
        "print(\"Validation data shape for 1 person: {}\".format(single_person_X_valid.shape))\n",
        "print(\"Validation label shape for 1 person: {}\".format(single_person_y_valid.shape))\n",
        "print(\"Test data shape for 1 person: {}\".format(single_person_X_test.shape))\n",
        "print(\"Test label shape for 1 person: {}\".format(single_person_y_test.shape))\n",
        "\n",
        "TIME_WINDOW = 700\n",
        "TIME_STRIDE = 1000\n",
        "\n",
        "# cut the slices\n",
        "X_train_slices, y_train_slices = sliding_window(single_person_X_train, \n",
        "                                                single_person_y_train, \n",
        "                                                time_window=TIME_WINDOW,  \n",
        "                                                time_stride=TIME_STRIDE)\n",
        "\n",
        "\n",
        "X_valid_slices, y_valid_slices = sliding_window(single_person_X_valid, \n",
        "                                                single_person_y_valid, \n",
        "                                                time_window=TIME_WINDOW, \n",
        "                                                time_stride=TIME_STRIDE)\n",
        "\n",
        "shallow_model_600 = construct_shallow_model(TIME_WINDOW)\n",
        "shallow_model_600.compile(\"adam\", \"sparse_categorical_crossentropy\", metrics=[\"acc\"])\n",
        "\n",
        "shallow_model_600.fit(X_train_slices, y_train_slices,\n",
        "                      validation_data = (X_valid_slices, y_valid_slices),\n",
        "                      epochs = 30)\n",
        "\n",
        "X_test_slices, y_test_slices = sliding_window(single_person_X_test, \n",
        "                                              single_person_y_test, \n",
        "                                              time_window=700, \n",
        "                                              time_stride=TIME_STRIDE)\n",
        "\n",
        "\n",
        "X_overall_test_slices, y_overall_test_slices = sliding_window(X_test, \n",
        "                                              y_test, \n",
        "                                              time_window=700, \n",
        "                                              time_stride=TIME_STRIDE)\n",
        "\n",
        "print(\"\\n\\n Now Evaluating on Single Person test set\")\n",
        "\n",
        "shallow_model_600.evaluate(X_test_slices, y_test_slices)\n",
        "\n",
        "print(\"\\n\\n Now Evaluating on Entire test set\")\n",
        "\n",
        "shallow_model_600.evaluate(X_overall_test_slices, y_overall_test_slices)"
      ],
      "execution_count": 32,
      "outputs": [
        {
          "output_type": "stream",
          "text": [
            "Training data shape for 1 person: (189, 22, 1000)\n",
            "Training label shape for 1 person: (189,)\n",
            "Validation data shape for 1 person: (48, 22, 1000)\n",
            "Validation label shape for 1 person: (48,)\n",
            "Test data shape for 1 person: (50, 22, 1000)\n",
            "Test label shape for 1 person: (50,)\n",
            "Train on 189 samples, validate on 48 samples\n",
            "Epoch 1/30\n",
            "189/189 [==============================] - 5s 25ms/sample - loss: 2.6537 - acc: 0.2910 - val_loss: 1.9981 - val_acc: 0.3958\n",
            "Epoch 2/30\n",
            "189/189 [==============================] - 5s 24ms/sample - loss: 1.6633 - acc: 0.3016 - val_loss: 1.6962 - val_acc: 0.3333\n",
            "Epoch 3/30\n",
            "189/189 [==============================] - 5s 24ms/sample - loss: 1.3104 - acc: 0.4392 - val_loss: 1.4564 - val_acc: 0.3125\n",
            "Epoch 4/30\n",
            "189/189 [==============================] - 5s 24ms/sample - loss: 1.1591 - acc: 0.4709 - val_loss: 1.4067 - val_acc: 0.3333\n",
            "Epoch 5/30\n",
            "189/189 [==============================] - 5s 24ms/sample - loss: 1.0117 - acc: 0.5608 - val_loss: 1.3620 - val_acc: 0.3750\n",
            "Epoch 6/30\n",
            "189/189 [==============================] - 5s 24ms/sample - loss: 0.9220 - acc: 0.6349 - val_loss: 1.4204 - val_acc: 0.2917\n",
            "Epoch 7/30\n",
            "189/189 [==============================] - 5s 24ms/sample - loss: 0.8833 - acc: 0.6508 - val_loss: 1.3957 - val_acc: 0.3750\n",
            "Epoch 8/30\n",
            "189/189 [==============================] - 5s 24ms/sample - loss: 0.7919 - acc: 0.7037 - val_loss: 1.4347 - val_acc: 0.3958\n",
            "Epoch 9/30\n",
            "189/189 [==============================] - 5s 24ms/sample - loss: 0.7414 - acc: 0.7354 - val_loss: 1.3721 - val_acc: 0.3542\n",
            "Epoch 10/30\n",
            "189/189 [==============================] - 5s 24ms/sample - loss: 0.6471 - acc: 0.7989 - val_loss: 1.3719 - val_acc: 0.3958\n",
            "Epoch 11/30\n",
            "189/189 [==============================] - 5s 24ms/sample - loss: 0.6032 - acc: 0.8148 - val_loss: 1.3342 - val_acc: 0.4375\n",
            "Epoch 12/30\n",
            "189/189 [==============================] - 5s 24ms/sample - loss: 0.5176 - acc: 0.8783 - val_loss: 1.2487 - val_acc: 0.4375\n",
            "Epoch 13/30\n",
            "189/189 [==============================] - 5s 24ms/sample - loss: 0.4752 - acc: 0.9153 - val_loss: 1.3855 - val_acc: 0.4167\n",
            "Epoch 14/30\n",
            "189/189 [==============================] - 5s 24ms/sample - loss: 0.4450 - acc: 0.9365 - val_loss: 1.1852 - val_acc: 0.5208\n",
            "Epoch 15/30\n",
            "189/189 [==============================] - 5s 24ms/sample - loss: 0.3724 - acc: 0.9630 - val_loss: 1.1964 - val_acc: 0.5000\n",
            "Epoch 16/30\n",
            "189/189 [==============================] - 5s 24ms/sample - loss: 0.3397 - acc: 0.9630 - val_loss: 1.2075 - val_acc: 0.5000\n",
            "Epoch 17/30\n",
            "189/189 [==============================] - 5s 24ms/sample - loss: 0.2860 - acc: 0.9735 - val_loss: 1.1246 - val_acc: 0.5625\n",
            "Epoch 18/30\n",
            "189/189 [==============================] - 5s 24ms/sample - loss: 0.2610 - acc: 0.9788 - val_loss: 1.1734 - val_acc: 0.4792\n",
            "Epoch 19/30\n",
            "189/189 [==============================] - 5s 24ms/sample - loss: 0.2400 - acc: 0.9788 - val_loss: 1.0782 - val_acc: 0.5833\n",
            "Epoch 20/30\n",
            "189/189 [==============================] - 5s 24ms/sample - loss: 0.2078 - acc: 0.9841 - val_loss: 1.1149 - val_acc: 0.5208\n",
            "Epoch 21/30\n",
            "189/189 [==============================] - 5s 24ms/sample - loss: 0.1806 - acc: 1.0000 - val_loss: 1.0989 - val_acc: 0.5833\n",
            "Epoch 22/30\n",
            "189/189 [==============================] - 5s 24ms/sample - loss: 0.1604 - acc: 1.0000 - val_loss: 1.0542 - val_acc: 0.6042\n",
            "Epoch 23/30\n",
            "189/189 [==============================] - 5s 24ms/sample - loss: 0.1484 - acc: 0.9947 - val_loss: 1.0951 - val_acc: 0.6250\n",
            "Epoch 24/30\n",
            "189/189 [==============================] - 5s 24ms/sample - loss: 0.1324 - acc: 1.0000 - val_loss: 1.0555 - val_acc: 0.5833\n",
            "Epoch 25/30\n",
            "189/189 [==============================] - 5s 24ms/sample - loss: 0.1261 - acc: 1.0000 - val_loss: 1.0375 - val_acc: 0.5833\n",
            "Epoch 26/30\n",
            "189/189 [==============================] - 5s 24ms/sample - loss: 0.1114 - acc: 0.9947 - val_loss: 1.0796 - val_acc: 0.5625\n",
            "Epoch 27/30\n",
            "189/189 [==============================] - 5s 24ms/sample - loss: 0.1079 - acc: 1.0000 - val_loss: 1.0609 - val_acc: 0.6042\n",
            "Epoch 28/30\n",
            "189/189 [==============================] - 5s 24ms/sample - loss: 0.0883 - acc: 1.0000 - val_loss: 1.0515 - val_acc: 0.5625\n",
            "Epoch 29/30\n",
            "189/189 [==============================] - 5s 24ms/sample - loss: 0.0831 - acc: 1.0000 - val_loss: 1.0593 - val_acc: 0.5833\n",
            "Epoch 30/30\n",
            "189/189 [==============================] - 5s 24ms/sample - loss: 0.0751 - acc: 1.0000 - val_loss: 1.0081 - val_acc: 0.6458\n",
            "\n",
            "\n",
            " Now Evaluating on Single Person test set\n",
            "50/50 [==============================] - 0s 9ms/sample - loss: 1.2226 - acc: 0.5800\n",
            "\n",
            "\n",
            " Now Evaluating on Entire test set\n",
            "443/443 [==============================] - 4s 9ms/sample - loss: 2.5148 - acc: 0.3770\n"
          ],
          "name": "stdout"
        },
        {
          "output_type": "execute_result",
          "data": {
            "text/plain": [
              "[2.5148295408985146, 0.37697518]"
            ]
          },
          "metadata": {
            "tags": []
          },
          "execution_count": 32
        }
      ]
    },
    {
      "cell_type": "code",
      "metadata": {
        "id": "1PfsMA5KxT7N",
        "colab_type": "code",
        "colab": {
          "base_uri": "https://localhost:8080/",
          "height": 1000
        },
        "outputId": "f9ae796b-b9b9-4554-ce64-de6d66f680a8"
      },
      "source": [
        "person_num = 1\n",
        "indices_train_valid = np.where(person_train_valid == person_num)[0]\n",
        "indices_test = np.where(person_test == person_num)[0]\n",
        "\n",
        "single_person_X_train_valid = X_train_valid[indices_train_valid]\n",
        "single_person_y_train_valid = y_train_valid[indices_train_valid]\n",
        "\n",
        "perm = np.random.permutation(single_person_X_train_valid.shape[0])\n",
        "num_train = int(0.8 * single_person_X_train_valid.shape[0])\n",
        "num_valid = single_person_X_train_valid.shape[0] - num_train\n",
        "single_person_X_train =  single_person_X_train_valid[perm[0:num_train]]\n",
        "single_person_y_train =  single_person_y_train_valid[perm[0:num_train]]\n",
        "single_person_X_valid = single_person_X_train_valid[perm[num_train: ]]\n",
        "single_person_y_valid = single_person_y_train_valid[perm[num_train: ]]\n",
        "\n",
        "single_person_X_test = X_test[indices_test]\n",
        "single_person_y_test = y_test[indices_test]\n",
        "\n",
        "\n",
        "print(\"Training data shape for 1 person: {}\".format(single_person_X_train.shape))\n",
        "print(\"Training label shape for 1 person: {}\".format(single_person_y_train.shape))\n",
        "print(\"Validation data shape for 1 person: {}\".format(single_person_X_valid.shape))\n",
        "print(\"Validation label shape for 1 person: {}\".format(single_person_y_valid.shape))\n",
        "print(\"Test data shape for 1 person: {}\".format(single_person_X_test.shape))\n",
        "print(\"Test label shape for 1 person: {}\".format(single_person_y_test.shape))\n",
        "\n",
        "TIME_WINDOW = 700\n",
        "TIME_STRIDE = 1000\n",
        "\n",
        "# cut the slices\n",
        "X_train_slices, y_train_slices = sliding_window(single_person_X_train, \n",
        "                                                single_person_y_train, \n",
        "                                                time_window=TIME_WINDOW,  \n",
        "                                                time_stride=TIME_STRIDE)\n",
        "\n",
        "\n",
        "X_valid_slices, y_valid_slices = sliding_window(single_person_X_valid, \n",
        "                                                single_person_y_valid, \n",
        "                                                time_window=TIME_WINDOW, \n",
        "                                                time_stride=TIME_STRIDE)\n",
        "\n",
        "shallow_model_600 = construct_shallow_model(TIME_WINDOW)\n",
        "shallow_model_600.compile(\"adam\", \"sparse_categorical_crossentropy\", metrics=[\"acc\"])\n",
        "\n",
        "shallow_model_600.fit(X_train_slices, y_train_slices,\n",
        "                      validation_data = (X_valid_slices, y_valid_slices),\n",
        "                      epochs = 30)\n",
        "\n",
        "X_test_slices, y_test_slices = sliding_window(single_person_X_test, \n",
        "                                              single_person_y_test, \n",
        "                                              time_window=700, \n",
        "                                              time_stride=TIME_STRIDE)\n",
        "\n",
        "\n",
        "X_overall_test_slices, y_overall_test_slices = sliding_window(X_test, \n",
        "                                              y_test, \n",
        "                                              time_window=700, \n",
        "                                              time_stride=TIME_STRIDE)\n",
        "\n",
        "print(\"\\n\\n Now Evaluating on Single Person test set\")\n",
        "\n",
        "shallow_model_600.evaluate(X_test_slices, y_test_slices)\n",
        "\n",
        "print(\"\\n\\n Now Evaluating on Entire test set\")\n",
        "\n",
        "shallow_model_600.evaluate(X_overall_test_slices, y_overall_test_slices)"
      ],
      "execution_count": 33,
      "outputs": [
        {
          "output_type": "stream",
          "text": [
            "Training data shape for 1 person: (188, 22, 1000)\n",
            "Training label shape for 1 person: (188,)\n",
            "Validation data shape for 1 person: (48, 22, 1000)\n",
            "Validation label shape for 1 person: (48,)\n",
            "Test data shape for 1 person: (50, 22, 1000)\n",
            "Test label shape for 1 person: (50,)\n",
            "Train on 188 samples, validate on 48 samples\n",
            "Epoch 1/30\n",
            "188/188 [==============================] - 5s 25ms/sample - loss: 3.1208 - acc: 0.2713 - val_loss: 2.6340 - val_acc: 0.3333\n",
            "Epoch 2/30\n",
            "188/188 [==============================] - 5s 24ms/sample - loss: 2.3113 - acc: 0.2606 - val_loss: 2.3137 - val_acc: 0.1250\n",
            "Epoch 3/30\n",
            "188/188 [==============================] - 5s 24ms/sample - loss: 1.6743 - acc: 0.3617 - val_loss: 2.3466 - val_acc: 0.2500\n",
            "Epoch 4/30\n",
            "188/188 [==============================] - 5s 24ms/sample - loss: 1.3253 - acc: 0.4628 - val_loss: 1.6130 - val_acc: 0.2708\n",
            "Epoch 5/30\n",
            "188/188 [==============================] - 5s 25ms/sample - loss: 1.2444 - acc: 0.4574 - val_loss: 1.5886 - val_acc: 0.2708\n",
            "Epoch 6/30\n",
            "188/188 [==============================] - 5s 24ms/sample - loss: 1.1092 - acc: 0.5319 - val_loss: 1.7580 - val_acc: 0.2292\n",
            "Epoch 7/30\n",
            "188/188 [==============================] - 5s 24ms/sample - loss: 1.0325 - acc: 0.5532 - val_loss: 1.6055 - val_acc: 0.2708\n",
            "Epoch 8/30\n",
            "188/188 [==============================] - 5s 24ms/sample - loss: 0.9466 - acc: 0.6170 - val_loss: 1.5686 - val_acc: 0.3125\n",
            "Epoch 9/30\n",
            "188/188 [==============================] - 5s 24ms/sample - loss: 0.8887 - acc: 0.6223 - val_loss: 1.6168 - val_acc: 0.2500\n",
            "Epoch 10/30\n",
            "188/188 [==============================] - 5s 24ms/sample - loss: 0.8408 - acc: 0.6968 - val_loss: 1.6042 - val_acc: 0.2708\n",
            "Epoch 11/30\n",
            "188/188 [==============================] - 5s 24ms/sample - loss: 0.7886 - acc: 0.7394 - val_loss: 1.5537 - val_acc: 0.2917\n",
            "Epoch 12/30\n",
            "188/188 [==============================] - 5s 24ms/sample - loss: 0.7678 - acc: 0.7021 - val_loss: 1.5973 - val_acc: 0.2500\n",
            "Epoch 13/30\n",
            "188/188 [==============================] - 4s 24ms/sample - loss: 0.7246 - acc: 0.7606 - val_loss: 1.5303 - val_acc: 0.2917\n",
            "Epoch 14/30\n",
            "188/188 [==============================] - 5s 24ms/sample - loss: 0.6820 - acc: 0.7979 - val_loss: 1.6077 - val_acc: 0.2708\n",
            "Epoch 15/30\n",
            "188/188 [==============================] - 5s 24ms/sample - loss: 0.6445 - acc: 0.8404 - val_loss: 1.5494 - val_acc: 0.2708\n",
            "Epoch 16/30\n",
            "188/188 [==============================] - 5s 24ms/sample - loss: 0.6456 - acc: 0.8032 - val_loss: 1.5838 - val_acc: 0.2917\n",
            "Epoch 17/30\n",
            "188/188 [==============================] - 5s 24ms/sample - loss: 0.5970 - acc: 0.8723 - val_loss: 1.5813 - val_acc: 0.2917\n",
            "Epoch 18/30\n",
            "188/188 [==============================] - 5s 24ms/sample - loss: 0.5679 - acc: 0.8617 - val_loss: 1.5580 - val_acc: 0.3125\n",
            "Epoch 19/30\n",
            "188/188 [==============================] - 5s 24ms/sample - loss: 0.5419 - acc: 0.8670 - val_loss: 1.5973 - val_acc: 0.2917\n",
            "Epoch 20/30\n",
            "188/188 [==============================] - 5s 24ms/sample - loss: 0.5475 - acc: 0.8351 - val_loss: 1.5825 - val_acc: 0.3958\n",
            "Epoch 21/30\n",
            "188/188 [==============================] - 5s 24ms/sample - loss: 0.5434 - acc: 0.8404 - val_loss: 1.5590 - val_acc: 0.2917\n",
            "Epoch 22/30\n",
            "188/188 [==============================] - 5s 24ms/sample - loss: 0.5261 - acc: 0.8564 - val_loss: 1.5245 - val_acc: 0.3750\n",
            "Epoch 23/30\n",
            "188/188 [==============================] - 5s 24ms/sample - loss: 0.5005 - acc: 0.8723 - val_loss: 1.5671 - val_acc: 0.3333\n",
            "Epoch 24/30\n",
            "188/188 [==============================] - 5s 24ms/sample - loss: 0.4641 - acc: 0.8989 - val_loss: 1.5430 - val_acc: 0.3333\n",
            "Epoch 25/30\n",
            "188/188 [==============================] - 5s 24ms/sample - loss: 0.3746 - acc: 0.9628 - val_loss: 1.5522 - val_acc: 0.3750\n",
            "Epoch 26/30\n",
            "188/188 [==============================] - 5s 24ms/sample - loss: 0.3576 - acc: 0.9574 - val_loss: 1.5135 - val_acc: 0.3750\n",
            "Epoch 27/30\n",
            "188/188 [==============================] - 5s 24ms/sample - loss: 0.3457 - acc: 0.9574 - val_loss: 1.5550 - val_acc: 0.3542\n",
            "Epoch 28/30\n",
            "188/188 [==============================] - 5s 24ms/sample - loss: 0.3270 - acc: 0.9574 - val_loss: 1.5428 - val_acc: 0.3750\n",
            "Epoch 29/30\n",
            "188/188 [==============================] - 5s 24ms/sample - loss: 0.2967 - acc: 0.9787 - val_loss: 1.5307 - val_acc: 0.3958\n",
            "Epoch 30/30\n",
            "188/188 [==============================] - 5s 24ms/sample - loss: 0.2678 - acc: 0.9840 - val_loss: 1.5343 - val_acc: 0.4167\n",
            "\n",
            "\n",
            " Now Evaluating on Single Person test set\n",
            "50/50 [==============================] - 0s 9ms/sample - loss: 1.5447 - acc: 0.4200\n",
            "\n",
            "\n",
            " Now Evaluating on Entire test set\n",
            "443/443 [==============================] - 4s 9ms/sample - loss: 2.0251 - acc: 0.3454\n"
          ],
          "name": "stdout"
        },
        {
          "output_type": "execute_result",
          "data": {
            "text/plain": [
              "[2.025113485198527, 0.34537247]"
            ]
          },
          "metadata": {
            "tags": []
          },
          "execution_count": 33
        }
      ]
    },
    {
      "cell_type": "code",
      "metadata": {
        "id": "4zqtV-_IxVnB",
        "colab_type": "code",
        "colab": {
          "base_uri": "https://localhost:8080/",
          "height": 1000
        },
        "outputId": "c1782109-d6bb-403b-a4c3-42b757cf4cc5"
      },
      "source": [
        "person_num = 2\n",
        "indices_train_valid = np.where(person_train_valid == person_num)[0]\n",
        "indices_test = np.where(person_test == person_num)[0]\n",
        "\n",
        "single_person_X_train_valid = X_train_valid[indices_train_valid]\n",
        "single_person_y_train_valid = y_train_valid[indices_train_valid]\n",
        "\n",
        "perm = np.random.permutation(single_person_X_train_valid.shape[0])\n",
        "num_train = int(0.8 * single_person_X_train_valid.shape[0])\n",
        "num_valid = single_person_X_train_valid.shape[0] - num_train\n",
        "single_person_X_train =  single_person_X_train_valid[perm[0:num_train]]\n",
        "single_person_y_train =  single_person_y_train_valid[perm[0:num_train]]\n",
        "single_person_X_valid = single_person_X_train_valid[perm[num_train: ]]\n",
        "single_person_y_valid = single_person_y_train_valid[perm[num_train: ]]\n",
        "\n",
        "single_person_X_test = X_test[indices_test]\n",
        "single_person_y_test = y_test[indices_test]\n",
        "\n",
        "\n",
        "print(\"Training data shape for 1 person: {}\".format(single_person_X_train.shape))\n",
        "print(\"Training label shape for 1 person: {}\".format(single_person_y_train.shape))\n",
        "print(\"Validation data shape for 1 person: {}\".format(single_person_X_valid.shape))\n",
        "print(\"Validation label shape for 1 person: {}\".format(single_person_y_valid.shape))\n",
        "print(\"Test data shape for 1 person: {}\".format(single_person_X_test.shape))\n",
        "print(\"Test label shape for 1 person: {}\".format(single_person_y_test.shape))\n",
        "\n",
        "TIME_WINDOW = 700\n",
        "TIME_STRIDE = 1000\n",
        "\n",
        "# cut the slices\n",
        "X_train_slices, y_train_slices = sliding_window(single_person_X_train, \n",
        "                                                single_person_y_train, \n",
        "                                                time_window=TIME_WINDOW,  \n",
        "                                                time_stride=TIME_STRIDE)\n",
        "\n",
        "\n",
        "X_valid_slices, y_valid_slices = sliding_window(single_person_X_valid, \n",
        "                                                single_person_y_valid, \n",
        "                                                time_window=TIME_WINDOW, \n",
        "                                                time_stride=TIME_STRIDE)\n",
        "\n",
        "shallow_model_600 = construct_shallow_model(TIME_WINDOW)\n",
        "shallow_model_600.compile(\"adam\", \"sparse_categorical_crossentropy\", metrics=[\"acc\"])\n",
        "\n",
        "shallow_model_600.fit(X_train_slices, y_train_slices,\n",
        "                      validation_data = (X_valid_slices, y_valid_slices),\n",
        "                      epochs = 30)\n",
        "\n",
        "X_test_slices, y_test_slices = sliding_window(single_person_X_test, \n",
        "                                              single_person_y_test, \n",
        "                                              time_window=700, \n",
        "                                              time_stride=TIME_STRIDE)\n",
        "\n",
        "\n",
        "X_overall_test_slices, y_overall_test_slices = sliding_window(X_test, \n",
        "                                              y_test, \n",
        "                                              time_window=700, \n",
        "                                              time_stride=TIME_STRIDE)\n",
        "\n",
        "print(\"\\n\\n Now Evaluating on Single Person test set\")\n",
        "\n",
        "shallow_model_600.evaluate(X_test_slices, y_test_slices)\n",
        "\n",
        "print(\"\\n\\n Now Evaluating on Entire test set\")\n",
        "\n",
        "shallow_model_600.evaluate(X_overall_test_slices, y_overall_test_slices)"
      ],
      "execution_count": 34,
      "outputs": [
        {
          "output_type": "stream",
          "text": [
            "Training data shape for 1 person: (188, 22, 1000)\n",
            "Training label shape for 1 person: (188,)\n",
            "Validation data shape for 1 person: (48, 22, 1000)\n",
            "Validation label shape for 1 person: (48,)\n",
            "Test data shape for 1 person: (50, 22, 1000)\n",
            "Test label shape for 1 person: (50,)\n",
            "Train on 188 samples, validate on 48 samples\n",
            "Epoch 1/30\n",
            "188/188 [==============================] - 5s 25ms/sample - loss: 2.7524 - acc: 0.2872 - val_loss: 2.2788 - val_acc: 0.2708\n",
            "Epoch 2/30\n",
            "188/188 [==============================] - 5s 24ms/sample - loss: 1.9187 - acc: 0.2500 - val_loss: 1.6657 - val_acc: 0.2292\n",
            "Epoch 3/30\n",
            "188/188 [==============================] - 5s 24ms/sample - loss: 1.3446 - acc: 0.3830 - val_loss: 1.3098 - val_acc: 0.3750\n",
            "Epoch 4/30\n",
            "188/188 [==============================] - 5s 24ms/sample - loss: 1.1472 - acc: 0.4574 - val_loss: 1.4003 - val_acc: 0.3333\n",
            "Epoch 5/30\n",
            "188/188 [==============================] - 5s 24ms/sample - loss: 1.0879 - acc: 0.5266 - val_loss: 1.2956 - val_acc: 0.3333\n",
            "Epoch 6/30\n",
            "188/188 [==============================] - 5s 24ms/sample - loss: 1.0077 - acc: 0.5851 - val_loss: 1.3013 - val_acc: 0.4167\n",
            "Epoch 7/30\n",
            "188/188 [==============================] - 5s 24ms/sample - loss: 0.8802 - acc: 0.6755 - val_loss: 1.3227 - val_acc: 0.3750\n",
            "Epoch 8/30\n",
            "188/188 [==============================] - 5s 24ms/sample - loss: 0.7955 - acc: 0.7340 - val_loss: 1.2807 - val_acc: 0.4375\n",
            "Epoch 9/30\n",
            "188/188 [==============================] - 5s 24ms/sample - loss: 0.7163 - acc: 0.7713 - val_loss: 1.2681 - val_acc: 0.4167\n",
            "Epoch 10/30\n",
            "188/188 [==============================] - 5s 24ms/sample - loss: 0.6490 - acc: 0.8351 - val_loss: 1.1817 - val_acc: 0.4167\n",
            "Epoch 11/30\n",
            "188/188 [==============================] - 5s 24ms/sample - loss: 0.5841 - acc: 0.8723 - val_loss: 1.1933 - val_acc: 0.4792\n",
            "Epoch 12/30\n",
            "188/188 [==============================] - 5s 24ms/sample - loss: 0.5191 - acc: 0.8830 - val_loss: 1.1615 - val_acc: 0.4792\n",
            "Epoch 13/30\n",
            "188/188 [==============================] - 5s 24ms/sample - loss: 0.4848 - acc: 0.8936 - val_loss: 1.2275 - val_acc: 0.5000\n",
            "Epoch 14/30\n",
            "188/188 [==============================] - 5s 24ms/sample - loss: 0.3923 - acc: 0.9309 - val_loss: 1.2050 - val_acc: 0.5208\n",
            "Epoch 15/30\n",
            "188/188 [==============================] - 5s 24ms/sample - loss: 0.3601 - acc: 0.9362 - val_loss: 1.1333 - val_acc: 0.5000\n",
            "Epoch 16/30\n",
            "188/188 [==============================] - 5s 24ms/sample - loss: 0.3260 - acc: 0.9521 - val_loss: 1.1193 - val_acc: 0.5208\n",
            "Epoch 17/30\n",
            "188/188 [==============================] - 5s 24ms/sample - loss: 0.2673 - acc: 0.9787 - val_loss: 1.1105 - val_acc: 0.5208\n",
            "Epoch 18/30\n",
            "188/188 [==============================] - 5s 24ms/sample - loss: 0.2460 - acc: 0.9787 - val_loss: 1.1782 - val_acc: 0.5208\n",
            "Epoch 19/30\n",
            "188/188 [==============================] - 5s 24ms/sample - loss: 0.2147 - acc: 0.9894 - val_loss: 1.1365 - val_acc: 0.5417\n",
            "Epoch 20/30\n",
            "188/188 [==============================] - 5s 24ms/sample - loss: 0.1947 - acc: 0.9894 - val_loss: 1.0746 - val_acc: 0.5833\n",
            "Epoch 21/30\n",
            "188/188 [==============================] - 5s 24ms/sample - loss: 0.1625 - acc: 1.0000 - val_loss: 1.0776 - val_acc: 0.5625\n",
            "Epoch 22/30\n",
            "188/188 [==============================] - 5s 24ms/sample - loss: 0.1397 - acc: 1.0000 - val_loss: 1.0771 - val_acc: 0.5833\n",
            "Epoch 23/30\n",
            "188/188 [==============================] - 5s 24ms/sample - loss: 0.1251 - acc: 1.0000 - val_loss: 1.0708 - val_acc: 0.6042\n",
            "Epoch 24/30\n",
            "188/188 [==============================] - 5s 24ms/sample - loss: 0.1137 - acc: 1.0000 - val_loss: 1.0381 - val_acc: 0.6042\n",
            "Epoch 25/30\n",
            "188/188 [==============================] - 5s 24ms/sample - loss: 0.1022 - acc: 1.0000 - val_loss: 1.0643 - val_acc: 0.6250\n",
            "Epoch 26/30\n",
            "188/188 [==============================] - 5s 24ms/sample - loss: 0.0882 - acc: 1.0000 - val_loss: 1.0397 - val_acc: 0.6250\n",
            "Epoch 27/30\n",
            "188/188 [==============================] - 5s 24ms/sample - loss: 0.0823 - acc: 1.0000 - val_loss: 1.0347 - val_acc: 0.6250\n",
            "Epoch 28/30\n",
            "188/188 [==============================] - 5s 24ms/sample - loss: 0.0752 - acc: 1.0000 - val_loss: 1.0122 - val_acc: 0.6042\n",
            "Epoch 29/30\n",
            "188/188 [==============================] - 5s 24ms/sample - loss: 0.0719 - acc: 1.0000 - val_loss: 1.0872 - val_acc: 0.6250\n",
            "Epoch 30/30\n",
            "188/188 [==============================] - 5s 24ms/sample - loss: 0.0658 - acc: 1.0000 - val_loss: 1.0421 - val_acc: 0.6250\n",
            "\n",
            "\n",
            " Now Evaluating on Single Person test set\n",
            "50/50 [==============================] - 0s 9ms/sample - loss: 0.6122 - acc: 0.8400\n",
            "\n",
            "\n",
            " Now Evaluating on Entire test set\n",
            "443/443 [==============================] - 4s 9ms/sample - loss: 2.3736 - acc: 0.3747\n"
          ],
          "name": "stdout"
        },
        {
          "output_type": "execute_result",
          "data": {
            "text/plain": [
              "[2.373615053921736, 0.37471783]"
            ]
          },
          "metadata": {
            "tags": []
          },
          "execution_count": 34
        }
      ]
    },
    {
      "cell_type": "code",
      "metadata": {
        "id": "DYsyHvskym5f",
        "colab_type": "code",
        "colab": {
          "base_uri": "https://localhost:8080/",
          "height": 1000
        },
        "outputId": "c8b89be6-dada-43ac-805f-5fd6f5d2982f"
      },
      "source": [
        "person_num = 3\n",
        "indices_train_valid = np.where(person_train_valid == person_num)[0]\n",
        "indices_test = np.where(person_test == person_num)[0]\n",
        "\n",
        "single_person_X_train_valid = X_train_valid[indices_train_valid]\n",
        "single_person_y_train_valid = y_train_valid[indices_train_valid]\n",
        "\n",
        "perm = np.random.permutation(single_person_X_train_valid.shape[0])\n",
        "num_train = int(0.8 * single_person_X_train_valid.shape[0])\n",
        "num_valid = single_person_X_train_valid.shape[0] - num_train\n",
        "single_person_X_train =  single_person_X_train_valid[perm[0:num_train]]\n",
        "single_person_y_train =  single_person_y_train_valid[perm[0:num_train]]\n",
        "single_person_X_valid = single_person_X_train_valid[perm[num_train: ]]\n",
        "single_person_y_valid = single_person_y_train_valid[perm[num_train: ]]\n",
        "\n",
        "single_person_X_test = X_test[indices_test]\n",
        "single_person_y_test = y_test[indices_test]\n",
        "\n",
        "\n",
        "print(\"Training data shape for 1 person: {}\".format(single_person_X_train.shape))\n",
        "print(\"Training label shape for 1 person: {}\".format(single_person_y_train.shape))\n",
        "print(\"Validation data shape for 1 person: {}\".format(single_person_X_valid.shape))\n",
        "print(\"Validation label shape for 1 person: {}\".format(single_person_y_valid.shape))\n",
        "print(\"Test data shape for 1 person: {}\".format(single_person_X_test.shape))\n",
        "print(\"Test label shape for 1 person: {}\".format(single_person_y_test.shape))\n",
        "\n",
        "TIME_WINDOW = 700\n",
        "TIME_STRIDE = 1000\n",
        "\n",
        "# cut the slices\n",
        "X_train_slices, y_train_slices = sliding_window(single_person_X_train, \n",
        "                                                single_person_y_train, \n",
        "                                                time_window=TIME_WINDOW,  \n",
        "                                                time_stride=TIME_STRIDE)\n",
        "\n",
        "\n",
        "X_valid_slices, y_valid_slices = sliding_window(single_person_X_valid, \n",
        "                                                single_person_y_valid, \n",
        "                                                time_window=TIME_WINDOW, \n",
        "                                                time_stride=TIME_STRIDE)\n",
        "\n",
        "shallow_model_600 = construct_shallow_model(TIME_WINDOW)\n",
        "shallow_model_600.compile(\"adam\", \"sparse_categorical_crossentropy\", metrics=[\"acc\"])\n",
        "\n",
        "shallow_model_600.fit(X_train_slices, y_train_slices,\n",
        "                      validation_data = (X_valid_slices, y_valid_slices),\n",
        "                      epochs = 30)\n",
        "\n",
        "X_test_slices, y_test_slices = sliding_window(single_person_X_test, \n",
        "                                              single_person_y_test, \n",
        "                                              time_window=700, \n",
        "                                              time_stride=TIME_STRIDE)\n",
        "\n",
        "\n",
        "X_overall_test_slices, y_overall_test_slices = sliding_window(X_test, \n",
        "                                              y_test, \n",
        "                                              time_window=700, \n",
        "                                              time_stride=TIME_STRIDE)\n",
        "\n",
        "print(\"\\n\\n Now Evaluating on Single Person test set\")\n",
        "\n",
        "shallow_model_600.evaluate(X_test_slices, y_test_slices)\n",
        "\n",
        "print(\"\\n\\n Now Evaluating on Entire test set\")\n",
        "\n",
        "shallow_model_600.evaluate(X_overall_test_slices, y_overall_test_slices)"
      ],
      "execution_count": 35,
      "outputs": [
        {
          "output_type": "stream",
          "text": [
            "Training data shape for 1 person: (187, 22, 1000)\n",
            "Training label shape for 1 person: (187,)\n",
            "Validation data shape for 1 person: (47, 22, 1000)\n",
            "Validation label shape for 1 person: (47,)\n",
            "Test data shape for 1 person: (50, 22, 1000)\n",
            "Test label shape for 1 person: (50,)\n",
            "Train on 187 samples, validate on 47 samples\n",
            "Epoch 1/30\n",
            "187/187 [==============================] - 5s 25ms/sample - loss: 2.5486 - acc: 0.2888 - val_loss: 2.2238 - val_acc: 0.2766\n",
            "Epoch 2/30\n",
            "187/187 [==============================] - 5s 24ms/sample - loss: 1.7545 - acc: 0.3048 - val_loss: 1.5408 - val_acc: 0.2979\n",
            "Epoch 3/30\n",
            "187/187 [==============================] - 5s 24ms/sample - loss: 1.2654 - acc: 0.4332 - val_loss: 1.4626 - val_acc: 0.3830\n",
            "Epoch 4/30\n",
            "187/187 [==============================] - 5s 24ms/sample - loss: 1.1157 - acc: 0.5348 - val_loss: 1.3306 - val_acc: 0.4043\n",
            "Epoch 5/30\n",
            "187/187 [==============================] - 5s 24ms/sample - loss: 0.9924 - acc: 0.5615 - val_loss: 1.3415 - val_acc: 0.4043\n",
            "Epoch 6/30\n",
            "187/187 [==============================] - 5s 24ms/sample - loss: 0.9096 - acc: 0.6203 - val_loss: 1.3147 - val_acc: 0.3830\n",
            "Epoch 7/30\n",
            "187/187 [==============================] - 5s 24ms/sample - loss: 0.8432 - acc: 0.7059 - val_loss: 1.3067 - val_acc: 0.4255\n",
            "Epoch 8/30\n",
            "187/187 [==============================] - 5s 24ms/sample - loss: 0.7602 - acc: 0.7380 - val_loss: 1.3054 - val_acc: 0.4468\n",
            "Epoch 9/30\n",
            "187/187 [==============================] - 5s 24ms/sample - loss: 0.6992 - acc: 0.7861 - val_loss: 1.3189 - val_acc: 0.4894\n",
            "Epoch 10/30\n",
            "187/187 [==============================] - 5s 25ms/sample - loss: 0.6704 - acc: 0.8235 - val_loss: 1.2534 - val_acc: 0.4681\n",
            "Epoch 11/30\n",
            "187/187 [==============================] - 5s 24ms/sample - loss: 0.6253 - acc: 0.8449 - val_loss: 1.2532 - val_acc: 0.4894\n",
            "Epoch 12/30\n",
            "187/187 [==============================] - 5s 24ms/sample - loss: 0.5633 - acc: 0.8930 - val_loss: 1.2825 - val_acc: 0.5106\n",
            "Epoch 13/30\n",
            "187/187 [==============================] - 4s 24ms/sample - loss: 0.5148 - acc: 0.9198 - val_loss: 1.2887 - val_acc: 0.4894\n",
            "Epoch 14/30\n",
            "187/187 [==============================] - 4s 24ms/sample - loss: 0.4839 - acc: 0.9144 - val_loss: 1.2716 - val_acc: 0.5319\n",
            "Epoch 15/30\n",
            "187/187 [==============================] - 4s 24ms/sample - loss: 0.4305 - acc: 0.9358 - val_loss: 1.2630 - val_acc: 0.4894\n",
            "Epoch 16/30\n",
            "187/187 [==============================] - 4s 24ms/sample - loss: 0.3838 - acc: 0.9679 - val_loss: 1.2752 - val_acc: 0.5319\n",
            "Epoch 17/30\n",
            "187/187 [==============================] - 4s 24ms/sample - loss: 0.3453 - acc: 0.9786 - val_loss: 1.2890 - val_acc: 0.4255\n",
            "Epoch 18/30\n",
            "187/187 [==============================] - 5s 24ms/sample - loss: 0.3152 - acc: 0.9893 - val_loss: 1.2780 - val_acc: 0.5319\n",
            "Epoch 19/30\n",
            "187/187 [==============================] - 5s 24ms/sample - loss: 0.2841 - acc: 0.9840 - val_loss: 1.2709 - val_acc: 0.5106\n",
            "Epoch 20/30\n",
            "187/187 [==============================] - 5s 24ms/sample - loss: 0.2624 - acc: 0.9893 - val_loss: 1.2912 - val_acc: 0.5319\n",
            "Epoch 21/30\n",
            "187/187 [==============================] - 4s 24ms/sample - loss: 0.2363 - acc: 0.9893 - val_loss: 1.2788 - val_acc: 0.5532\n",
            "Epoch 22/30\n",
            "187/187 [==============================] - 4s 24ms/sample - loss: 0.2099 - acc: 0.9947 - val_loss: 1.2825 - val_acc: 0.4894\n",
            "Epoch 23/30\n",
            "187/187 [==============================] - 4s 24ms/sample - loss: 0.1999 - acc: 1.0000 - val_loss: 1.2857 - val_acc: 0.5319\n",
            "Epoch 24/30\n",
            "187/187 [==============================] - 4s 24ms/sample - loss: 0.1719 - acc: 1.0000 - val_loss: 1.3788 - val_acc: 0.4894\n",
            "Epoch 25/30\n",
            "187/187 [==============================] - 4s 24ms/sample - loss: 0.1614 - acc: 0.9947 - val_loss: 1.3089 - val_acc: 0.5319\n",
            "Epoch 26/30\n",
            "187/187 [==============================] - 4s 24ms/sample - loss: 0.1430 - acc: 1.0000 - val_loss: 1.3386 - val_acc: 0.5106\n",
            "Epoch 27/30\n",
            "187/187 [==============================] - 4s 24ms/sample - loss: 0.1395 - acc: 1.0000 - val_loss: 1.3277 - val_acc: 0.5106\n",
            "Epoch 28/30\n",
            "187/187 [==============================] - 4s 24ms/sample - loss: 0.1181 - acc: 1.0000 - val_loss: 1.3241 - val_acc: 0.5319\n",
            "Epoch 29/30\n",
            "187/187 [==============================] - 4s 24ms/sample - loss: 0.1052 - acc: 1.0000 - val_loss: 1.3500 - val_acc: 0.5106\n",
            "Epoch 30/30\n",
            "187/187 [==============================] - 4s 24ms/sample - loss: 0.0934 - acc: 1.0000 - val_loss: 1.3634 - val_acc: 0.5319\n",
            "\n",
            "\n",
            " Now Evaluating on Single Person test set\n",
            "50/50 [==============================] - 0s 9ms/sample - loss: 1.3825 - acc: 0.4200\n",
            "\n",
            "\n",
            " Now Evaluating on Entire test set\n",
            "443/443 [==============================] - 4s 9ms/sample - loss: 2.0929 - acc: 0.3409\n"
          ],
          "name": "stdout"
        },
        {
          "output_type": "execute_result",
          "data": {
            "text/plain": [
              "[2.0928637211801773, 0.34085777]"
            ]
          },
          "metadata": {
            "tags": []
          },
          "execution_count": 35
        }
      ]
    },
    {
      "cell_type": "code",
      "metadata": {
        "id": "CUI4GO1i_58h",
        "colab_type": "code",
        "colab": {}
      },
      "source": [
        ""
      ],
      "execution_count": 0,
      "outputs": []
    }
  ]
}