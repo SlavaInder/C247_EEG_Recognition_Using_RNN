{
  "nbformat": 4,
  "nbformat_minor": 0,
  "metadata": {
    "kernelspec": {
      "display_name": "venv_C247",
      "language": "python",
      "name": "venv_c247"
    },
    "language_info": {
      "codemirror_mode": {
        "name": "ipython",
        "version": 2
      },
      "file_extension": ".py",
      "mimetype": "text/x-python",
      "name": "python",
      "nbconvert_exporter": "python",
      "pygments_lexer": "ipython2",
      "version": "2.7.16"
    },
    "varInspector": {
      "cols": {
        "lenName": 16,
        "lenType": 16,
        "lenVar": 40
      },
      "kernels_config": {
        "python": {
          "delete_cmd_postfix": "",
          "delete_cmd_prefix": "del ",
          "library": "var_list.py",
          "varRefreshCmd": "print(var_dic_list())"
        },
        "r": {
          "delete_cmd_postfix": ") ",
          "delete_cmd_prefix": "rm(",
          "library": "var_list.r",
          "varRefreshCmd": "cat(var_dic_list()) "
        }
      },
      "oldHeight": 654.545454,
      "position": {
        "height": "40px",
        "left": "266.375px",
        "right": "20px",
        "top": "2px",
        "width": "800px"
      },
      "types_to_exclude": [
        "module",
        "function",
        "builtin_function_or_method",
        "instance",
        "_Feature"
      ],
      "varInspector_section_display": "none",
      "window_display": false
    },
    "colab": {
      "name": "Single Person proper - Shallow CNN.ipynb",
      "provenance": [],
      "collapsed_sections": []
    }
  },
  "cells": [
    {
      "cell_type": "markdown",
      "metadata": {
        "id": "mI3bkjQUth9g",
        "colab_type": "text"
      },
      "source": [
        "# Description\n",
        "\n",
        "This architecture was described in \"Deep learning with convolutional neural networks for brain mapping and decoding of movement-related information from the human EEG\", by R. T. Schirrmeister et al, 2018. In this notebook we conduct experiments showing dependency between accuracy and the number of timestamps in a sample. "
      ]
    },
    {
      "cell_type": "markdown",
      "metadata": {
        "id": "giJ7VMQ1th9j",
        "colab_type": "text"
      },
      "source": [
        "# Set up the environment"
      ]
    },
    {
      "cell_type": "code",
      "metadata": {
        "id": "nRFMWH8mth9k",
        "colab_type": "code",
        "colab": {}
      },
      "source": [
        "%load_ext autoreload\n",
        "%autoreload 2\n",
        "%matplotlib inline"
      ],
      "execution_count": 0,
      "outputs": []
    },
    {
      "cell_type": "code",
      "metadata": {
        "id": "tKkMzgwDth9q",
        "colab_type": "code",
        "colab": {
          "base_uri": "https://localhost:8080/",
          "height": 63
        },
        "outputId": "1870dc6d-1868-4bc7-aad0-d00a9a09f978"
      },
      "source": [
        "from __future__ import absolute_import, division, print_function, unicode_literals\n",
        "\n",
        "# import tf\n",
        "import tensorflow as tf\n",
        "import tensorflow.keras as keras\n",
        "import tensorflow.keras.layers as layers\n",
        "import tensorflow.keras.backend as K\n",
        "\n",
        "# import os functions\n",
        "import os\n",
        "import time\n",
        "\n",
        "import numpy as np\n",
        "import matplotlib.pyplot as plt\n",
        "\n",
        "from IPython import display"
      ],
      "execution_count": 2,
      "outputs": [
        {
          "output_type": "display_data",
          "data": {
            "text/html": [
              "<p style=\"color: red;\">\n",
              "The default version of TensorFlow in Colab will soon switch to TensorFlow 2.x.<br>\n",
              "We recommend you <a href=\"https://www.tensorflow.org/guide/migrate\" target=\"_blank\">upgrade</a> now \n",
              "or ensure your notebook will continue to use TensorFlow 1.x via the <code>%tensorflow_version 1.x</code> magic:\n",
              "<a href=\"https://colab.research.google.com/notebooks/tensorflow_version.ipynb\" target=\"_blank\">more info</a>.</p>\n"
            ],
            "text/plain": [
              "<IPython.core.display.HTML object>"
            ]
          },
          "metadata": {
            "tags": []
          }
        }
      ]
    },
    {
      "cell_type": "code",
      "metadata": {
        "id": "dlJ_-3tgtmoY",
        "colab_type": "code",
        "colab": {
          "base_uri": "https://localhost:8080/",
          "height": 122
        },
        "outputId": "0e0044fd-8717-443d-eb2c-3924a4b14397"
      },
      "source": [
        "from google.colab import drive\n",
        "drive.mount('/content/drive')"
      ],
      "execution_count": 3,
      "outputs": [
        {
          "output_type": "stream",
          "text": [
            "Go to this URL in a browser: https://accounts.google.com/o/oauth2/auth?client_id=947318989803-6bn6qk8qdgf4n4g3pfee6491hc0brc4i.apps.googleusercontent.com&redirect_uri=urn%3aietf%3awg%3aoauth%3a2.0%3aoob&response_type=code&scope=email%20https%3a%2f%2fwww.googleapis.com%2fauth%2fdocs.test%20https%3a%2f%2fwww.googleapis.com%2fauth%2fdrive%20https%3a%2f%2fwww.googleapis.com%2fauth%2fdrive.photos.readonly%20https%3a%2f%2fwww.googleapis.com%2fauth%2fpeopleapi.readonly\n",
            "\n",
            "Enter your authorization code:\n",
            "··········\n",
            "Mounted at /content/drive\n"
          ],
          "name": "stdout"
        }
      ]
    },
    {
      "cell_type": "code",
      "metadata": {
        "id": "RT7ZZRUgtvS7",
        "colab_type": "code",
        "colab": {
          "base_uri": "https://localhost:8080/",
          "height": 34
        },
        "outputId": "c82b63de-325f-48f4-d9d3-18ae393c055d"
      },
      "source": [
        "cd 'drive/My Drive/147 Project'"
      ],
      "execution_count": 6,
      "outputs": [
        {
          "output_type": "stream",
          "text": [
            "/content/drive/My Drive/147 Project\n"
          ],
          "name": "stdout"
        }
      ]
    },
    {
      "cell_type": "markdown",
      "metadata": {
        "id": "y2fFfnISth9u",
        "colab_type": "text"
      },
      "source": [
        "# Load the data"
      ]
    },
    {
      "cell_type": "markdown",
      "metadata": {
        "id": "AbdpXxp4th9v",
        "colab_type": "text"
      },
      "source": [
        "### Read the files"
      ]
    },
    {
      "cell_type": "code",
      "metadata": {
        "id": "Bu_havgnth9x",
        "colab_type": "code",
        "colab": {}
      },
      "source": [
        "X_test = np.load(\"./EEG_data/X_test.npy\")\n",
        "y_test = np.load(\"./EEG_data/y_test.npy\") - 769\n",
        "person_train_valid = np.load(\"./EEG_data/person_train_valid.npy\")\n",
        "X_train_valid = np.load(\"./EEG_data/X_train_valid.npy\")\n",
        "y_train_valid = np.load(\"./EEG_data/y_train_valid.npy\") - 769\n",
        "person_test = np.load(\"./EEG_data/person_test.npy\")"
      ],
      "execution_count": 0,
      "outputs": []
    },
    {
      "cell_type": "markdown",
      "metadata": {
        "id": "S2JCvLEeth93",
        "colab_type": "text"
      },
      "source": [
        "### Shape of data"
      ]
    },
    {
      "cell_type": "code",
      "metadata": {
        "id": "pb28mX3Zth94",
        "colab_type": "code",
        "colab": {
          "base_uri": "https://localhost:8080/",
          "height": 119
        },
        "outputId": "8a0ad94e-b762-4ea3-cb37-5a138569e0a8"
      },
      "source": [
        "print(\"training/Valid data shape: {}\".format(X_train_valid.shape))       # training data of many persons\n",
        "print(\"Test data shape: {}\".format(X_test.shape))                        # test data of many persons\n",
        "print(\"Training/Valid target shape: {}\".format(y_train_valid.shape))     # training labels of many persons\n",
        "print(\"Test target shape: {}\".format(y_test.shape))                      # test labels of many persons\n",
        "print(\"Person train/valid  shape: {}\".format(person_train_valid.shape))  # which person correspond to the trail in test set\n",
        "print(\"Person test shape: {}\".format(person_test.shape))                 # which person correspond to the trail in test set"
      ],
      "execution_count": 8,
      "outputs": [
        {
          "output_type": "stream",
          "text": [
            "training/Valid data shape: (2115, 22, 1000)\n",
            "Test data shape: (443, 22, 1000)\n",
            "Training/Valid target shape: (2115,)\n",
            "Test target shape: (443,)\n",
            "Person train/valid  shape: (2115, 1)\n",
            "Person test shape: (443, 1)\n"
          ],
          "name": "stdout"
        }
      ]
    },
    {
      "cell_type": "markdown",
      "metadata": {
        "id": "J4G3MTC4th-A",
        "colab_type": "text"
      },
      "source": [
        "### divide dataset into training and validation"
      ]
    },
    {
      "cell_type": "code",
      "metadata": {
        "id": "JuXJgCQjth-B",
        "colab_type": "code",
        "colab": {
          "base_uri": "https://localhost:8080/",
          "height": 119
        },
        "outputId": "ce7da11f-9a18-4b2e-e829-825015eae3ef"
      },
      "source": [
        "perm = np.random.permutation(X_train_valid.shape[0])\n",
        "num_train = int(0.8 * X_train_valid.shape[0])\n",
        "num_valid = X_train_valid.shape[0] - num_train\n",
        "X_train =  X_train_valid[perm[0:num_train]]\n",
        "y_train =  y_train_valid[perm[0:num_train]]\n",
        "X_valid = X_train_valid[perm[num_train: ]]\n",
        "y_valid = y_train_valid[perm[num_train: ]]\n",
        "\n",
        "\n",
        "print(\"Training data shape: {}\".format(X_train.shape))\n",
        "print(\"Training label shape: {}\".format(y_train.shape))\n",
        "print(\"Validation data shape: {}\".format(X_valid.shape))\n",
        "print(\"Validation label shape: {}\".format(y_valid.shape))\n",
        "print(\"Test data shape: {}\".format(X_test.shape))\n",
        "print(\"Test label shape: {}\".format(y_test.shape))"
      ],
      "execution_count": 9,
      "outputs": [
        {
          "output_type": "stream",
          "text": [
            "Training data shape: (1692, 22, 1000)\n",
            "Training label shape: (1692,)\n",
            "Validation data shape: (423, 22, 1000)\n",
            "Validation label shape: (423,)\n",
            "Test data shape: (443, 22, 1000)\n",
            "Test label shape: (443,)\n"
          ],
          "name": "stdout"
        }
      ]
    },
    {
      "cell_type": "markdown",
      "metadata": {
        "id": "snvrU0t-th-E",
        "colab_type": "text"
      },
      "source": [
        "### Preprocess data"
      ]
    },
    {
      "cell_type": "code",
      "metadata": {
        "id": "5VvCis8-th-F",
        "colab_type": "code",
        "colab": {}
      },
      "source": [
        "def sliding_window(X_arr, y_arr, time_window=100, time_step=1, time_stride=1):\n",
        "    temp_x = np.moveaxis(X_arr, 2, 0)\n",
        "    temp_x = temp_x.astype(np.float32)\n",
        "    buff = []\n",
        "    \n",
        "    num_slices = (len(temp_x)-time_window*time_step) // time_stride + 1\n",
        "    \n",
        "    # get time slices for data\n",
        "    for i in range(num_slices):\n",
        "        buff.append(temp_x[i*time_stride:i*time_stride + time_window*time_step:time_step])\n",
        "        buff[i] = np.moveaxis(buff[i], 0, 2)\n",
        "        # uncomment this if additional dimension is needed\n",
        "        # buff[i] = buff[i].reshape(1, buff[i].shape[0], buff[i].shape[1], buff[i].shape[2])\n",
        "        \n",
        "    temp_x = np.concatenate(buff)\n",
        "        \n",
        "    # get time slice for labels\n",
        "    temp_y = np.ones((X_arr.shape[0],num_slices))\n",
        "    \n",
        "    for i in range(len(y_arr)):\n",
        "        temp_y[i] = temp_y[i] * y_arr[i]\n",
        "        \n",
        "    temp_y = temp_y.reshape((-1))\n",
        "    \n",
        "    return temp_x, temp_y"
      ],
      "execution_count": 0,
      "outputs": []
    },
    {
      "cell_type": "code",
      "metadata": {
        "id": "LNqtsiWjth-L",
        "colab_type": "code",
        "colab": {}
      },
      "source": [
        "def Ksquare(x):\n",
        "    return K.pow(x, 2)\n",
        "\n",
        "def Klog(x):\n",
        "    return K.log(x)"
      ],
      "execution_count": 0,
      "outputs": []
    },
    {
      "cell_type": "code",
      "metadata": {
        "id": "qEE4dZdpth-Q",
        "colab_type": "code",
        "colab": {}
      },
      "source": [
        "def construct_shallow_model(TIME_WINDOW):\n",
        "    # input\n",
        "    shallow_input = layers.Input(shape=(22, TIME_WINDOW))\n",
        "\n",
        "    # conv accross time domain\n",
        "    r1 = layers.Reshape((22, TIME_WINDOW, 1))(shallow_input)\n",
        "    c1 = layers.Conv2D(40, (1, 25), strides=(1, 1), activation=\"elu\")(r1)\n",
        "    new_size = TIME_WINDOW - 25 + 1\n",
        "    t1 = tf.keras.layers.Permute((2, 3, 1))(c1)\n",
        "    \n",
        "    \n",
        "    # conv accross time domain\n",
        "    r2 = layers.Reshape((new_size, 40*22, 1))(t1)\n",
        "    c2 = layers.Conv2D(40, (1, 40*22), strides=(1, 1), activation=\"elu\")(r2)\n",
        "\n",
        "    sq1 = layers.Activation(Ksquare)(c2)\n",
        "    r3 = layers.Reshape((new_size, 40, 1))(sq1)\n",
        "    apool1 = layers.AveragePooling2D(pool_size=(75, 1), strides=(15, 1))(r3)\n",
        "\n",
        "    log1 = layers.Activation(Klog)(apool1)\n",
        "    f1 = layers.Flatten()(log1)\n",
        "\n",
        "    # output\n",
        "    shallow_output = layers.Dense(4, activation=\"softmax\")(f1)\n",
        "    \n",
        "    return keras.Model(inputs = shallow_input, outputs = shallow_output)"
      ],
      "execution_count": 0,
      "outputs": []
    },
    {
      "cell_type": "markdown",
      "metadata": {
        "id": "X63jPECrvCMn",
        "colab_type": "text"
      },
      "source": [
        "### Train on single person"
      ]
    },
    {
      "cell_type": "code",
      "metadata": {
        "id": "9EJO57JPvEFG",
        "colab_type": "code",
        "colab": {
          "base_uri": "https://localhost:8080/",
          "height": 1000
        },
        "outputId": "f528550b-a64f-47c8-9f30-28897b25f014"
      },
      "source": [
        "person_num = 0\n",
        "indices_train_valid = np.where(person_train_valid == person_num)[0]\n",
        "indices_test = np.where(person_test == person_num)[0]\n",
        "\n",
        "single_person_X_train_valid = X_train_valid[indices_train_valid]\n",
        "single_person_y_train_valid = y_train_valid[indices_train_valid]\n",
        "\n",
        "perm = np.random.permutation(single_person_X_train_valid.shape[0])\n",
        "num_train = int(0.8 * single_person_X_train_valid.shape[0])\n",
        "num_valid = single_person_X_train_valid.shape[0] - num_train\n",
        "single_person_X_train =  single_person_X_train_valid[perm[0:num_train]]\n",
        "single_person_y_train =  single_person_y_train_valid[perm[0:num_train]]\n",
        "single_person_X_valid = single_person_X_train_valid[perm[num_train: ]]\n",
        "single_person_y_valid = single_person_y_train_valid[perm[num_train: ]]\n",
        "\n",
        "single_person_X_test = X_test[indices_test]\n",
        "single_person_y_test = y_test[indices_test]\n",
        "\n",
        "\n",
        "print(\"Training data shape for 1 person: {}\".format(single_person_X_train.shape))\n",
        "print(\"Training label shape for 1 person: {}\".format(single_person_y_train.shape))\n",
        "print(\"Validation data shape for 1 person: {}\".format(single_person_X_valid.shape))\n",
        "print(\"Validation label shape for 1 person: {}\".format(single_person_y_valid.shape))\n",
        "print(\"Test data shape for 1 person: {}\".format(single_person_X_test.shape))\n",
        "print(\"Test label shape for 1 person: {}\".format(single_person_y_test.shape))\n",
        "\n",
        "TIME_WINDOW = 600\n",
        "TIME_STRIDE = 1000\n",
        "\n",
        "# cut the slices\n",
        "X_train_slices, y_train_slices = sliding_window(single_person_X_train, \n",
        "                                                single_person_y_train, \n",
        "                                                time_window=TIME_WINDOW,  \n",
        "                                                time_stride=TIME_STRIDE)\n",
        "\n",
        "\n",
        "X_valid_slices, y_valid_slices = sliding_window(single_person_X_valid, \n",
        "                                                single_person_y_valid, \n",
        "                                                time_window=TIME_WINDOW, \n",
        "                                                time_stride=TIME_STRIDE)\n",
        "\n",
        "shallow_model_600 = construct_shallow_model(TIME_WINDOW)\n",
        "shallow_model_600.compile(\"adam\", \"sparse_categorical_crossentropy\", metrics=[\"acc\"])\n",
        "\n",
        "shallow_model_600.fit(X_train_slices, y_train_slices,\n",
        "                      validation_data = (X_valid_slices, y_valid_slices),\n",
        "                      epochs = 30)\n",
        "\n",
        "X_test_slices, y_test_slices = sliding_window(single_person_X_test, \n",
        "                                              single_person_y_test, \n",
        "                                              time_window=600, \n",
        "                                              time_stride=TIME_STRIDE)\n",
        "\n",
        "\n",
        "X_overall_test_slices, y_overall_test_slices = sliding_window(X_test, \n",
        "                                              y_test, \n",
        "                                              time_window=600, \n",
        "                                              time_stride=TIME_STRIDE)\n",
        "\n",
        "print(\"\\n\\n Now Evaluating on Single Person test set\")\n",
        "\n",
        "shallow_model_600.evaluate(X_test_slices, y_test_slices)\n",
        "\n",
        "print(\"\\n\\n Now Evaluating on Entire test set\")\n",
        "\n",
        "shallow_model_600.evaluate(X_overall_test_slices, y_overall_test_slices)"
      ],
      "execution_count": 16,
      "outputs": [
        {
          "output_type": "stream",
          "text": [
            "Training data shape for 1 person: (189, 22, 1000)\n",
            "Training label shape for 1 person: (189,)\n",
            "Validation data shape for 1 person: (48, 22, 1000)\n",
            "Validation label shape for 1 person: (48,)\n",
            "Test data shape for 1 person: (50, 22, 1000)\n",
            "Test label shape for 1 person: (50,)\n",
            "Train on 189 samples, validate on 48 samples\n",
            "Epoch 1/30\n",
            "189/189 [==============================] - 4s 22ms/sample - loss: 2.6653 - acc: 0.2698 - val_loss: 2.5440 - val_acc: 0.2292\n",
            "Epoch 2/30\n",
            "189/189 [==============================] - 4s 21ms/sample - loss: 1.9872 - acc: 0.2593 - val_loss: 2.1237 - val_acc: 0.1250\n",
            "Epoch 3/30\n",
            "189/189 [==============================] - 4s 21ms/sample - loss: 1.4062 - acc: 0.4286 - val_loss: 1.9442 - val_acc: 0.2500\n",
            "Epoch 4/30\n",
            "189/189 [==============================] - 4s 21ms/sample - loss: 1.1599 - acc: 0.4550 - val_loss: 1.8049 - val_acc: 0.3333\n",
            "Epoch 5/30\n",
            "189/189 [==============================] - 4s 21ms/sample - loss: 1.0859 - acc: 0.5291 - val_loss: 1.7095 - val_acc: 0.3542\n",
            "Epoch 6/30\n",
            "189/189 [==============================] - 4s 21ms/sample - loss: 1.0012 - acc: 0.5873 - val_loss: 1.6896 - val_acc: 0.3333\n",
            "Epoch 7/30\n",
            "189/189 [==============================] - 4s 21ms/sample - loss: 0.8869 - acc: 0.6138 - val_loss: 1.5982 - val_acc: 0.3750\n",
            "Epoch 8/30\n",
            "189/189 [==============================] - 4s 21ms/sample - loss: 0.8325 - acc: 0.6878 - val_loss: 1.5328 - val_acc: 0.3750\n",
            "Epoch 9/30\n",
            "189/189 [==============================] - 4s 21ms/sample - loss: 0.7798 - acc: 0.7460 - val_loss: 1.5626 - val_acc: 0.3333\n",
            "Epoch 10/30\n",
            "189/189 [==============================] - 4s 21ms/sample - loss: 0.7125 - acc: 0.7249 - val_loss: 1.4090 - val_acc: 0.3958\n",
            "Epoch 11/30\n",
            "189/189 [==============================] - 4s 22ms/sample - loss: 0.6234 - acc: 0.8307 - val_loss: 1.4450 - val_acc: 0.3542\n",
            "Epoch 12/30\n",
            "189/189 [==============================] - 4s 21ms/sample - loss: 0.5550 - acc: 0.8413 - val_loss: 1.3729 - val_acc: 0.4167\n",
            "Epoch 13/30\n",
            "189/189 [==============================] - 4s 21ms/sample - loss: 0.5019 - acc: 0.8889 - val_loss: 1.2931 - val_acc: 0.4583\n",
            "Epoch 14/30\n",
            "189/189 [==============================] - 4s 21ms/sample - loss: 0.4492 - acc: 0.9206 - val_loss: 1.3137 - val_acc: 0.4375\n",
            "Epoch 15/30\n",
            "189/189 [==============================] - 4s 22ms/sample - loss: 0.4186 - acc: 0.9206 - val_loss: 1.1938 - val_acc: 0.4167\n",
            "Epoch 16/30\n",
            "189/189 [==============================] - 4s 21ms/sample - loss: 0.3666 - acc: 0.9471 - val_loss: 1.3107 - val_acc: 0.4167\n",
            "Epoch 17/30\n",
            "189/189 [==============================] - 4s 21ms/sample - loss: 0.3368 - acc: 0.9577 - val_loss: 1.1953 - val_acc: 0.4792\n",
            "Epoch 18/30\n",
            "189/189 [==============================] - 4s 21ms/sample - loss: 0.3005 - acc: 0.9735 - val_loss: 1.2547 - val_acc: 0.4583\n",
            "Epoch 19/30\n",
            "189/189 [==============================] - 4s 21ms/sample - loss: 0.2737 - acc: 0.9735 - val_loss: 1.1548 - val_acc: 0.4583\n",
            "Epoch 20/30\n",
            "189/189 [==============================] - 4s 21ms/sample - loss: 0.2407 - acc: 0.9841 - val_loss: 1.1703 - val_acc: 0.4583\n",
            "Epoch 21/30\n",
            "189/189 [==============================] - 4s 21ms/sample - loss: 0.2232 - acc: 0.9841 - val_loss: 1.2106 - val_acc: 0.4583\n",
            "Epoch 22/30\n",
            "189/189 [==============================] - 4s 21ms/sample - loss: 0.1961 - acc: 0.9894 - val_loss: 1.1520 - val_acc: 0.4792\n",
            "Epoch 23/30\n",
            "189/189 [==============================] - 4s 21ms/sample - loss: 0.1794 - acc: 0.9947 - val_loss: 1.1669 - val_acc: 0.4792\n",
            "Epoch 24/30\n",
            "189/189 [==============================] - 4s 22ms/sample - loss: 0.1614 - acc: 1.0000 - val_loss: 1.1316 - val_acc: 0.4583\n",
            "Epoch 25/30\n",
            "189/189 [==============================] - 4s 21ms/sample - loss: 0.1493 - acc: 0.9947 - val_loss: 1.1594 - val_acc: 0.4792\n",
            "Epoch 26/30\n",
            "189/189 [==============================] - 4s 22ms/sample - loss: 0.1418 - acc: 0.9894 - val_loss: 1.1911 - val_acc: 0.4583\n",
            "Epoch 27/30\n",
            "189/189 [==============================] - 4s 21ms/sample - loss: 0.1256 - acc: 1.0000 - val_loss: 1.1614 - val_acc: 0.5000\n",
            "Epoch 28/30\n",
            "189/189 [==============================] - 4s 21ms/sample - loss: 0.1157 - acc: 1.0000 - val_loss: 1.1523 - val_acc: 0.4583\n",
            "Epoch 29/30\n",
            "189/189 [==============================] - 4s 21ms/sample - loss: 0.1036 - acc: 1.0000 - val_loss: 1.1391 - val_acc: 0.5208\n",
            "Epoch 30/30\n",
            "189/189 [==============================] - 4s 21ms/sample - loss: 0.0961 - acc: 1.0000 - val_loss: 1.2250 - val_acc: 0.4583\n",
            "\n",
            "\n",
            " Now Evaluating on Single Person test set\n",
            "50/50 [==============================] - 0s 8ms/sample - loss: 1.3083 - acc: 0.5200\n",
            "\n",
            "\n",
            " Now Evaluating on Entire test set\n",
            "443/443 [==============================] - 4s 8ms/sample - loss: 2.3170 - acc: 0.3589\n"
          ],
          "name": "stdout"
        },
        {
          "output_type": "execute_result",
          "data": {
            "text/plain": [
              "[2.3170282054970013, 0.3589165]"
            ]
          },
          "metadata": {
            "tags": []
          },
          "execution_count": 16
        }
      ]
    },
    {
      "cell_type": "code",
      "metadata": {
        "id": "1PfsMA5KxT7N",
        "colab_type": "code",
        "colab": {
          "base_uri": "https://localhost:8080/",
          "height": 1000
        },
        "outputId": "62af7316-60dc-4b65-98fc-da420b924a51"
      },
      "source": [
        "person_num = 1\n",
        "indices_train_valid = np.where(person_train_valid == person_num)[0]\n",
        "indices_test = np.where(person_test == person_num)[0]\n",
        "\n",
        "single_person_X_train_valid = X_train_valid[indices_train_valid]\n",
        "single_person_y_train_valid = y_train_valid[indices_train_valid]\n",
        "\n",
        "perm = np.random.permutation(single_person_X_train_valid.shape[0])\n",
        "num_train = int(0.8 * single_person_X_train_valid.shape[0])\n",
        "num_valid = single_person_X_train_valid.shape[0] - num_train\n",
        "single_person_X_train =  single_person_X_train_valid[perm[0:num_train]]\n",
        "single_person_y_train =  single_person_y_train_valid[perm[0:num_train]]\n",
        "single_person_X_valid = single_person_X_train_valid[perm[num_train: ]]\n",
        "single_person_y_valid = single_person_y_train_valid[perm[num_train: ]]\n",
        "\n",
        "single_person_X_test = X_test[indices_test]\n",
        "single_person_y_test = y_test[indices_test]\n",
        "\n",
        "\n",
        "print(\"Training data shape for 1 person: {}\".format(single_person_X_train.shape))\n",
        "print(\"Training label shape for 1 person: {}\".format(single_person_y_train.shape))\n",
        "print(\"Validation data shape for 1 person: {}\".format(single_person_X_valid.shape))\n",
        "print(\"Validation label shape for 1 person: {}\".format(single_person_y_valid.shape))\n",
        "print(\"Test data shape for 1 person: {}\".format(single_person_X_test.shape))\n",
        "print(\"Test label shape for 1 person: {}\".format(single_person_y_test.shape))\n",
        "\n",
        "TIME_WINDOW = 600\n",
        "TIME_STRIDE = 1000\n",
        "\n",
        "# cut the slices\n",
        "X_train_slices, y_train_slices = sliding_window(single_person_X_train, \n",
        "                                                single_person_y_train, \n",
        "                                                time_window=TIME_WINDOW,  \n",
        "                                                time_stride=TIME_STRIDE)\n",
        "\n",
        "\n",
        "X_valid_slices, y_valid_slices = sliding_window(single_person_X_valid, \n",
        "                                                single_person_y_valid, \n",
        "                                                time_window=TIME_WINDOW, \n",
        "                                                time_stride=TIME_STRIDE)\n",
        "\n",
        "shallow_model_600 = construct_shallow_model(TIME_WINDOW)\n",
        "shallow_model_600.compile(\"adam\", \"sparse_categorical_crossentropy\", metrics=[\"acc\"])\n",
        "\n",
        "shallow_model_600.fit(X_train_slices, y_train_slices,\n",
        "                      validation_data = (X_valid_slices, y_valid_slices),\n",
        "                      epochs = 30)\n",
        "\n",
        "X_test_slices, y_test_slices = sliding_window(single_person_X_test, \n",
        "                                              single_person_y_test, \n",
        "                                              time_window=600, \n",
        "                                              time_stride=TIME_STRIDE)\n",
        "\n",
        "\n",
        "X_overall_test_slices, y_overall_test_slices = sliding_window(X_test, \n",
        "                                              y_test, \n",
        "                                              time_window=600, \n",
        "                                              time_stride=TIME_STRIDE)\n",
        "\n",
        "print(\"\\n\\n Now Evaluating on Single Person test set\")\n",
        "\n",
        "shallow_model_600.evaluate(X_test_slices, y_test_slices)\n",
        "\n",
        "print(\"\\n\\n Now Evaluating on Entire test set\")\n",
        "\n",
        "shallow_model_600.evaluate(X_overall_test_slices, y_overall_test_slices)"
      ],
      "execution_count": 17,
      "outputs": [
        {
          "output_type": "stream",
          "text": [
            "Training data shape for 1 person: (188, 22, 1000)\n",
            "Training label shape for 1 person: (188,)\n",
            "Validation data shape for 1 person: (48, 22, 1000)\n",
            "Validation label shape for 1 person: (48,)\n",
            "Test data shape for 1 person: (50, 22, 1000)\n",
            "Test label shape for 1 person: (50,)\n",
            "Train on 188 samples, validate on 48 samples\n",
            "Epoch 1/30\n",
            "188/188 [==============================] - 4s 22ms/sample - loss: 3.1876 - acc: 0.2500 - val_loss: 1.9402 - val_acc: 0.2708\n",
            "Epoch 2/30\n",
            "188/188 [==============================] - 4s 22ms/sample - loss: 1.7671 - acc: 0.3191 - val_loss: 1.9768 - val_acc: 0.2708\n",
            "Epoch 3/30\n",
            "188/188 [==============================] - 4s 22ms/sample - loss: 1.3972 - acc: 0.4362 - val_loss: 1.6209 - val_acc: 0.3125\n",
            "Epoch 4/30\n",
            "188/188 [==============================] - 4s 22ms/sample - loss: 1.2491 - acc: 0.4840 - val_loss: 1.5473 - val_acc: 0.3333\n",
            "Epoch 5/30\n",
            "188/188 [==============================] - 4s 22ms/sample - loss: 1.1656 - acc: 0.4947 - val_loss: 1.5730 - val_acc: 0.2500\n",
            "Epoch 6/30\n",
            "188/188 [==============================] - 4s 22ms/sample - loss: 1.0740 - acc: 0.5532 - val_loss: 1.4964 - val_acc: 0.3542\n",
            "Epoch 7/30\n",
            "188/188 [==============================] - 4s 21ms/sample - loss: 1.0276 - acc: 0.5638 - val_loss: 1.4661 - val_acc: 0.3750\n",
            "Epoch 8/30\n",
            "188/188 [==============================] - 4s 21ms/sample - loss: 0.9411 - acc: 0.6277 - val_loss: 1.4912 - val_acc: 0.3333\n",
            "Epoch 9/30\n",
            "188/188 [==============================] - 4s 22ms/sample - loss: 0.9048 - acc: 0.6383 - val_loss: 1.4795 - val_acc: 0.2917\n",
            "Epoch 10/30\n",
            "188/188 [==============================] - 4s 22ms/sample - loss: 0.8611 - acc: 0.6968 - val_loss: 1.4550 - val_acc: 0.3125\n",
            "Epoch 11/30\n",
            "188/188 [==============================] - 4s 21ms/sample - loss: 0.8104 - acc: 0.7128 - val_loss: 1.4812 - val_acc: 0.3542\n",
            "Epoch 12/30\n",
            "188/188 [==============================] - 4s 21ms/sample - loss: 0.7706 - acc: 0.7447 - val_loss: 1.4586 - val_acc: 0.3750\n",
            "Epoch 13/30\n",
            "188/188 [==============================] - 4s 21ms/sample - loss: 0.7252 - acc: 0.7872 - val_loss: 1.4804 - val_acc: 0.3542\n",
            "Epoch 14/30\n",
            "188/188 [==============================] - 4s 21ms/sample - loss: 0.6771 - acc: 0.8085 - val_loss: 1.4310 - val_acc: 0.4375\n",
            "Epoch 15/30\n",
            "188/188 [==============================] - 4s 21ms/sample - loss: 0.6484 - acc: 0.8298 - val_loss: 1.4504 - val_acc: 0.3958\n",
            "Epoch 16/30\n",
            "188/188 [==============================] - 4s 21ms/sample - loss: 0.6028 - acc: 0.8298 - val_loss: 1.4429 - val_acc: 0.4167\n",
            "Epoch 17/30\n",
            "188/188 [==============================] - 4s 21ms/sample - loss: 0.5827 - acc: 0.8830 - val_loss: 1.4418 - val_acc: 0.3958\n",
            "Epoch 18/30\n",
            "188/188 [==============================] - 4s 21ms/sample - loss: 0.5347 - acc: 0.8830 - val_loss: 1.4331 - val_acc: 0.4167\n",
            "Epoch 19/30\n",
            "188/188 [==============================] - 4s 21ms/sample - loss: 0.5108 - acc: 0.9096 - val_loss: 1.4196 - val_acc: 0.4167\n",
            "Epoch 20/30\n",
            "188/188 [==============================] - 4s 21ms/sample - loss: 0.4830 - acc: 0.9202 - val_loss: 1.4331 - val_acc: 0.3958\n",
            "Epoch 21/30\n",
            "188/188 [==============================] - 4s 21ms/sample - loss: 0.4580 - acc: 0.9255 - val_loss: 1.4261 - val_acc: 0.3958\n",
            "Epoch 22/30\n",
            "188/188 [==============================] - 4s 21ms/sample - loss: 0.4305 - acc: 0.9362 - val_loss: 1.4300 - val_acc: 0.4375\n",
            "Epoch 23/30\n",
            "188/188 [==============================] - 4s 21ms/sample - loss: 0.4029 - acc: 0.9574 - val_loss: 1.4189 - val_acc: 0.4375\n",
            "Epoch 24/30\n",
            "188/188 [==============================] - 4s 22ms/sample - loss: 0.3605 - acc: 0.9734 - val_loss: 1.3872 - val_acc: 0.4583\n",
            "Epoch 25/30\n",
            "188/188 [==============================] - 4s 21ms/sample - loss: 0.3500 - acc: 0.9681 - val_loss: 1.4026 - val_acc: 0.4583\n",
            "Epoch 26/30\n",
            "188/188 [==============================] - 4s 21ms/sample - loss: 0.3164 - acc: 0.9787 - val_loss: 1.4147 - val_acc: 0.4375\n",
            "Epoch 27/30\n",
            "188/188 [==============================] - 4s 21ms/sample - loss: 0.2977 - acc: 0.9894 - val_loss: 1.4215 - val_acc: 0.4792\n",
            "Epoch 28/30\n",
            "188/188 [==============================] - 4s 21ms/sample - loss: 0.2781 - acc: 0.9787 - val_loss: 1.4141 - val_acc: 0.4375\n",
            "Epoch 29/30\n",
            "188/188 [==============================] - 4s 21ms/sample - loss: 0.2587 - acc: 0.9947 - val_loss: 1.3889 - val_acc: 0.4583\n",
            "Epoch 30/30\n",
            "188/188 [==============================] - 4s 21ms/sample - loss: 0.2323 - acc: 1.0000 - val_loss: 1.4574 - val_acc: 0.4792\n",
            "\n",
            "\n",
            " Now Evaluating on Single Person test set\n",
            "50/50 [==============================] - 0s 8ms/sample - loss: 1.7164 - acc: 0.3000\n",
            "\n",
            "\n",
            " Now Evaluating on Entire test set\n",
            "443/443 [==============================] - 3s 8ms/sample - loss: 1.8203 - acc: 0.3228\n"
          ],
          "name": "stdout"
        },
        {
          "output_type": "execute_result",
          "data": {
            "text/plain": [
              "[1.8202736488045204, 0.3227991]"
            ]
          },
          "metadata": {
            "tags": []
          },
          "execution_count": 17
        }
      ]
    },
    {
      "cell_type": "code",
      "metadata": {
        "id": "4zqtV-_IxVnB",
        "colab_type": "code",
        "colab": {
          "base_uri": "https://localhost:8080/",
          "height": 1000
        },
        "outputId": "c3c97ce4-5aaf-4d9e-8ba1-3106f201f740"
      },
      "source": [
        "person_num = 2\n",
        "indices_train_valid = np.where(person_train_valid == person_num)[0]\n",
        "indices_test = np.where(person_test == person_num)[0]\n",
        "\n",
        "single_person_X_train_valid = X_train_valid[indices_train_valid]\n",
        "single_person_y_train_valid = y_train_valid[indices_train_valid]\n",
        "\n",
        "perm = np.random.permutation(single_person_X_train_valid.shape[0])\n",
        "num_train = int(0.8 * single_person_X_train_valid.shape[0])\n",
        "num_valid = single_person_X_train_valid.shape[0] - num_train\n",
        "single_person_X_train =  single_person_X_train_valid[perm[0:num_train]]\n",
        "single_person_y_train =  single_person_y_train_valid[perm[0:num_train]]\n",
        "single_person_X_valid = single_person_X_train_valid[perm[num_train: ]]\n",
        "single_person_y_valid = single_person_y_train_valid[perm[num_train: ]]\n",
        "\n",
        "single_person_X_test = X_test[indices_test]\n",
        "single_person_y_test = y_test[indices_test]\n",
        "\n",
        "\n",
        "print(\"Training data shape for 1 person: {}\".format(single_person_X_train.shape))\n",
        "print(\"Training label shape for 1 person: {}\".format(single_person_y_train.shape))\n",
        "print(\"Validation data shape for 1 person: {}\".format(single_person_X_valid.shape))\n",
        "print(\"Validation label shape for 1 person: {}\".format(single_person_y_valid.shape))\n",
        "print(\"Test data shape for 1 person: {}\".format(single_person_X_test.shape))\n",
        "print(\"Test label shape for 1 person: {}\".format(single_person_y_test.shape))\n",
        "\n",
        "TIME_WINDOW = 600\n",
        "TIME_STRIDE = 1000\n",
        "\n",
        "# cut the slices\n",
        "X_train_slices, y_train_slices = sliding_window(single_person_X_train, \n",
        "                                                single_person_y_train, \n",
        "                                                time_window=TIME_WINDOW,  \n",
        "                                                time_stride=TIME_STRIDE)\n",
        "\n",
        "\n",
        "X_valid_slices, y_valid_slices = sliding_window(single_person_X_valid, \n",
        "                                                single_person_y_valid, \n",
        "                                                time_window=TIME_WINDOW, \n",
        "                                                time_stride=TIME_STRIDE)\n",
        "\n",
        "shallow_model_600 = construct_shallow_model(TIME_WINDOW)\n",
        "shallow_model_600.compile(\"adam\", \"sparse_categorical_crossentropy\", metrics=[\"acc\"])\n",
        "\n",
        "shallow_model_600.fit(X_train_slices, y_train_slices,\n",
        "                      validation_data = (X_valid_slices, y_valid_slices),\n",
        "                      epochs = 30)\n",
        "\n",
        "X_test_slices, y_test_slices = sliding_window(single_person_X_test, \n",
        "                                              single_person_y_test, \n",
        "                                              time_window=600, \n",
        "                                              time_stride=TIME_STRIDE)\n",
        "\n",
        "\n",
        "X_overall_test_slices, y_overall_test_slices = sliding_window(X_test, \n",
        "                                              y_test, \n",
        "                                              time_window=600, \n",
        "                                              time_stride=TIME_STRIDE)\n",
        "\n",
        "print(\"\\n\\n Now Evaluating on Single Person test set\")\n",
        "\n",
        "shallow_model_600.evaluate(X_test_slices, y_test_slices)\n",
        "\n",
        "print(\"\\n\\n Now Evaluating on Entire test set\")\n",
        "\n",
        "shallow_model_600.evaluate(X_overall_test_slices, y_overall_test_slices)"
      ],
      "execution_count": 18,
      "outputs": [
        {
          "output_type": "stream",
          "text": [
            "Training data shape for 1 person: (188, 22, 1000)\n",
            "Training label shape for 1 person: (188,)\n",
            "Validation data shape for 1 person: (48, 22, 1000)\n",
            "Validation label shape for 1 person: (48,)\n",
            "Test data shape for 1 person: (50, 22, 1000)\n",
            "Test label shape for 1 person: (50,)\n",
            "Train on 188 samples, validate on 48 samples\n",
            "Epoch 1/30\n",
            "188/188 [==============================] - 4s 21ms/sample - loss: 3.1978 - acc: 0.2234 - val_loss: 1.8917 - val_acc: 0.2292\n",
            "Epoch 2/30\n",
            "188/188 [==============================] - 4s 21ms/sample - loss: 1.8667 - acc: 0.2766 - val_loss: 1.4935 - val_acc: 0.3125\n",
            "Epoch 3/30\n",
            "188/188 [==============================] - 4s 21ms/sample - loss: 1.4128 - acc: 0.3564 - val_loss: 1.5395 - val_acc: 0.3333\n",
            "Epoch 4/30\n",
            "188/188 [==============================] - 4s 21ms/sample - loss: 1.2233 - acc: 0.4415 - val_loss: 1.5067 - val_acc: 0.3542\n",
            "Epoch 5/30\n",
            "188/188 [==============================] - 4s 21ms/sample - loss: 1.1520 - acc: 0.5426 - val_loss: 1.4002 - val_acc: 0.3750\n",
            "Epoch 6/30\n",
            "188/188 [==============================] - 4s 21ms/sample - loss: 0.9898 - acc: 0.5798 - val_loss: 1.3733 - val_acc: 0.3542\n",
            "Epoch 7/30\n",
            "188/188 [==============================] - 4s 21ms/sample - loss: 0.9735 - acc: 0.6223 - val_loss: 1.3552 - val_acc: 0.4167\n",
            "Epoch 8/30\n",
            "188/188 [==============================] - 4s 21ms/sample - loss: 0.8722 - acc: 0.7128 - val_loss: 1.3840 - val_acc: 0.3750\n",
            "Epoch 9/30\n",
            "188/188 [==============================] - 4s 21ms/sample - loss: 0.8243 - acc: 0.7128 - val_loss: 1.3481 - val_acc: 0.4375\n",
            "Epoch 10/30\n",
            "188/188 [==============================] - 4s 21ms/sample - loss: 0.7624 - acc: 0.7500 - val_loss: 1.3523 - val_acc: 0.3958\n",
            "Epoch 11/30\n",
            "188/188 [==============================] - 4s 21ms/sample - loss: 0.7019 - acc: 0.7766 - val_loss: 1.3426 - val_acc: 0.3958\n",
            "Epoch 12/30\n",
            "188/188 [==============================] - 4s 21ms/sample - loss: 0.6449 - acc: 0.8404 - val_loss: 1.3163 - val_acc: 0.4375\n",
            "Epoch 13/30\n",
            "188/188 [==============================] - 4s 21ms/sample - loss: 0.5994 - acc: 0.8457 - val_loss: 1.2876 - val_acc: 0.4792\n",
            "Epoch 14/30\n",
            "188/188 [==============================] - 4s 21ms/sample - loss: 0.5735 - acc: 0.8351 - val_loss: 1.2799 - val_acc: 0.4375\n",
            "Epoch 15/30\n",
            "188/188 [==============================] - 4s 21ms/sample - loss: 0.5294 - acc: 0.8670 - val_loss: 1.2465 - val_acc: 0.5000\n",
            "Epoch 16/30\n",
            "188/188 [==============================] - 4s 21ms/sample - loss: 0.4512 - acc: 0.9309 - val_loss: 1.1955 - val_acc: 0.4792\n",
            "Epoch 17/30\n",
            "188/188 [==============================] - 4s 21ms/sample - loss: 0.4153 - acc: 0.9362 - val_loss: 1.1625 - val_acc: 0.5208\n",
            "Epoch 18/30\n",
            "188/188 [==============================] - 4s 21ms/sample - loss: 0.3779 - acc: 0.9468 - val_loss: 1.1520 - val_acc: 0.5625\n",
            "Epoch 19/30\n",
            "188/188 [==============================] - 4s 21ms/sample - loss: 0.3339 - acc: 0.9681 - val_loss: 1.0803 - val_acc: 0.5625\n",
            "Epoch 20/30\n",
            "188/188 [==============================] - 4s 21ms/sample - loss: 0.2996 - acc: 0.9787 - val_loss: 1.0967 - val_acc: 0.5417\n",
            "Epoch 21/30\n",
            "188/188 [==============================] - 4s 21ms/sample - loss: 0.2784 - acc: 0.9894 - val_loss: 1.0986 - val_acc: 0.5208\n",
            "Epoch 22/30\n",
            "188/188 [==============================] - 4s 21ms/sample - loss: 0.2555 - acc: 1.0000 - val_loss: 1.0700 - val_acc: 0.6042\n",
            "Epoch 23/30\n",
            "188/188 [==============================] - 4s 21ms/sample - loss: 0.2427 - acc: 0.9840 - val_loss: 1.0202 - val_acc: 0.5833\n",
            "Epoch 24/30\n",
            "188/188 [==============================] - 4s 21ms/sample - loss: 0.2069 - acc: 1.0000 - val_loss: 1.0280 - val_acc: 0.6042\n",
            "Epoch 25/30\n",
            "188/188 [==============================] - 4s 21ms/sample - loss: 0.1890 - acc: 1.0000 - val_loss: 1.0167 - val_acc: 0.6042\n",
            "Epoch 26/30\n",
            "188/188 [==============================] - 4s 21ms/sample - loss: 0.1694 - acc: 1.0000 - val_loss: 1.0000 - val_acc: 0.6042\n",
            "Epoch 27/30\n",
            "188/188 [==============================] - 4s 21ms/sample - loss: 0.1495 - acc: 1.0000 - val_loss: 0.9661 - val_acc: 0.6042\n",
            "Epoch 28/30\n",
            "188/188 [==============================] - 4s 20ms/sample - loss: 0.1399 - acc: 1.0000 - val_loss: 1.0221 - val_acc: 0.6458\n",
            "Epoch 29/30\n",
            "188/188 [==============================] - 4s 21ms/sample - loss: 0.1255 - acc: 1.0000 - val_loss: 0.9382 - val_acc: 0.6458\n",
            "Epoch 30/30\n",
            "188/188 [==============================] - 4s 21ms/sample - loss: 0.1248 - acc: 1.0000 - val_loss: 0.9381 - val_acc: 0.5833\n",
            "\n",
            "\n",
            " Now Evaluating on Single Person test set\n",
            "50/50 [==============================] - 0s 8ms/sample - loss: 0.7677 - acc: 0.6800\n",
            "\n",
            "\n",
            " Now Evaluating on Entire test set\n",
            "443/443 [==============================] - 3s 8ms/sample - loss: 2.0410 - acc: 0.3815\n"
          ],
          "name": "stdout"
        },
        {
          "output_type": "execute_result",
          "data": {
            "text/plain": [
              "[2.0410146304231733, 0.38148984]"
            ]
          },
          "metadata": {
            "tags": []
          },
          "execution_count": 18
        }
      ]
    },
    {
      "cell_type": "code",
      "metadata": {
        "id": "DYsyHvskym5f",
        "colab_type": "code",
        "colab": {
          "base_uri": "https://localhost:8080/",
          "height": 1000
        },
        "outputId": "60175987-ff69-4ee7-8c1c-c591e7d03732"
      },
      "source": [
        "person_num = 3\n",
        "indices_train_valid = np.where(person_train_valid == person_num)[0]\n",
        "indices_test = np.where(person_test == person_num)[0]\n",
        "\n",
        "single_person_X_train_valid = X_train_valid[indices_train_valid]\n",
        "single_person_y_train_valid = y_train_valid[indices_train_valid]\n",
        "\n",
        "perm = np.random.permutation(single_person_X_train_valid.shape[0])\n",
        "num_train = int(0.8 * single_person_X_train_valid.shape[0])\n",
        "num_valid = single_person_X_train_valid.shape[0] - num_train\n",
        "single_person_X_train =  single_person_X_train_valid[perm[0:num_train]]\n",
        "single_person_y_train =  single_person_y_train_valid[perm[0:num_train]]\n",
        "single_person_X_valid = single_person_X_train_valid[perm[num_train: ]]\n",
        "single_person_y_valid = single_person_y_train_valid[perm[num_train: ]]\n",
        "\n",
        "single_person_X_test = X_test[indices_test]\n",
        "single_person_y_test = y_test[indices_test]\n",
        "\n",
        "\n",
        "print(\"Training data shape for 1 person: {}\".format(single_person_X_train.shape))\n",
        "print(\"Training label shape for 1 person: {}\".format(single_person_y_train.shape))\n",
        "print(\"Validation data shape for 1 person: {}\".format(single_person_X_valid.shape))\n",
        "print(\"Validation label shape for 1 person: {}\".format(single_person_y_valid.shape))\n",
        "print(\"Test data shape for 1 person: {}\".format(single_person_X_test.shape))\n",
        "print(\"Test label shape for 1 person: {}\".format(single_person_y_test.shape))\n",
        "\n",
        "TIME_WINDOW = 600\n",
        "TIME_STRIDE = 1000\n",
        "\n",
        "# cut the slices\n",
        "X_train_slices, y_train_slices = sliding_window(single_person_X_train, \n",
        "                                                single_person_y_train, \n",
        "                                                time_window=TIME_WINDOW,  \n",
        "                                                time_stride=TIME_STRIDE)\n",
        "\n",
        "\n",
        "X_valid_slices, y_valid_slices = sliding_window(single_person_X_valid, \n",
        "                                                single_person_y_valid, \n",
        "                                                time_window=TIME_WINDOW, \n",
        "                                                time_stride=TIME_STRIDE)\n",
        "\n",
        "shallow_model_600 = construct_shallow_model(TIME_WINDOW)\n",
        "shallow_model_600.compile(\"adam\", \"sparse_categorical_crossentropy\", metrics=[\"acc\"])\n",
        "\n",
        "shallow_model_600.fit(X_train_slices, y_train_slices,\n",
        "                      validation_data = (X_valid_slices, y_valid_slices),\n",
        "                      epochs = 30)\n",
        "\n",
        "X_test_slices, y_test_slices = sliding_window(single_person_X_test, \n",
        "                                              single_person_y_test, \n",
        "                                              time_window=600, \n",
        "                                              time_stride=TIME_STRIDE)\n",
        "\n",
        "\n",
        "X_overall_test_slices, y_overall_test_slices = sliding_window(X_test, \n",
        "                                              y_test, \n",
        "                                              time_window=600, \n",
        "                                              time_stride=TIME_STRIDE)\n",
        "\n",
        "print(\"\\n\\n Now Evaluating on Single Person test set\")\n",
        "\n",
        "shallow_model_600.evaluate(X_test_slices, y_test_slices)\n",
        "\n",
        "print(\"\\n\\n Now Evaluating on Entire test set\")\n",
        "\n",
        "shallow_model_600.evaluate(X_overall_test_slices, y_overall_test_slices)"
      ],
      "execution_count": 19,
      "outputs": [
        {
          "output_type": "stream",
          "text": [
            "Training data shape for 1 person: (187, 22, 1000)\n",
            "Training label shape for 1 person: (187,)\n",
            "Validation data shape for 1 person: (47, 22, 1000)\n",
            "Validation label shape for 1 person: (47,)\n",
            "Test data shape for 1 person: (50, 22, 1000)\n",
            "Test label shape for 1 person: (50,)\n",
            "Train on 187 samples, validate on 47 samples\n",
            "Epoch 1/30\n",
            "187/187 [==============================] - 4s 22ms/sample - loss: 3.0955 - acc: 0.2620 - val_loss: 2.3464 - val_acc: 0.1489\n",
            "Epoch 2/30\n",
            "187/187 [==============================] - 4s 21ms/sample - loss: 1.8707 - acc: 0.2995 - val_loss: 1.6337 - val_acc: 0.2766\n",
            "Epoch 3/30\n",
            "187/187 [==============================] - 4s 21ms/sample - loss: 1.4164 - acc: 0.3850 - val_loss: 1.9562 - val_acc: 0.2340\n",
            "Epoch 4/30\n",
            "187/187 [==============================] - 4s 21ms/sample - loss: 1.2065 - acc: 0.4920 - val_loss: 1.5173 - val_acc: 0.3617\n",
            "Epoch 5/30\n",
            "187/187 [==============================] - 4s 21ms/sample - loss: 1.1413 - acc: 0.5348 - val_loss: 1.5082 - val_acc: 0.3617\n",
            "Epoch 6/30\n",
            "187/187 [==============================] - 4s 21ms/sample - loss: 0.9823 - acc: 0.5882 - val_loss: 1.5772 - val_acc: 0.3191\n",
            "Epoch 7/30\n",
            "187/187 [==============================] - 4s 21ms/sample - loss: 0.9207 - acc: 0.6043 - val_loss: 1.5283 - val_acc: 0.3404\n",
            "Epoch 8/30\n",
            "187/187 [==============================] - 4s 21ms/sample - loss: 0.8593 - acc: 0.6791 - val_loss: 1.5462 - val_acc: 0.3404\n",
            "Epoch 9/30\n",
            "187/187 [==============================] - 4s 21ms/sample - loss: 0.8093 - acc: 0.6845 - val_loss: 1.5592 - val_acc: 0.3617\n",
            "Epoch 10/30\n",
            "187/187 [==============================] - 4s 21ms/sample - loss: 0.7577 - acc: 0.7326 - val_loss: 1.5554 - val_acc: 0.3404\n",
            "Epoch 11/30\n",
            "187/187 [==============================] - 4s 21ms/sample - loss: 0.7348 - acc: 0.7861 - val_loss: 1.5241 - val_acc: 0.3830\n",
            "Epoch 12/30\n",
            "187/187 [==============================] - 4s 21ms/sample - loss: 0.6863 - acc: 0.7914 - val_loss: 1.5593 - val_acc: 0.3830\n",
            "Epoch 13/30\n",
            "187/187 [==============================] - 4s 21ms/sample - loss: 0.6376 - acc: 0.8128 - val_loss: 1.5373 - val_acc: 0.3830\n",
            "Epoch 14/30\n",
            "187/187 [==============================] - 4s 21ms/sample - loss: 0.6070 - acc: 0.8449 - val_loss: 1.5065 - val_acc: 0.4468\n",
            "Epoch 15/30\n",
            "187/187 [==============================] - 4s 21ms/sample - loss: 0.5617 - acc: 0.8396 - val_loss: 1.5491 - val_acc: 0.4043\n",
            "Epoch 16/30\n",
            "187/187 [==============================] - 4s 21ms/sample - loss: 0.5421 - acc: 0.8342 - val_loss: 1.5253 - val_acc: 0.4043\n",
            "Epoch 17/30\n",
            "187/187 [==============================] - 4s 21ms/sample - loss: 0.5132 - acc: 0.8449 - val_loss: 1.5965 - val_acc: 0.4255\n",
            "Epoch 18/30\n",
            "187/187 [==============================] - 4s 21ms/sample - loss: 0.4666 - acc: 0.9091 - val_loss: 1.6042 - val_acc: 0.3617\n",
            "Epoch 19/30\n",
            "187/187 [==============================] - 4s 21ms/sample - loss: 0.4410 - acc: 0.9091 - val_loss: 1.5961 - val_acc: 0.3404\n",
            "Epoch 20/30\n",
            "187/187 [==============================] - 4s 21ms/sample - loss: 0.4159 - acc: 0.9091 - val_loss: 1.5969 - val_acc: 0.3830\n",
            "Epoch 21/30\n",
            "187/187 [==============================] - 4s 21ms/sample - loss: 0.3970 - acc: 0.9198 - val_loss: 1.6725 - val_acc: 0.3191\n",
            "Epoch 22/30\n",
            "187/187 [==============================] - 4s 21ms/sample - loss: 0.3720 - acc: 0.9251 - val_loss: 1.5820 - val_acc: 0.3830\n",
            "Epoch 23/30\n",
            "187/187 [==============================] - 4s 21ms/sample - loss: 0.3181 - acc: 0.9840 - val_loss: 1.6415 - val_acc: 0.4043\n",
            "Epoch 24/30\n",
            "187/187 [==============================] - 4s 21ms/sample - loss: 0.2951 - acc: 0.9786 - val_loss: 1.6437 - val_acc: 0.3191\n",
            "Epoch 25/30\n",
            "187/187 [==============================] - 4s 21ms/sample - loss: 0.2578 - acc: 0.9947 - val_loss: 1.6909 - val_acc: 0.4043\n",
            "Epoch 26/30\n",
            "187/187 [==============================] - 4s 21ms/sample - loss: 0.2397 - acc: 0.9947 - val_loss: 1.6687 - val_acc: 0.3617\n",
            "Epoch 27/30\n",
            "187/187 [==============================] - 4s 21ms/sample - loss: 0.2282 - acc: 0.9947 - val_loss: 1.6785 - val_acc: 0.3617\n",
            "Epoch 28/30\n",
            "187/187 [==============================] - 4s 21ms/sample - loss: 0.2045 - acc: 1.0000 - val_loss: 1.7198 - val_acc: 0.3830\n",
            "Epoch 29/30\n",
            "187/187 [==============================] - 4s 21ms/sample - loss: 0.1862 - acc: 1.0000 - val_loss: 1.7135 - val_acc: 0.3617\n",
            "Epoch 30/30\n",
            "187/187 [==============================] - 4s 21ms/sample - loss: 0.1745 - acc: 1.0000 - val_loss: 1.7777 - val_acc: 0.3404\n",
            "\n",
            "\n",
            " Now Evaluating on Single Person test set\n",
            "50/50 [==============================] - 0s 8ms/sample - loss: 1.6363 - acc: 0.4400\n",
            "\n",
            "\n",
            " Now Evaluating on Entire test set\n",
            "443/443 [==============================] - 3s 8ms/sample - loss: 2.2271 - acc: 0.3634\n"
          ],
          "name": "stdout"
        },
        {
          "output_type": "execute_result",
          "data": {
            "text/plain": [
              "[2.2270621973558686, 0.36343116]"
            ]
          },
          "metadata": {
            "tags": []
          },
          "execution_count": 19
        }
      ]
    }
  ]
}