{
 "cells": [
  {
   "cell_type": "markdown",
   "metadata": {},
   "source": [
    "# Notes\n",
    "\n",
    "1. be sure to use exponential RELU\n",
    "2. dataset includes 4 classes, 9 test sujects\n",
    "3. expect no spacial interdependency between channels\n",
    "4. expect interdependacny in time-domain. Use Conv nets to get frequencies\n",
    "5. input is 2D-array, where height is the umber of channels, width is time\n",
    "6. aim is 76% accuracy\n",
    "7. We do not even try hybrid/residual nets because it was said that it performs worse than Deep net\n",
    "\n",
    "Simle NN:\n",
    "\n",
    "We applied batch normalization,\n",
    "as recommended in the original paper (Ioffe and Szegedy, 2015), to the output of convolutional\n",
    "layers before the nonlinearity. Dropout randomly sets some inputs for a layer to zero in each\n",
    "training update. It is meant to prevent co-adaption of different units and can be seen as analogous\n",
    "to training an ensemble of networks. We drop out the inputs to all convolutional layers after the\n",
    "first with a probability of 0.5. Finally, our new tied loss function is designed to further regularize\n",
    "our cropped training (see Section 2.5.4 for an explanation).\n",
    "\n",
    "\n",
    "Our deep ConvNet had four convolution-max-pooling blocks, with a special first block designed\n",
    "to handle EEG input (see below), followed by three standard convolution-max-pooling blocks and\n",
    "a dense softmax classification layer\n",
    "\n",
    "Dropout for my conv layer is p=0.8 and for my fc layer is p=0.5. Interestingly, I saw the opposite trend where a low dropout number (I tried 0.2 out of curiosity) made overfitting worse and dropped my validation accuracy by 10-15%. Beside dropout, I didn't add any other regularization since that mainly helps with overfitting I believe. "
   ]
  },
  {
   "cell_type": "markdown",
   "metadata": {},
   "source": [
    "# Set up the environment"
   ]
  },
  {
   "cell_type": "code",
   "execution_count": 1,
   "metadata": {},
   "outputs": [],
   "source": [
    "%load_ext autoreload\n",
    "%autoreload 2\n",
    "%matplotlib inline"
   ]
  },
  {
   "cell_type": "code",
   "execution_count": 2,
   "metadata": {},
   "outputs": [],
   "source": [
    "from __future__ import absolute_import, division, print_function, unicode_literals\n",
    "\n",
    "# import tf\n",
    "import tensorflow as tf\n",
    "import tensorflow.keras as keras\n",
    "import tensorflow.keras.layers as layers\n",
    "import tensorflow.keras.backend as K\n",
    "\n",
    "# import os functions\n",
    "import os\n",
    "import time\n",
    "\n",
    "import numpy as np\n",
    "import matplotlib.pyplot as plt\n",
    "\n",
    "from IPython import display"
   ]
  },
  {
   "cell_type": "markdown",
   "metadata": {},
   "source": [
    "# Load the data"
   ]
  },
  {
   "cell_type": "markdown",
   "metadata": {},
   "source": [
    "### Read the files"
   ]
  },
  {
   "cell_type": "code",
   "execution_count": 3,
   "metadata": {},
   "outputs": [],
   "source": [
    "X_test = np.load(\"./EEG_data/X_test.npy\")\n",
    "y_test = np.load(\"./EEG_data/y_test.npy\") - 769\n",
    "person_train_valid = np.load(\"./EEG_data/person_train_valid.npy\")\n",
    "X_train_valid = np.load(\"./EEG_data/X_train_valid.npy\")\n",
    "y_train_valid = np.load(\"./EEG_data/y_train_valid.npy\") - 769\n",
    "person_test = np.load(\"./EEG_data/person_test.npy\")"
   ]
  },
  {
   "cell_type": "markdown",
   "metadata": {},
   "source": [
    "### Shape of data"
   ]
  },
  {
   "cell_type": "code",
   "execution_count": 4,
   "metadata": {},
   "outputs": [
    {
     "name": "stdout",
     "output_type": "stream",
     "text": [
      "training/Valid data shape: (2115, 22, 1000)\n",
      "Test data shape: (443, 22, 1000)\n",
      "Training/Valid target shape: (2115,)\n",
      "Test target shape: (443,)\n",
      "Person train/valid  shape: (2115, 1)\n",
      "Person test shape: (443, 1)\n"
     ]
    }
   ],
   "source": [
    "print(\"training/Valid data shape: {}\".format(X_train_valid.shape))       # training data of many persons\n",
    "print(\"Test data shape: {}\".format(X_test.shape))                        # test data of many persons\n",
    "print(\"Training/Valid target shape: {}\".format(y_train_valid.shape))     # training labels of many persons\n",
    "print(\"Test target shape: {}\".format(y_test.shape))                      # test labels of many persons\n",
    "print(\"Person train/valid  shape: {}\".format(person_train_valid.shape))  # which person correspond to the trail in test set\n",
    "print(\"Person test shape: {}\".format(person_test.shape))                 # which person correspond to the trail in test set"
   ]
  },
  {
   "cell_type": "markdown",
   "metadata": {},
   "source": [
    "### divide dataset into training and validation"
   ]
  },
  {
   "cell_type": "code",
   "execution_count": 5,
   "metadata": {},
   "outputs": [
    {
     "name": "stdout",
     "output_type": "stream",
     "text": [
      "Training data shape: (1692, 22, 1000)\n",
      "Training label shape: (1692,)\n",
      "Validation data shape: (423, 22, 1000)\n",
      "Validation label shape: (423,)\n",
      "Test data shape: (443, 22, 1000)\n",
      "Test label shape: (443,)\n"
     ]
    }
   ],
   "source": [
    "perm = np.random.permutation(X_train_valid.shape[0])\n",
    "num_train = int(0.8 * X_train_valid.shape[0])\n",
    "num_valid = X_train_valid.shape[0] - num_train\n",
    "X_train =  X_train_valid[perm[0:num_train]]\n",
    "y_train =  y_train_valid[perm[0:num_train]]\n",
    "X_valid = X_train_valid[perm[num_train: ]]\n",
    "y_valid = y_train_valid[perm[num_train: ]]\n",
    "\n",
    "\n",
    "print(\"Training data shape: {}\".format(X_train.shape))\n",
    "print(\"Training label shape: {}\".format(y_train.shape))\n",
    "print(\"Validation data shape: {}\".format(X_valid.shape))\n",
    "print(\"Validation label shape: {}\".format(y_valid.shape))\n",
    "print(\"Test data shape: {}\".format(X_test.shape))\n",
    "print(\"Test label shape: {}\".format(y_test.shape))"
   ]
  },
  {
   "cell_type": "markdown",
   "metadata": {},
   "source": [
    "### 1 person dataset"
   ]
  },
  {
   "cell_type": "code",
   "execution_count": 6,
   "metadata": {},
   "outputs": [
    {
     "name": "stdout",
     "output_type": "stream",
     "text": [
      "Training data shape for 1 person: (189, 22, 1000)\n",
      "Training label shape for 1 person: (189,)\n",
      "Validation data shape for 1 person: (48, 22, 1000)\n",
      "Validation label shape for 1 person: (48,)\n",
      "Test data shape for 1 person: (50, 22, 1000)\n",
      "Test label shape for 1 person: (50,)\n"
     ]
    }
   ],
   "source": [
    "person_num = 0\n",
    "indices_train_valid = np.where(person_train_valid == person_num)[0]\n",
    "indices_test = np.where(person_test == person_num)[0]\n",
    "\n",
    "single_person_X_train_valid = X_train_valid[indices_train_valid]\n",
    "single_person_y_train_valid = y_train_valid[indices_train_valid]\n",
    "\n",
    "perm = np.random.permutation(single_person_X_train_valid.shape[0])\n",
    "num_train = int(0.8 * single_person_X_train_valid.shape[0])\n",
    "num_valid = single_person_X_train_valid.shape[0] - num_train\n",
    "single_person_X_train =  single_person_X_train_valid[perm[0:num_train]]\n",
    "single_person_y_train =  single_person_y_train_valid[perm[0:num_train]]\n",
    "single_person_X_valid = single_person_X_train_valid[perm[num_train: ]]\n",
    "single_person_y_valid = single_person_y_train_valid[perm[num_train: ]]\n",
    "\n",
    "single_person_X_test = X_test[indices_test]\n",
    "single_person_y_test = y_test[indices_test]\n",
    "\n",
    "\n",
    "print(\"Training data shape for 1 person: {}\".format(single_person_X_train.shape))\n",
    "print(\"Training label shape for 1 person: {}\".format(single_person_y_train.shape))\n",
    "print(\"Validation data shape for 1 person: {}\".format(single_person_X_valid.shape))\n",
    "print(\"Validation label shape for 1 person: {}\".format(single_person_y_valid.shape))\n",
    "print(\"Test data shape for 1 person: {}\".format(single_person_X_test.shape))\n",
    "print(\"Test label shape for 1 person: {}\".format(single_person_y_test.shape))"
   ]
  },
  {
   "cell_type": "markdown",
   "metadata": {},
   "source": [
    "# Shallow model "
   ]
  },
  {
   "cell_type": "markdown",
   "metadata": {},
   "source": [
    "### define activation functions"
   ]
  },
  {
   "cell_type": "code",
   "execution_count": 7,
   "metadata": {},
   "outputs": [],
   "source": [
    "def Ksquare(x):\n",
    "    return K.pow(x, 2)\n",
    "\n",
    "def Klog(x):\n",
    "    return K.log(x)"
   ]
  },
  {
   "cell_type": "markdown",
   "metadata": {},
   "source": [
    "### Construct model"
   ]
  },
  {
   "cell_type": "code",
   "execution_count": 33,
   "metadata": {},
   "outputs": [],
   "source": [
    "# input\n",
    "shallow_input = layers.Input(shape=(22, 1000))\n",
    "\n",
    "# conv accross time domain\n",
    "r1 = layers.Reshape((22, 1000, 1))(shallow_input)\n",
    "c1 = layers.Conv2D(40, (1, 25), strides=(1, 1), activation=\"elu\")(r1)\n",
    "t1 = tf.keras.layers.Permute((2, 3, 1))(c1)\n",
    "\n",
    "# conv accross time domain\n",
    "r2 = layers.Reshape((976, 40*22, 1))(t1)\n",
    "c2 = layers.Conv2D(40, (1, 40*22), strides=(1, 1), activation=\"elu\")(r2)\n",
    "\n",
    "sq1 = layers.Activation(Ksquare)(c2)\n",
    "r3 = layers.Reshape((976, 40, 1))(sq1)\n",
    "apool1 = layers.AveragePooling2D(pool_size=(75, 1), strides=(15, 1))(r3)\n",
    "                                 \n",
    "log1 = layers.Activation(Klog)(apool1)\n",
    "f1 = layers.Flatten()(log1)\n",
    "\n",
    "# output\n",
    "shallow_output = layers.Dense(4, activation=\"softmax\")(f1)"
   ]
  },
  {
   "cell_type": "code",
   "execution_count": 34,
   "metadata": {},
   "outputs": [],
   "source": [
    "shallow_model = keras.Model(inputs = shallow_input, outputs = shallow_output, name=\"shallow_model\")\n",
    "shallow_model.compile(\"adam\", \"sparse_categorical_crossentropy\", metrics=[\"acc\"])"
   ]
  },
  {
   "cell_type": "code",
   "execution_count": 35,
   "metadata": {},
   "outputs": [
    {
     "name": "stdout",
     "output_type": "stream",
     "text": [
      "Model: \"shallow_model\"\n",
      "_________________________________________________________________\n",
      "Layer (type)                 Output Shape              Param #   \n",
      "=================================================================\n",
      "input_10 (InputLayer)        [(None, 22, 1000)]        0         \n",
      "_________________________________________________________________\n",
      "reshape_23 (Reshape)         (None, 22, 1000, 1)       0         \n",
      "_________________________________________________________________\n",
      "conv2d_16 (Conv2D)           (None, 22, 976, 40)       1040      \n",
      "_________________________________________________________________\n",
      "permute_4 (Permute)          (None, 976, 40, 22)       0         \n",
      "_________________________________________________________________\n",
      "reshape_24 (Reshape)         (None, 976, 880, 1)       0         \n",
      "_________________________________________________________________\n",
      "conv2d_17 (Conv2D)           (None, 976, 1, 40)        35240     \n",
      "_________________________________________________________________\n",
      "activation_14 (Activation)   (None, 976, 1, 40)        0         \n",
      "_________________________________________________________________\n",
      "reshape_25 (Reshape)         (None, 976, 40, 1)        0         \n",
      "_________________________________________________________________\n",
      "average_pooling2d_7 (Average (None, 61, 40, 1)         0         \n",
      "_________________________________________________________________\n",
      "activation_15 (Activation)   (None, 61, 40, 1)         0         \n",
      "_________________________________________________________________\n",
      "flatten_7 (Flatten)          (None, 2440)              0         \n",
      "_________________________________________________________________\n",
      "dense_7 (Dense)              (None, 4)                 9764      \n",
      "=================================================================\n",
      "Total params: 46,044\n",
      "Trainable params: 46,044\n",
      "Non-trainable params: 0\n",
      "_________________________________________________________________\n"
     ]
    }
   ],
   "source": [
    "shallow_model.summary()"
   ]
  },
  {
   "cell_type": "markdown",
   "metadata": {},
   "source": [
    "### Train model"
   ]
  },
  {
   "cell_type": "code",
   "execution_count": 36,
   "metadata": {},
   "outputs": [
    {
     "name": "stdout",
     "output_type": "stream",
     "text": [
      "Train on 1692 samples, validate on 423 samples\n",
      "Epoch 1/10\n",
      "1692/1692 [==============================] - 21s 12ms/sample - loss: 2.0395 - acc: 0.2843 - val_loss: 1.3945 - val_acc: 0.3073\n",
      "Epoch 2/10\n",
      "1692/1692 [==============================] - 21s 12ms/sample - loss: 1.3096 - acc: 0.3942 - val_loss: 1.3292 - val_acc: 0.3806\n",
      "Epoch 3/10\n",
      "1692/1692 [==============================] - 20s 12ms/sample - loss: 1.2057 - acc: 0.4634 - val_loss: 1.3810 - val_acc: 0.3877\n",
      "Epoch 4/10\n",
      "1692/1692 [==============================] - 21s 12ms/sample - loss: 1.0951 - acc: 0.5396 - val_loss: 1.2820 - val_acc: 0.4232\n",
      "Epoch 5/10\n",
      "1692/1692 [==============================] - 20s 12ms/sample - loss: 1.0031 - acc: 0.5662 - val_loss: 1.2763 - val_acc: 0.4444\n",
      "Epoch 6/10\n",
      "1692/1692 [==============================] - 21s 12ms/sample - loss: 0.8827 - acc: 0.6572 - val_loss: 1.1521 - val_acc: 0.5035\n",
      "Epoch 7/10\n",
      "1692/1692 [==============================] - 21s 13ms/sample - loss: 0.8118 - acc: 0.6939 - val_loss: 1.1466 - val_acc: 0.5414\n",
      "Epoch 8/10\n",
      "1692/1692 [==============================] - 20s 12ms/sample - loss: 0.7252 - acc: 0.7364 - val_loss: 1.1641 - val_acc: 0.5414\n",
      "Epoch 9/10\n",
      "1692/1692 [==============================] - 21s 12ms/sample - loss: 0.6627 - acc: 0.7541 - val_loss: 1.1747 - val_acc: 0.5461\n",
      "Epoch 10/10\n",
      "1692/1692 [==============================] - 20s 12ms/sample - loss: 0.6031 - acc: 0.7825 - val_loss: 1.0644 - val_acc: 0.5768\n"
     ]
    }
   ],
   "source": [
    "shallow_model_loss_hist = shallow_model.fit(X_train, y_train,\n",
    "                                            validation_data = (X_valid, y_valid),\n",
    "                                            epochs = 10)"
   ]
  },
  {
   "cell_type": "code",
   "execution_count": 37,
   "metadata": {},
   "outputs": [
    {
     "data": {
      "text/plain": [
       "<matplotlib.legend.Legend at 0x238369b4940>"
      ]
     },
     "execution_count": 37,
     "metadata": {},
     "output_type": "execute_result"
    },
    {
     "data": {
      "image/png": "[encoded data removed]",
      "text/plain": [
       "<Figure size 1080x504 with 2 Axes>"
      ]
     },
     "metadata": {
      "needs_background": "light"
     },
     "output_type": "display_data"
    }
   ],
   "source": [
    "hist = shallow_model_loss_hist.history\n",
    "\n",
    "plt.figure(figsize=(15, 7))\n",
    "plt.subplot(1, 2, 1)\n",
    "plt.plot(hist['loss'])\n",
    "plt.plot(hist['val_loss'])\n",
    "plt.ylabel('loss')\n",
    "plt.xlabel('epoch')\n",
    "plt.legend(['train', 'val'])\n",
    "\n",
    "plt.subplot(1, 2, 2)\n",
    "plt.plot(hist['acc'])\n",
    "plt.plot(hist['val_acc'])\n",
    "plt.ylabel('acc')\n",
    "plt.xlabel('epoch')\n",
    "plt.legend(['train', 'val'])"
   ]
  },
  {
   "cell_type": "markdown",
   "metadata": {},
   "source": [
    "# Deep model"
   ]
  },
  {
   "cell_type": "markdown",
   "metadata": {},
   "source": [
    "### Construct model"
   ]
  },
  {
   "cell_type": "code",
   "execution_count": 116,
   "metadata": {},
   "outputs": [],
   "source": [
    "# input\n",
    "deep_input = layers.Input(shape=(22, 1000))\n",
    "\n",
    "\n",
    "\n",
    "# ================================== CONV1 ================================== #\n",
    "\n",
    "# conv accross time domain\n",
    "r1 = layers.Reshape((22, 1000, 1))(deep_input)\n",
    "c1 = layers.Conv2D(25, (1, 10), strides=(1, 1), activation=\"elu\")(r1)\n",
    "t1 = tf.keras.layers.Permute((2, 3, 1))(c1)\n",
    "\n",
    "# conv accross channels\n",
    "r2 = layers.Reshape((991, 25*22, 1))(t1)\n",
    "c2 = layers.Conv2D(25, (1, 25*22), strides=(1, 1), activation=\"elu\")(r2)\n",
    "\n",
    "# max pool across time domain\n",
    "r3 = layers.Reshape((991, 25, 1))(c2)\n",
    "maxpool3 = layers.MaxPooling2D(pool_size=(3, 1), strides=(3, 1))(r3)\n",
    "\n",
    "# =========================================================================== #\n",
    "\n",
    "\n",
    "\n",
    "# ================================= CONV2-4 ================================= #\n",
    "\n",
    "c4 = layers.Conv2D(50, (10, 25), strides=(1, 1), activation=\"elu\")(maxpool3)\n",
    "r4 = layers.Reshape((321, 50, 1))(c4)\n",
    "maxpool4 = layers.MaxPooling2D(pool_size=(3, 1), strides=(3, 1))(r4)\n",
    "\n",
    "c5 = layers.Conv2D(100, (10, 50), strides=(1, 1), activation=\"elu\")(maxpool4)\n",
    "r5 = layers.Reshape((98, 100, 1))(c5)\n",
    "maxpool5 = layers.MaxPooling2D(pool_size=(3, 1), strides=(3, 1))(r5)\n",
    "\n",
    "c6 = layers.Conv2D(200, (10, 100), strides=(1, 1), activation=\"elu\")(maxpool5)\n",
    "r6 = layers.Reshape((23, 200, 1))(c6)\n",
    "maxpool6 = layers.MaxPooling2D(pool_size=(3, 1), strides=(3, 1))(r6)\n",
    "\n",
    "# =========================================================================== #\n",
    "\n",
    "f7 = layers.Flatten()(r6)\n",
    "\n",
    "# output\n",
    "deep_output = layers.Dense(4, activation=\"softmax\")(f7)"
   ]
  },
  {
   "cell_type": "code",
   "execution_count": 117,
   "metadata": {},
   "outputs": [],
   "source": [
    "deep_model = keras.Model(inputs = deep_input, outputs = deep_output, name=\"deep_model\")\n",
    "deep_model.compile(\"adam\", \"sparse_categorical_crossentropy\", metrics=[\"acc\"])"
   ]
  },
  {
   "cell_type": "code",
   "execution_count": 118,
   "metadata": {},
   "outputs": [
    {
     "name": "stdout",
     "output_type": "stream",
     "text": [
      "Model: \"deep_model\"\n",
      "_________________________________________________________________\n",
      "Layer (type)                 Output Shape              Param #   \n",
      "=================================================================\n",
      "input_39 (InputLayer)        [(None, 22, 1000)]        0         \n",
      "_________________________________________________________________\n",
      "reshape_130 (Reshape)        (None, 22, 1000, 1)       0         \n",
      "_________________________________________________________________\n",
      "conv2d_104 (Conv2D)          (None, 22, 991, 25)       275       \n",
      "_________________________________________________________________\n",
      "permute_33 (Permute)         (None, 991, 25, 22)       0         \n",
      "_________________________________________________________________\n",
      "reshape_131 (Reshape)        (None, 991, 550, 1)       0         \n",
      "_________________________________________________________________\n",
      "conv2d_105 (Conv2D)          (None, 991, 1, 25)        13775     \n",
      "_________________________________________________________________\n",
      "reshape_132 (Reshape)        (None, 991, 25, 1)        0         \n",
      "_________________________________________________________________\n",
      "max_pooling2d_47 (MaxPooling (None, 330, 25, 1)        0         \n",
      "_________________________________________________________________\n",
      "conv2d_106 (Conv2D)          (None, 321, 1, 50)        12550     \n",
      "_________________________________________________________________\n",
      "reshape_133 (Reshape)        (None, 321, 50, 1)        0         \n",
      "_________________________________________________________________\n",
      "max_pooling2d_48 (MaxPooling (None, 107, 50, 1)        0         \n",
      "_________________________________________________________________\n",
      "conv2d_107 (Conv2D)          (None, 98, 1, 100)        50100     \n",
      "_________________________________________________________________\n",
      "reshape_134 (Reshape)        (None, 98, 100, 1)        0         \n",
      "_________________________________________________________________\n",
      "max_pooling2d_49 (MaxPooling (None, 32, 100, 1)        0         \n",
      "_________________________________________________________________\n",
      "conv2d_108 (Conv2D)          (None, 23, 1, 200)        200200    \n",
      "_________________________________________________________________\n",
      "reshape_135 (Reshape)        (None, 23, 200, 1)        0         \n",
      "_________________________________________________________________\n",
      "flatten_15 (Flatten)         (None, 4600)              0         \n",
      "_________________________________________________________________\n",
      "dense_35 (Dense)             (None, 4)                 18404     \n",
      "=================================================================\n",
      "Total params: 295,304\n",
      "Trainable params: 295,304\n",
      "Non-trainable params: 0\n",
      "_________________________________________________________________\n"
     ]
    }
   ],
   "source": [
    "deep_model.summary()"
   ]
  },
  {
   "cell_type": "markdown",
   "metadata": {},
   "source": [
    "### Train model"
   ]
  },
  {
   "cell_type": "code",
   "execution_count": 119,
   "metadata": {},
   "outputs": [
    {
     "name": "stdout",
     "output_type": "stream",
     "text": [
      "Train on 1692 samples, validate on 423 samples\n",
      "Epoch 1/15\n",
      "1692/1692 [==============================] - 15s 9ms/sample - loss: 1.3553 - acc: 0.3363 - val_loss: 1.2681 - val_acc: 0.3853\n",
      "Epoch 2/15\n",
      "1692/1692 [==============================] - 14s 8ms/sample - loss: 1.2863 - acc: 0.3907 - val_loss: 1.2792 - val_acc: 0.4019\n",
      "Epoch 3/15\n",
      "1692/1692 [==============================] - 14s 8ms/sample - loss: 1.2360 - acc: 0.4261 - val_loss: 1.2549 - val_acc: 0.4279\n",
      "Epoch 4/15\n",
      "1692/1692 [==============================] - 14s 8ms/sample - loss: 1.1580 - acc: 0.4947 - val_loss: 1.2982 - val_acc: 0.4303\n",
      "Epoch 5/15\n",
      "1692/1692 [==============================] - 14s 8ms/sample - loss: 0.9882 - acc: 0.5898 - val_loss: 1.4359 - val_acc: 0.4066\n",
      "Epoch 6/15\n",
      "1692/1692 [==============================] - 14s 8ms/sample - loss: 0.7375 - acc: 0.7240 - val_loss: 1.7074 - val_acc: 0.4090\n",
      "Epoch 7/15\n",
      "1692/1692 [==============================] - 14s 8ms/sample - loss: 0.5217 - acc: 0.8067 - val_loss: 2.0501 - val_acc: 0.4066\n",
      "Epoch 8/15\n",
      "1692/1692 [==============================] - 14s 8ms/sample - loss: 0.2515 - acc: 0.9078 - val_loss: 2.7406 - val_acc: 0.4374\n",
      "Epoch 9/15\n",
      "1692/1692 [==============================] - 14s 8ms/sample - loss: 0.1823 - acc: 0.9332 - val_loss: 3.5349 - val_acc: 0.4066\n",
      "Epoch 10/15\n",
      "1692/1692 [==============================] - 14s 8ms/sample - loss: 0.1964 - acc: 0.9374 - val_loss: 4.1117 - val_acc: 0.4043\n",
      "Epoch 11/15\n",
      "1692/1692 [==============================] - 14s 9ms/sample - loss: 0.3415 - acc: 0.8960 - val_loss: 4.2354 - val_acc: 0.3948\n",
      "Epoch 12/15\n",
      "1692/1692 [==============================] - 14s 8ms/sample - loss: 0.3826 - acc: 0.8966 - val_loss: 4.5067 - val_acc: 0.3759\n",
      "Epoch 13/15\n",
      "1692/1692 [==============================] - 14s 8ms/sample - loss: 0.2782 - acc: 0.9173 - val_loss: 5.0659 - val_acc: 0.4468\n",
      "Epoch 14/15\n",
      "1692/1692 [==============================] - 15s 9ms/sample - loss: 0.1486 - acc: 0.9509 - val_loss: 4.7960 - val_acc: 0.4279\n",
      "Epoch 15/15\n",
      "1692/1692 [==============================] - 15s 9ms/sample - loss: 0.1047 - acc: 0.9681 - val_loss: 5.6160 - val_acc: 0.3806\n"
     ]
    }
   ],
   "source": [
    "deep_model_loss_hist = deep_model.fit(X_train, y_train,\n",
    "                                      validation_data = (X_valid, y_valid),\n",
    "                                      epochs = 10)"
   ]
  },
  {
   "cell_type": "markdown",
   "metadata": {},
   "source": [
    "# Deep model with augmentations"
   ]
  },
  {
   "cell_type": "markdown",
   "metadata": {},
   "source": [
    "### Construct model"
   ]
  },
  {
   "cell_type": "code",
   "execution_count": 173,
   "metadata": {},
   "outputs": [],
   "source": [
    "# after convolution and before activation we added batchnorm\n",
    "# after each activation we added dropout\n",
    "\n",
    "# input\n",
    "deep_aug_input = layers.Input(shape=(22, 1000))\n",
    "\n",
    "\n",
    "\n",
    "# ================================== CONV1 ================================== #\n",
    "\n",
    "# conv accross time domain\n",
    "r1 = layers.Reshape((22, 1000, 1), name=\"audnn_reshape_1_layer_1\")(deep_aug_input)\n",
    "c1 = layers.Conv2D(25, (1, 10), strides=(1, 1), name=\"audnn_conv_1_layer_1\")(r1)\n",
    "t1 = tf.keras.layers.Permute((2, 3, 1), name=\"audnn_permute_layer_1\")(c1)\n",
    "\n",
    "# # conv accross channels\n",
    "r2 = layers.Reshape((991, 25*22, 1), name=\"audnn_reshape_2_layer_1\")(t1)\n",
    "c2 = layers.Conv2D(25, (1, 25*22), strides=(1, 1), name=\"audnn_conv_2_layer_1\")(r2)\n",
    "bn2 = layers.BatchNormalization(axis=1, name=\"audnn_bn_layer_1\")(c2)                 # do I use the right filter?\n",
    "a2 = layers.Activation(\"elu\", name=\"audnn_act_layer_1\")(bn2)\n",
    "\n",
    "\n",
    "# max pool across time domain\n",
    "r3 = layers.Reshape((991, 25, 1), name=\"audnn_reshape_3_layer_1\")(a2)\n",
    "maxpool3 = layers.MaxPooling2D(pool_size=(3, 1), strides=(3, 1), name=\"audnn_max_pool_layer_1\")(r3)\n",
    "\n",
    "# # =========================================================================== #\n",
    "\n",
    "\n",
    "\n",
    "# # ================================= CONV2-4 ================================= #\n",
    "\n",
    "c4 = layers.Conv2D(50, (10, 25), strides=(1, 1), name=\"audnn_conv_layer_2\")(maxpool3)\n",
    "bn4 = layers.BatchNormalization(axis=1, name=\"audnn_bn_layer_2\")(c4)\n",
    "a4 = layers.Activation(\"elu\", name=\"audnn_act_layer_2\")(bn4)\n",
    "do4 = layers.Dropout(0.5, name=\"audnn_do_layer_2\")(a4)\n",
    "r4 = layers.Reshape((321, 50, 1), name=\"audnn_reshape_layer_2\")(do4)\n",
    "maxpool4 = layers.MaxPooling2D(pool_size=(3, 1), strides=(3, 1), name=\"audnn_max_pool_layer_2\")(r4)\n",
    "\n",
    "\n",
    "c5 = layers.Conv2D(100, (10, 50), strides=(1, 1), name=\"audnn_conv_layer_3\")(maxpool4)\n",
    "bn5 = layers.BatchNormalization(axis=1, name=\"audnn_bn_layer_3\")(c5)\n",
    "a5 = layers.Activation(\"elu\", name=\"audnn_act_layer_3\")(bn5)\n",
    "do5 = layers.Dropout(0.5, name=\"audnn_do_layer_3\")(a5)\n",
    "r5 = layers.Reshape((98, 100, 1), name=\"audnn_reshape_layer_3\")(do5)\n",
    "maxpool5 = layers.MaxPooling2D(pool_size=(3, 1), strides=(3, 1), name=\"audnn_max_pool_layer_3\")(r5)\n",
    "\n",
    "\n",
    "c6 = layers.Conv2D(200, (10, 100), strides=(1, 1), name=\"audnn_conv_layer_4\")(maxpool5)\n",
    "bn6 = layers.BatchNormalization(axis=1, name=\"audnn_bn_layer_4\")(c6)\n",
    "a6 = layers.Activation(\"elu\", name=\"audnn_act_layer_4\")(bn6)\n",
    "do6 = layers.Dropout(0.5, name=\"audnn_do_layer_4\")(a6)\n",
    "r6 = layers.Reshape((23, 200, 1), name=\"audnn_reshape_layer_4\")(do6)\n",
    "maxpool6 = layers.MaxPooling2D(pool_size=(3, 1), strides=(3, 1), name=\"audnn_max_pool_layer_4\")(r6)\n",
    "\n",
    "# # =========================================================================== #\n",
    "\n",
    "f7 = layers.Flatten()(do6)\n",
    "\n",
    "# output\n",
    "deep_aug_output = layers.Dense(4, activation=\"softmax\")(f7)"
   ]
  },
  {
   "cell_type": "code",
   "execution_count": 174,
   "metadata": {},
   "outputs": [],
   "source": [
    "deep_aug_model = keras.Model(inputs = deep_aug_input, outputs = deep_aug_output, name=\"deep_aug_model\")\n",
    "deep_aug_model.compile(\"adam\", \"sparse_categorical_crossentropy\", metrics=[\"acc\"])"
   ]
  },
  {
   "cell_type": "code",
   "execution_count": 175,
   "metadata": {},
   "outputs": [
    {
     "name": "stdout",
     "output_type": "stream",
     "text": [
      "Model: \"deep_aug_model\"\n",
      "_________________________________________________________________\n",
      "Layer (type)                 Output Shape              Param #   \n",
      "=================================================================\n",
      "input_56 (InputLayer)        [(None, 22, 1000)]        0         \n",
      "_________________________________________________________________\n",
      "audnn_reshape_1_layer_1 (Res (None, 22, 1000, 1)       0         \n",
      "_________________________________________________________________\n",
      "audnn_conv_1_layer_1 (Conv2D (None, 22, 991, 25)       275       \n",
      "_________________________________________________________________\n",
      "audnn_permute_layer_1 (Permu (None, 991, 25, 22)       0         \n",
      "_________________________________________________________________\n",
      "audnn_reshape_2_layer_1 (Res (None, 991, 550, 1)       0         \n",
      "_________________________________________________________________\n",
      "audnn_conv_2_layer_1 (Conv2D (None, 991, 1, 25)        13775     \n",
      "_________________________________________________________________\n",
      "audnn_bn_layer_1 (BatchNorma (None, 991, 1, 25)        3964      \n",
      "_________________________________________________________________\n",
      "audnn_act_layer_1 (Activatio (None, 991, 1, 25)        0         \n",
      "_________________________________________________________________\n",
      "audnn_reshape_3_layer_1 (Res (None, 991, 25, 1)        0         \n",
      "_________________________________________________________________\n",
      "audnn_max_pool_layer_1 (MaxP (None, 330, 25, 1)        0         \n",
      "_________________________________________________________________\n",
      "audnn_conv_layer_2 (Conv2D)  (None, 321, 1, 50)        12550     \n",
      "_________________________________________________________________\n",
      "audnn_bn_layer_2 (BatchNorma (None, 321, 1, 50)        1284      \n",
      "_________________________________________________________________\n",
      "audnn_act_layer_2 (Activatio (None, 321, 1, 50)        0         \n",
      "_________________________________________________________________\n",
      "audnn_do_layer_2 (Dropout)   (None, 321, 1, 50)        0         \n",
      "_________________________________________________________________\n",
      "audnn_reshape_layer_2 (Resha (None, 321, 50, 1)        0         \n",
      "_________________________________________________________________\n",
      "audnn_max_pool_layer_2 (MaxP (None, 107, 50, 1)        0         \n",
      "_________________________________________________________________\n",
      "audnn_conv_layer_3 (Conv2D)  (None, 98, 1, 100)        50100     \n",
      "_________________________________________________________________\n",
      "audnn_bn_layer_3 (BatchNorma (None, 98, 1, 100)        392       \n",
      "_________________________________________________________________\n",
      "audnn_act_layer_3 (Activatio (None, 98, 1, 100)        0         \n",
      "_________________________________________________________________\n",
      "audnn_do_layer_3 (Dropout)   (None, 98, 1, 100)        0         \n",
      "_________________________________________________________________\n",
      "audnn_reshape_layer_3 (Resha (None, 98, 100, 1)        0         \n",
      "_________________________________________________________________\n",
      "audnn_max_pool_layer_3 (MaxP (None, 32, 100, 1)        0         \n",
      "_________________________________________________________________\n",
      "audnn_conv_layer_4 (Conv2D)  (None, 23, 1, 200)        200200    \n",
      "_________________________________________________________________\n",
      "audnn_bn_layer_4 (BatchNorma (None, 23, 1, 200)        92        \n",
      "_________________________________________________________________\n",
      "audnn_act_layer_4 (Activatio (None, 23, 1, 200)        0         \n",
      "_________________________________________________________________\n",
      "audnn_do_layer_4 (Dropout)   (None, 23, 1, 200)        0         \n",
      "_________________________________________________________________\n",
      "flatten_18 (Flatten)         (None, 4600)              0         \n",
      "_________________________________________________________________\n",
      "dense_52 (Dense)             (None, 4)                 18404     \n",
      "=================================================================\n",
      "Total params: 301,036\n",
      "Trainable params: 298,170\n",
      "Non-trainable params: 2,866\n",
      "_________________________________________________________________\n"
     ]
    }
   ],
   "source": [
    "deep_aug_model.summary()"
   ]
  },
  {
   "cell_type": "code",
   "execution_count": 172,
   "metadata": {},
   "outputs": [
    {
     "name": "stdout",
     "output_type": "stream",
     "text": [
      "Train on 1692 samples, validate on 423 samples\n",
      "Epoch 1/10\n",
      "1692/1692 [==============================] - 15s 9ms/sample - loss: 0.5560 - acc: 0.7926 - val_loss: 1.1139 - val_acc: 0.5768\n",
      "Epoch 2/10\n",
      "1692/1692 [==============================] - 15s 9ms/sample - loss: 0.5864 - acc: 0.7671 - val_loss: 1.0563 - val_acc: 0.6028\n",
      "Epoch 3/10\n",
      "1692/1692 [==============================] - 16s 9ms/sample - loss: 0.5374 - acc: 0.8079 - val_loss: 0.9421 - val_acc: 0.6359\n",
      "Epoch 4/10\n",
      "1692/1692 [==============================] - 16s 9ms/sample - loss: 0.4940 - acc: 0.8050 - val_loss: 1.1644 - val_acc: 0.5863\n",
      "Epoch 5/10\n",
      "1692/1692 [==============================] - 15s 9ms/sample - loss: 0.4445 - acc: 0.8251 - val_loss: 1.6800 - val_acc: 0.4752\n",
      "Epoch 6/10\n",
      "1692/1692 [==============================] - 15s 9ms/sample - loss: 0.4490 - acc: 0.8304 - val_loss: 0.9795 - val_acc: 0.6312\n",
      "Epoch 7/10\n",
      "1692/1692 [==============================] - 14s 9ms/sample - loss: 0.4471 - acc: 0.8150 - val_loss: 1.5255 - val_acc: 0.4870\n",
      "Epoch 8/10\n",
      "1692/1692 [==============================] - 14s 9ms/sample - loss: 0.4236 - acc: 0.8339 - val_loss: 1.1443 - val_acc: 0.5816\n",
      "Epoch 9/10\n",
      "1692/1692 [==============================] - 15s 9ms/sample - loss: 0.4271 - acc: 0.8345 - val_loss: 1.2072 - val_acc: 0.5650\n",
      "Epoch 10/10\n",
      "1692/1692 [==============================] - 14s 9ms/sample - loss: 0.4075 - acc: 0.8452 - val_loss: 1.5137 - val_acc: 0.5012\n"
     ]
    }
   ],
   "source": [
    "deep_aug_model_loss_hist = deep_aug_model.fit(X_train, y_train,\n",
    "                                      validation_data = (X_valid, y_valid),\n",
    "                                      epochs = 30)"
   ]
  },
  {
   "cell_type": "markdown",
   "metadata": {},
   "source": [
    "# Results"
   ]
  },
  {
   "cell_type": "code",
   "execution_count": 171,
   "metadata": {},
   "outputs": [
    {
     "name": "stdout",
     "output_type": "stream",
     "text": [
      "443/443 [==============================] - 2s 4ms/sample - loss: 1.0691 - acc: 0.5598\n",
      "443/443 [==============================] - 1s 2ms/sample - loss: 6.3275 - acc: 0.3702\n",
      "443/443 [==============================] - 1s 2ms/sample - loss: 1.0087 - acc: 0.5937\n",
      "\n",
      "# Evaluate on test data\n",
      "Shallow model test loss, test acc: [1.0690552577477277, 0.5598194]\n",
      "Deep model test loss, test acc: [6.3275180401167, 0.37020317]\n",
      "Deep model with augmentations test loss, test acc: [1.0086767906260006, 0.5936795]\n"
     ]
    }
   ],
   "source": [
    "shallow_model_results = shallow_model.evaluate(X_test, y_test, batch_size=128)\n",
    "deep_model_results = deep_model.evaluate(X_test, y_test, batch_size=128)\n",
    "deep_aug_model_results = deep_aug_model.evaluate(X_test, y_test, batch_size=128)\n",
    "\n",
    "\n",
    "print('\\n# Evaluate on test data')\n",
    "print('Shallow model test loss, test acc:', shallow_model_results)\n",
    "print('Deep model test loss, test acc:', deep_model_results)\n",
    "print('Deep model with augmentations test loss, test acc:', deep_aug_model_results)"
   ]
  }
 ],
 "metadata": {
  "kernelspec": {
   "display_name": "venv_prj_C247",
   "language": "python",
   "name": "venv_prj_c247"
  },
  "language_info": {
   "codemirror_mode": {
    "name": "ipython",
    "version": 3
   },
   "file_extension": ".py",
   "mimetype": "text/x-python",
   "name": "python",
   "nbconvert_exporter": "python",
   "pygments_lexer": "ipython3",
   "version": "3.5.6"
  },
  "varInspector": {
   "cols": {
    "lenName": 16,
    "lenType": 16,
    "lenVar": 40
   },
   "kernels_config": {
    "python": {
     "delete_cmd_postfix": "",
     "delete_cmd_prefix": "del ",
     "library": "var_list.py",
     "varRefreshCmd": "print(var_dic_list())"
    },
    "r": {
     "delete_cmd_postfix": ") ",
     "delete_cmd_prefix": "rm(",
     "library": "var_list.r",
     "varRefreshCmd": "cat(var_dic_list()) "
    }
   },
   "oldHeight": 654.545454,
   "position": {
    "height": "40px",
    "left": "266.375px",
    "right": "20px",
    "top": "2px",
    "width": "800px"
   },
   "types_to_exclude": [
    "module",
    "function",
    "builtin_function_or_method",
    "instance",
    "_Feature"
   ],
   "varInspector_section_display": "none",
   "window_display": false
  }
 },
 "nbformat": 4,
 "nbformat_minor": 2
}
