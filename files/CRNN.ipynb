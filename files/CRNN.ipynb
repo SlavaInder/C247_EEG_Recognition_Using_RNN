{
 "cells": [
  {
   "cell_type": "markdown",
   "metadata": {},
   "source": [
    "# Set up the environment"
   ]
  },
  {
   "cell_type": "code",
   "execution_count": 1,
   "metadata": {},
   "outputs": [],
   "source": [
    "%load_ext autoreload\n",
    "%autoreload 2\n",
    "%matplotlib inline"
   ]
  },
  {
   "cell_type": "code",
   "execution_count": 2,
   "metadata": {},
   "outputs": [],
   "source": [
    "from __future__ import absolute_import, division, print_function, unicode_literals\n",
    "\n",
    "# import tf\n",
    "import tensorflow as tf\n",
    "import tensorflow.keras as keras\n",
    "import tensorflow.keras.layers as layers\n",
    "import tensorflow.keras.backend as K\n",
    "\n",
    "# import os functions\n",
    "import os\n",
    "import time\n",
    "\n",
    "import numpy as np\n",
    "import matplotlib.pyplot as plt\n",
    "\n",
    "from IPython import display"
   ]
  },
  {
   "cell_type": "markdown",
   "metadata": {},
   "source": [
    "# Load the data"
   ]
  },
  {
   "cell_type": "markdown",
   "metadata": {},
   "source": [
    "### Read the files"
   ]
  },
  {
   "cell_type": "code",
   "execution_count": 3,
   "metadata": {},
   "outputs": [],
   "source": [
    "X_test = np.load(\"./EEG_data/X_test.npy\")\n",
    "y_test = np.load(\"./EEG_data/y_test.npy\") - 769\n",
    "person_train_valid = np.load(\"./EEG_data/person_train_valid.npy\")\n",
    "X_train_valid = np.load(\"./EEG_data/X_train_valid.npy\")\n",
    "y_train_valid = np.load(\"./EEG_data/y_train_valid.npy\") - 769\n",
    "person_test = np.load(\"./EEG_data/person_test.npy\")"
   ]
  },
  {
   "cell_type": "markdown",
   "metadata": {},
   "source": [
    "### Shape of data"
   ]
  },
  {
   "cell_type": "code",
   "execution_count": 4,
   "metadata": {},
   "outputs": [
    {
     "name": "stdout",
     "output_type": "stream",
     "text": [
      "training/Valid data shape: (2115, 22, 1000)\n",
      "Test data shape: (443, 22, 1000)\n",
      "Training/Valid target shape: (2115,)\n",
      "Test target shape: (443,)\n",
      "Person train/valid  shape: (2115, 1)\n",
      "Person test shape: (443, 1)\n"
     ]
    }
   ],
   "source": [
    "print(\"training/Valid data shape: {}\".format(X_train_valid.shape))       # training data of many persons\n",
    "print(\"Test data shape: {}\".format(X_test.shape))                        # test data of many persons\n",
    "print(\"Training/Valid target shape: {}\".format(y_train_valid.shape))     # training labels of many persons\n",
    "print(\"Test target shape: {}\".format(y_test.shape))                      # test labels of many persons\n",
    "print(\"Person train/valid  shape: {}\".format(person_train_valid.shape))  # which person correspond to the trail in test set\n",
    "print(\"Person test shape: {}\".format(person_test.shape))                 # which person correspond to the trail in test set"
   ]
  },
  {
   "cell_type": "markdown",
   "metadata": {},
   "source": [
    "### divide dataset into training and validation"
   ]
  },
  {
   "cell_type": "code",
   "execution_count": 5,
   "metadata": {},
   "outputs": [
    {
     "name": "stdout",
     "output_type": "stream",
     "text": [
      "Training data shape: (1692, 22, 1000)\n",
      "Training label shape: (1692,)\n",
      "Validation data shape: (423, 22, 1000)\n",
      "Validation label shape: (423,)\n",
      "Test data shape: (443, 22, 1000)\n",
      "Test label shape: (443,)\n"
     ]
    }
   ],
   "source": [
    "perm = np.random.permutation(X_train_valid.shape[0])\n",
    "num_train = int(0.8 * X_train_valid.shape[0])\n",
    "num_valid = X_train_valid.shape[0] - num_train\n",
    "X_train =  X_train_valid[perm[0:num_train]]\n",
    "y_train =  y_train_valid[perm[0:num_train]]\n",
    "X_valid = X_train_valid[perm[num_train: ]]\n",
    "y_valid = y_train_valid[perm[num_train: ]]\n",
    "\n",
    "\n",
    "print(\"Training data shape: {}\".format(X_train.shape))\n",
    "print(\"Training label shape: {}\".format(y_train.shape))\n",
    "print(\"Validation data shape: {}\".format(X_valid.shape))\n",
    "print(\"Validation label shape: {}\".format(y_valid.shape))\n",
    "print(\"Test data shape: {}\".format(X_test.shape))\n",
    "print(\"Test label shape: {}\".format(y_test.shape))"
   ]
  },
  {
   "cell_type": "markdown",
   "metadata": {},
   "source": [
    "### Preprocess data"
   ]
  },
  {
   "cell_type": "code",
   "execution_count": 6,
   "metadata": {},
   "outputs": [],
   "source": [
    "def sliding_window(X_arr, y_arr, time_window=100, time_step=1, time_stride=1):\n",
    "    temp_x = np.moveaxis(X_arr, 2, 0)\n",
    "    temp_x = temp_x.astype(np.float32)\n",
    "    buff = []\n",
    "    \n",
    "    num_slices = (len(temp_x)-time_window*time_step) // time_stride + 1\n",
    "    \n",
    "    # get time slices for data\n",
    "    for i in range(num_slices):\n",
    "        buff.append(temp_x[i*time_stride:i*time_stride + time_window*time_step:time_step])\n",
    "        buff[i] = np.moveaxis(buff[i], 0, 2)\n",
    "        # uncomment this if additional dimension is needed\n",
    "        # buff[i] = buff[i].reshape(1, buff[i].shape[0], buff[i].shape[1], buff[i].shape[2])\n",
    "        \n",
    "    temp_x = np.concatenate(buff)\n",
    "        \n",
    "    # get time slice for labels\n",
    "    temp_y = np.ones((X_arr.shape[0],num_slices))\n",
    "    \n",
    "    for i in range(len(y_arr)):\n",
    "        temp_y[i] = temp_y[i] * y_arr[i]\n",
    "        \n",
    "    temp_y = temp_y.reshape((-1))\n",
    "    \n",
    "    return temp_x, temp_y"
   ]
  },
  {
   "cell_type": "markdown",
   "metadata": {},
   "source": [
    "# Experiment 1: CRNN"
   ]
  },
  {
   "cell_type": "markdown",
   "metadata": {},
   "source": [
    "In this experiment we make a model inspired by \"Recurrent Deep Neural Networks for Real-Time Sleep Stage Classification From Single Channel EEG\" by E. Bresch, 2018. We reduce kernel size of the filters because our data has less timestamps."
   ]
  },
  {
   "cell_type": "markdown",
   "metadata": {},
   "source": [
    "### Construct model"
   ]
  },
  {
   "cell_type": "code",
   "execution_count": 55,
   "metadata": {},
   "outputs": [],
   "source": [
    "def construct_CRNN_model(TIME_WINDOW, dropout=0, regularizer=0):\n",
    "    # input\n",
    "    crnn_input = layers.Input(shape=(22, TIME_WINDOW))\n",
    "\n",
    "\n",
    "    # ================================== CONV1 ================================== #\n",
    "\n",
    "    t1 = tf.keras.layers.Permute((2, 1))(crnn_input)\n",
    "    c1 = layers.Conv1D(32, 4, strides=1)(t1)\n",
    "    new_size = TIME_WINDOW - 8 + 1\n",
    "    \n",
    "    bn1 = layers.BatchNormalization(axis=1)(c1)\n",
    "    a1 = layers.Activation(\"relu\")(bn1)\n",
    "    do1 = layers.Dropout(0.5)(a1)\n",
    "    maxpool1 = layers.MaxPooling1D(4)(do1)\n",
    "    new_size = new_size//8 + 1\n",
    "    \n",
    "    # =========================================================================== #\n",
    "\n",
    "    # ================================== CONV2 ================================== #\n",
    "\n",
    "    c2 = layers.Conv1D(64, 4, strides=1)(maxpool1)\n",
    "    new_size = new_size - 8 + 1\n",
    "    \n",
    "    bn2 = layers.BatchNormalization(axis=1)(c2)\n",
    "    a2 = layers.Activation(\"relu\")(bn2)\n",
    "    do2 = layers.Dropout(0.5)(a2)\n",
    "    maxpool2 = layers.MaxPooling1D(4)(do2)\n",
    "    new_size = new_size//8 + 1\n",
    "    \n",
    "    # =========================================================================== #\n",
    "\n",
    "\n",
    "    # ================================== LSTM ================================== #\n",
    "\n",
    "    lstm3 = layers.LSTM(64, \n",
    "                        return_sequences=True, \n",
    "                        dropout=dropout, \n",
    "                        kernel_regularizer=keras.regularizers.l2(regularizer))(maxpool2)\n",
    "    lstm4 = layers.LSTM(64, \n",
    "                        return_sequences=True, \n",
    "                        dropout=dropout,\n",
    "                        kernel_regularizer=keras.regularizers.l2(regularizer),\n",
    "                        recurrent_constraint=keras.regularizers.l2(regularizer),\n",
    "                        activity_regularizer=keras.regularizers.l2(regularizer))(lstm3)\n",
    "\n",
    "    \n",
    "    # =========================================================================== #\n",
    "\n",
    "    f7 = layers.Flatten()(lstm4)\n",
    "\n",
    "    # output\n",
    "    crnn_output = layers.Dense(4, activation=\"softmax\")(f7)\n",
    "    \n",
    "    return keras.Model(inputs = crnn_input, outputs = crnn_output)"
   ]
  },
  {
   "cell_type": "code",
   "execution_count": 34,
   "metadata": {},
   "outputs": [],
   "source": [
    "crnn_model_1000 = construct_CRNN_model(1000, dropout=0.3, regularizer=0.001)\n",
    "crnn_model_1000.compile(\"adam\", \"sparse_categorical_crossentropy\", metrics=[\"acc\"])"
   ]
  },
  {
   "cell_type": "code",
   "execution_count": 35,
   "metadata": {},
   "outputs": [
    {
     "name": "stdout",
     "output_type": "stream",
     "text": [
      "Model: \"model_4\"\n",
      "_________________________________________________________________\n",
      "Layer (type)                 Output Shape              Param #   \n",
      "=================================================================\n",
      "input_9 (InputLayer)         [(None, 22, 1000)]        0         \n",
      "_________________________________________________________________\n",
      "permute_9 (Permute)          (None, 1000, 22)          0         \n",
      "_________________________________________________________________\n",
      "conv1d_10 (Conv1D)           (None, 997, 32)           2848      \n",
      "_________________________________________________________________\n",
      "batch_normalization_8 (Batch (None, 997, 32)           3988      \n",
      "_________________________________________________________________\n",
      "activation_8 (Activation)    (None, 997, 32)           0         \n",
      "_________________________________________________________________\n",
      "dropout_8 (Dropout)          (None, 997, 32)           0         \n",
      "_________________________________________________________________\n",
      "max_pooling1d_7 (MaxPooling1 (None, 249, 32)           0         \n",
      "_________________________________________________________________\n",
      "conv1d_11 (Conv1D)           (None, 246, 64)           8256      \n",
      "_________________________________________________________________\n",
      "batch_normalization_9 (Batch (None, 246, 64)           984       \n",
      "_________________________________________________________________\n",
      "activation_9 (Activation)    (None, 246, 64)           0         \n",
      "_________________________________________________________________\n",
      "dropout_9 (Dropout)          (None, 246, 64)           0         \n",
      "_________________________________________________________________\n",
      "max_pooling1d_8 (MaxPooling1 (None, 61, 64)            0         \n",
      "_________________________________________________________________\n",
      "lstm_2 (LSTM)                (None, 61, 64)            33024     \n",
      "_________________________________________________________________\n",
      "lstm_3 (LSTM)                (None, 61, 64)            33024     \n",
      "_________________________________________________________________\n",
      "flatten_4 (Flatten)          (None, 3904)              0         \n",
      "_________________________________________________________________\n",
      "dense_4 (Dense)              (None, 4)                 15620     \n",
      "=================================================================\n",
      "Total params: 97,744\n",
      "Trainable params: 95,258\n",
      "Non-trainable params: 2,486\n",
      "_________________________________________________________________\n"
     ]
    }
   ],
   "source": [
    "crnn_model_1000.summary()"
   ]
  },
  {
   "cell_type": "markdown",
   "metadata": {},
   "source": [
    "### Make checkpoints"
   ]
  },
  {
   "cell_type": "code",
   "execution_count": 36,
   "metadata": {},
   "outputs": [],
   "source": [
    "# save model with the best accuracy \n",
    "checkpoint_callback = [\n",
    "    keras.callbacks.ModelCheckpoint(\n",
    "        filepath='./model_checkpoints/crnn_1000',\n",
    "        # Path where to save the model\n",
    "        # The two parameters below mean that we will overwrite\n",
    "        # the current checkpoint if and only if\n",
    "        # the `val_loss` score has improved.\n",
    "        save_best_only=True,\n",
    "        monitor='val_loss',\n",
    "        verbose=1)\n",
    "]### Make checkpoints"
   ]
  },
  {
   "cell_type": "markdown",
   "metadata": {},
   "source": [
    "### Train model"
   ]
  },
  {
   "cell_type": "code",
   "execution_count": 37,
   "metadata": {},
   "outputs": [
    {
     "name": "stdout",
     "output_type": "stream",
     "text": [
      "Train on 1692 samples, validate on 423 samples\n",
      "Epoch 1/10\n",
      "1664/1692 [============================>.] - ETA: 0s - loss: 1.5707 - acc: 0.3047\n",
      "Epoch 00001: val_loss improved from inf to 1.50053, saving model to ./model_checkpoints/crnn_1000\n",
      "INFO:tensorflow:Assets written to: ./model_checkpoints/crnn_1000\\assets\n",
      "1692/1692 [==============================] - 14s 8ms/sample - loss: 1.5689 - acc: 0.3073 - val_loss: 1.5005 - val_acc: 0.3617\n",
      "Epoch 2/10\n",
      "1664/1692 [============================>.] - ETA: 0s - loss: 1.4721 - acc: 0.3552\n",
      "Epoch 00002: val_loss improved from 1.50053 to 1.44891, saving model to ./model_checkpoints/crnn_1000\n",
      "INFO:tensorflow:Assets written to: ./model_checkpoints/crnn_1000\\assets\n",
      "1692/1692 [==============================] - 12s 7ms/sample - loss: 1.4718 - acc: 0.3546 - val_loss: 1.4489 - val_acc: 0.3806\n",
      "Epoch 3/10\n",
      "1664/1692 [============================>.] - ETA: 0s - loss: 1.4006 - acc: 0.4159\n",
      "Epoch 00003: val_loss improved from 1.44891 to 1.35931, saving model to ./model_checkpoints/crnn_1000\n",
      "INFO:tensorflow:Assets written to: ./model_checkpoints/crnn_1000\\assets\n",
      "1692/1692 [==============================] - 12s 7ms/sample - loss: 1.4000 - acc: 0.4161 - val_loss: 1.3593 - val_acc: 0.4397\n",
      "Epoch 4/10\n",
      "1664/1692 [============================>.] - ETA: 0s - loss: 1.3119 - acc: 0.4706\n",
      "Epoch 00004: val_loss improved from 1.35931 to 1.29201, saving model to ./model_checkpoints/crnn_1000\n",
      "INFO:tensorflow:Assets written to: ./model_checkpoints/crnn_1000\\assets\n",
      "1692/1692 [==============================] - 13s 8ms/sample - loss: 1.3081 - acc: 0.4716 - val_loss: 1.2920 - val_acc: 0.4586\n",
      "Epoch 5/10\n",
      "1664/1692 [============================>.] - ETA: 0s - loss: 1.2632 - acc: 0.4922\n",
      "Epoch 00005: val_loss improved from 1.29201 to 1.27884, saving model to ./model_checkpoints/crnn_1000\n",
      "INFO:tensorflow:Assets written to: ./model_checkpoints/crnn_1000\\assets\n",
      "1692/1692 [==============================] - 13s 8ms/sample - loss: 1.2589 - acc: 0.4929 - val_loss: 1.2788 - val_acc: 0.4728\n",
      "Epoch 6/10\n",
      "1664/1692 [============================>.] - ETA: 0s - loss: 1.2064 - acc: 0.5138\n",
      "Epoch 00006: val_loss did not improve from 1.27884\n",
      "1692/1692 [==============================] - 7s 4ms/sample - loss: 1.2015 - acc: 0.5154 - val_loss: 1.3308 - val_acc: 0.4468\n",
      "Epoch 7/10\n",
      "1664/1692 [============================>.] - ETA: 0s - loss: 1.1790 - acc: 0.5379\n",
      "Epoch 00007: val_loss improved from 1.27884 to 1.24086, saving model to ./model_checkpoints/crnn_1000\n",
      "INFO:tensorflow:Assets written to: ./model_checkpoints/crnn_1000\\assets\n",
      "1692/1692 [==============================] - 13s 8ms/sample - loss: 1.1775 - acc: 0.5378 - val_loss: 1.2409 - val_acc: 0.4681\n",
      "Epoch 8/10\n",
      "1664/1692 [============================>.] - ETA: 0s - loss: 1.1427 - acc: 0.5397\n",
      "Epoch 00008: val_loss improved from 1.24086 to 1.21503, saving model to ./model_checkpoints/crnn_1000\n",
      "INFO:tensorflow:Assets written to: ./model_checkpoints/crnn_1000\\assets\n",
      "1692/1692 [==============================] - 13s 8ms/sample - loss: 1.1455 - acc: 0.5378 - val_loss: 1.2150 - val_acc: 0.5343\n",
      "Epoch 9/10\n",
      "1664/1692 [============================>.] - ETA: 0s - loss: 1.0929 - acc: 0.5715\n",
      "Epoch 00009: val_loss improved from 1.21503 to 1.17996, saving model to ./model_checkpoints/crnn_1000\n",
      "INFO:tensorflow:Assets written to: ./model_checkpoints/crnn_1000\\assets\n",
      "1692/1692 [==============================] - 14s 8ms/sample - loss: 1.0946 - acc: 0.5697 - val_loss: 1.1800 - val_acc: 0.5248\n",
      "Epoch 10/10\n",
      "1664/1692 [============================>.] - ETA: 0s - loss: 1.0628 - acc: 0.6076\n",
      "Epoch 00010: val_loss did not improve from 1.17996\n",
      "1692/1692 [==============================] - 8s 5ms/sample - loss: 1.0621 - acc: 0.6070 - val_loss: 1.2365 - val_acc: 0.4610\n"
     ]
    }
   ],
   "source": [
    "crnn_model_1000_loss_hist = crnn_model_1000.fit(X_train, y_train,\n",
    "                                                validation_data = (X_valid, y_valid),\n",
    "                                                epochs = 10,\n",
    "                                                callbacks=checkpoint_callback)"
   ]
  },
  {
   "cell_type": "markdown",
   "metadata": {},
   "source": [
    "### Log"
   ]
  },
  {
   "cell_type": "markdown",
   "metadata": {},
   "source": [
    "crnn_model_1000 = construct_CRNN_model(1000, dropout=0.3, regularizer=0.001) 55 % at best\n",
    "\n",
    "added activity regularizer.\n",
    "\n",
    "aug_crnn_model_1000 = construct_CRNN_model(1000, dropout=0.3, regularizer=0.01) 43% at best\n",
    "\n",
    "aug_crnn_model_1000 = construct_CRNN_model(1000, dropout=0.5, regularizer=0.005) 53% at best\n",
    "\n",
    "changed relu to elu, addded a new dense elu layer in the end, addded new lstm layer\n",
    "\n",
    "construct_aug_CRNN_model(1000, dropout=0.3, regularizer=0.005)"
   ]
  },
  {
   "cell_type": "markdown",
   "metadata": {},
   "source": [
    "# Experiment 2: augmented CRNN"
   ]
  },
  {
   "cell_type": "markdown",
   "metadata": {},
   "source": [
    "In this experiment we add a dense layer in the end. Intuitively, it should help to form better features out of LSTM output. We also add one more layer for improved resolution."
   ]
  },
  {
   "cell_type": "markdown",
   "metadata": {},
   "source": [
    "### Construct model"
   ]
  },
  {
   "cell_type": "code",
   "execution_count": 111,
   "metadata": {},
   "outputs": [],
   "source": [
    "def construct_aug_CRNN_model(TIME_WINDOW, dropout=0, regularizer=0):\n",
    "    # input\n",
    "    crnn_input = layers.Input(shape=(22, TIME_WINDOW))\n",
    "\n",
    "\n",
    "    # ================================== CONV1 ================================== #\n",
    "\n",
    "    t1 = tf.keras.layers.Permute((2, 1))(crnn_input)\n",
    "    c1 = layers.Conv1D(32, 4, strides=1)(t1)\n",
    "    new_size = TIME_WINDOW - 8 + 1\n",
    "    \n",
    "    bn1 = layers.BatchNormalization(axis=1)(c1)\n",
    "    a1 = layers.Activation(\"elu\")(bn1)\n",
    "    do1 = layers.Dropout(0.5)(a1)\n",
    "    maxpool1 = layers.MaxPooling1D(4)(do1)\n",
    "    new_size = new_size//8 + 1\n",
    "    \n",
    "    # =========================================================================== #\n",
    "\n",
    "    # ================================== CONV2 ================================== #\n",
    "\n",
    "    c2 = layers.Conv1D(64, 4, strides=1)(maxpool1)\n",
    "    new_size = new_size - 8 + 1\n",
    "    \n",
    "    bn2 = layers.BatchNormalization(axis=1)(c2)\n",
    "    a2 = layers.Activation(\"elu\")(bn2)\n",
    "    do2 = layers.Dropout(0.5)(a2)\n",
    "    maxpool2 = layers.MaxPooling1D(4)(do2)\n",
    "    new_size = new_size//8 + 1\n",
    "    \n",
    "    # =========================================================================== #\n",
    "\n",
    "\n",
    "    # ================================== LSTM ================================== #\n",
    "\n",
    "    lstm3 = layers.LSTM(64, \n",
    "                        return_sequences=True, \n",
    "                        dropout=dropout, \n",
    "                        kernel_regularizer=keras.regularizers.l2(regularizer),\n",
    "                        activity_regularizer=keras.regularizers.l2(regularizer))(maxpool2)\n",
    "    lstm4 = layers.LSTM(64, \n",
    "                        return_sequences=True, \n",
    "                        dropout=dropout,\n",
    "                        kernel_regularizer=keras.regularizers.l2(regularizer),\n",
    "                        activity_regularizer=keras.regularizers.l2(regularizer))(lstm3)\n",
    "    \n",
    "    lstm5 = layers.LSTM(16, \n",
    "                        return_sequences=True, \n",
    "                        dropout=dropout,\n",
    "                        kernel_regularizer=keras.regularizers.l2(regularizer),\n",
    "                        activity_regularizer=keras.regularizers.l2(regularizer))(lstm4)\n",
    "\n",
    "\n",
    "    \n",
    "    # =========================================================================== #\n",
    "\n",
    "    f7 = layers.Flatten()(lstm5)\n",
    "    \n",
    "    elu7 = layers.Dense(64 * new_size, activation=\"elu\", kernel_regularizer=keras.regularizers.l2(regularizer))(f7)\n",
    "\n",
    "    # output\n",
    "    crnn_output = layers.Dense(4, activation=\"softmax\")(elu7)\n",
    "    \n",
    "    return keras.Model(inputs = crnn_input, outputs = crnn_output)"
   ]
  },
  {
   "cell_type": "code",
   "execution_count": 115,
   "metadata": {},
   "outputs": [],
   "source": [
    "aug_crnn_model_1000.compile(keras.optimizers.Adam(), \"sparse_categorical_crossentropy\", metrics=[\"acc\"])\n",
    "aug_crnn_model_1000 = construct_aug_CRNN_model(1000, dropout=0.3, regularizer=0.001)"
   ]
  },
  {
   "cell_type": "code",
   "execution_count": 116,
   "metadata": {},
   "outputs": [
    {
     "name": "stdout",
     "output_type": "stream",
     "text": [
      "Model: \"model_23\"\n",
      "_________________________________________________________________\n",
      "Layer (type)                 Output Shape              Param #   \n",
      "=================================================================\n",
      "input_29 (InputLayer)        [(None, 22, 1000)]        0         \n",
      "_________________________________________________________________\n",
      "permute_29 (Permute)         (None, 1000, 22)          0         \n",
      "_________________________________________________________________\n",
      "conv1d_50 (Conv1D)           (None, 997, 32)           2848      \n",
      "_________________________________________________________________\n",
      "batch_normalization_48 (Batc (None, 997, 32)           3988      \n",
      "_________________________________________________________________\n",
      "activation_48 (Activation)   (None, 997, 32)           0         \n",
      "_________________________________________________________________\n",
      "dropout_48 (Dropout)         (None, 997, 32)           0         \n",
      "_________________________________________________________________\n",
      "max_pooling1d_47 (MaxPooling (None, 249, 32)           0         \n",
      "_________________________________________________________________\n",
      "conv1d_51 (Conv1D)           (None, 246, 64)           8256      \n",
      "_________________________________________________________________\n",
      "batch_normalization_49 (Batc (None, 246, 64)           984       \n",
      "_________________________________________________________________\n",
      "activation_49 (Activation)   (None, 246, 64)           0         \n",
      "_________________________________________________________________\n",
      "dropout_49 (Dropout)         (None, 246, 64)           0         \n",
      "_________________________________________________________________\n",
      "max_pooling1d_48 (MaxPooling (None, 61, 64)            0         \n",
      "_________________________________________________________________\n",
      "lstm_43 (LSTM)               (None, 61, 64)            33024     \n",
      "_________________________________________________________________\n",
      "lstm_44 (LSTM)               (None, 61, 64)            33024     \n",
      "_________________________________________________________________\n",
      "lstm_45 (LSTM)               (None, 61, 16)            5184      \n",
      "_________________________________________________________________\n",
      "flatten_24 (Flatten)         (None, 976)               0         \n",
      "_________________________________________________________________\n",
      "dense_27 (Dense)             (None, 960)               937920    \n",
      "_________________________________________________________________\n",
      "dense_28 (Dense)             (None, 4)                 3844      \n",
      "=================================================================\n",
      "Total params: 1,029,072\n",
      "Trainable params: 1,026,586\n",
      "Non-trainable params: 2,486\n",
      "_________________________________________________________________\n"
     ]
    }
   ],
   "source": [
    "aug_crnn_model_1000.summary()"
   ]
  },
  {
   "cell_type": "markdown",
   "metadata": {},
   "source": [
    "### Make checkpoints"
   ]
  },
  {
   "cell_type": "code",
   "execution_count": null,
   "metadata": {},
   "outputs": [],
   "source": [
    "# save model with the best accuracy \n",
    "checkpoint_callback = [\n",
    "    keras.callbacks.ModelCheckpoint(\n",
    "        filepath='./model_checkpoints/aug_crnn_1000',\n",
    "        # Path where to save the model\n",
    "        # The two parameters below mean that we will overwrite\n",
    "        # the current checkpoint if and only if\n",
    "        # the `val_loss` score has improved.\n",
    "        save_best_only=True,\n",
    "        monitor='val_loss',\n",
    "        verbose=1)\n",
    "]### Make checkpoints"
   ]
  },
  {
   "cell_type": "markdown",
   "metadata": {},
   "source": [
    "### Train model"
   ]
  },
  {
   "cell_type": "code",
   "execution_count": 121,
   "metadata": {
    "scrolled": false
   },
   "outputs": [
    {
     "name": "stdout",
     "output_type": "stream",
     "text": [
      "Train on 1692 samples, validate on 423 samples\n",
      "Epoch 1/10\n",
      "1664/1692 [============================>.] - ETA: 0s - loss: 0.9223 - acc: 0.6707\n",
      "Epoch 00001: val_loss did not improve from 1.10012\n",
      "1692/1692 [==============================] - 26s 15ms/sample - loss: 0.9258 - acc: 0.6684 - val_loss: 1.1466 - val_acc: 0.5721\n",
      "Epoch 2/10\n",
      "1664/1692 [============================>.] - ETA: 0s - loss: 0.9012 - acc: 0.6863\n",
      "Epoch 00002: val_loss did not improve from 1.10012\n",
      "1692/1692 [==============================] - 18s 11ms/sample - loss: 0.8974 - acc: 0.6891 - val_loss: 1.1482 - val_acc: 0.5556\n",
      "Epoch 3/10\n",
      "1664/1692 [============================>.] - ETA: 0s - loss: 0.8814 - acc: 0.6965\n",
      "Epoch 00003: val_loss did not improve from 1.10012\n",
      "1692/1692 [==============================] - 18s 11ms/sample - loss: 0.8788 - acc: 0.6974 - val_loss: 1.1237 - val_acc: 0.5792\n",
      "Epoch 4/10\n",
      "1664/1692 [============================>.] - ETA: 0s - loss: 0.8812 - acc: 0.6845\n",
      "Epoch 00004: val_loss did not improve from 1.10012\n",
      "1692/1692 [==============================] - 21s 12ms/sample - loss: 0.8800 - acc: 0.6844 - val_loss: 1.1238 - val_acc: 0.5768\n",
      "Epoch 5/10\n",
      "1664/1692 [============================>.] - ETA: 0s - loss: 0.8648 - acc: 0.6917\n",
      "Epoch 00005: val_loss improved from 1.10012 to 1.07414, saving model to ./model_checkpoints/aug_crnn_1000\n",
      "INFO:tensorflow:Assets written to: ./model_checkpoints/aug_crnn_1000\\assets\n",
      "1692/1692 [==============================] - 28s 16ms/sample - loss: 0.8645 - acc: 0.6915 - val_loss: 1.0741 - val_acc: 0.5981\n",
      "Epoch 6/10\n",
      "1664/1692 [============================>.] - ETA: 0s - loss: 0.8721 - acc: 0.6995\n",
      "Epoch 00006: val_loss did not improve from 1.07414\n",
      "1692/1692 [==============================] - 18s 11ms/sample - loss: 0.8770 - acc: 0.6968 - val_loss: 1.1090 - val_acc: 0.6028\n",
      "Epoch 7/10\n",
      "1664/1692 [============================>.] - ETA: 0s - loss: 0.8621 - acc: 0.6875\n",
      "Epoch 00007: val_loss did not improve from 1.07414\n",
      "1692/1692 [==============================] - 18s 11ms/sample - loss: 0.8608 - acc: 0.6897 - val_loss: 1.1618 - val_acc: 0.5556\n",
      "Epoch 8/10\n",
      "1664/1692 [============================>.] - ETA: 0s - loss: 0.8272 - acc: 0.7260\n",
      "Epoch 00008: val_loss did not improve from 1.07414\n",
      "1692/1692 [==============================] - 18s 10ms/sample - loss: 0.8261 - acc: 0.7258 - val_loss: 1.1233 - val_acc: 0.5839\n",
      "Epoch 9/10\n",
      "1664/1692 [============================>.] - ETA: 0s - loss: 0.8385 - acc: 0.7037\n",
      "Epoch 00009: val_loss did not improve from 1.07414\n",
      "1692/1692 [==============================] - 18s 11ms/sample - loss: 0.8392 - acc: 0.7033 - val_loss: 1.0855 - val_acc: 0.6147\n",
      "Epoch 10/10\n",
      "1664/1692 [============================>.] - ETA: 0s - loss: 0.8614 - acc: 0.6863\n",
      "Epoch 00010: val_loss did not improve from 1.07414\n",
      "1692/1692 [==============================] - 18s 10ms/sample - loss: 0.8636 - acc: 0.6850 - val_loss: 1.0789 - val_acc: 0.6028\n"
     ]
    },
    {
     "data": {
      "text/plain": [
       "<tensorflow.python.keras.callbacks.History at 0x2cba18d6208>"
      ]
     },
     "execution_count": 121,
     "metadata": {},
     "output_type": "execute_result"
    }
   ],
   "source": [
    "aug_crnn_model_1000.fit(X_train, y_train,\n",
    "                        validation_data = (X_valid, y_valid),\n",
    "                        epochs = 10,\n",
    "                        callbacks = checkpoint_callback)"
   ]
  },
  {
   "cell_type": "markdown",
   "metadata": {},
   "source": [
    "# Experiment 3: optimization of augmented CRNN"
   ]
  },
  {
   "cell_type": "markdown",
   "metadata": {},
   "source": [
    "In this experiment we vary parameters of CRNN to achieve better accuracy"
   ]
  },
  {
   "cell_type": "markdown",
   "metadata": {},
   "source": [
    "### Construct model"
   ]
  },
  {
   "cell_type": "code",
   "execution_count": 131,
   "metadata": {},
   "outputs": [
    {
     "ename": "SyntaxError",
     "evalue": "invalid syntax (<ipython-input-131-9c95cd4297fe>, line 71)",
     "output_type": "error",
     "traceback": [
      "\u001b[1;36m  File \u001b[1;32m\"<ipython-input-131-9c95cd4297fe>\"\u001b[1;36m, line \u001b[1;32m71\u001b[0m\n\u001b[1;33m    return keras.Model(inputs = crnn_input, outputs = crnn_output)\u001b[0m\n\u001b[1;37m         ^\u001b[0m\n\u001b[1;31mSyntaxError\u001b[0m\u001b[1;31m:\u001b[0m invalid syntax\n"
     ]
    }
   ],
   "source": [
    "def construct_opt_aug_CRNN_model(TIME_WINDOW,\n",
    "                                 filter_size=4,\n",
    "                                 dropout=0.3, \n",
    "                                 regularizer=0.001, \n",
    "                                 last_lstm_size=16, \n",
    "                                 last_hidden_layer=1000,\n",
    "                                 last_dropout=0.3):\n",
    "    # input\n",
    "    crnn_input = layers.Input(shape=(22, TIME_WINDOW))\n",
    "\n",
    "\n",
    "    # ================================== CONV1 ================================== #\n",
    "\n",
    "    t1 = tf.keras.layers.Permute((2, 1))(crnn_input)\n",
    "    c1 = layers.Conv1D(32, filter_size, strides=1)(t1)\n",
    "    new_size = TIME_WINDOW - filter_size + 1\n",
    "    \n",
    "    bn1 = layers.BatchNormalization(axis=1)(c1)\n",
    "    a1 = layers.Activation(\"elu\")(bn1)\n",
    "    do1 = layers.Dropout(0.4)(a1)\n",
    "    maxpool1 = layers.MaxPooling1D(filter_size)(do1)\n",
    "    new_size = new_size//filter_size + 1\n",
    "    \n",
    "    # =========================================================================== #\n",
    "\n",
    "    # ================================== CONV2 ================================== #\n",
    "\n",
    "    c2 = layers.Conv1D(64, filter_size, strides=1)(maxpool1)\n",
    "    new_size = new_size - filter_size + 1\n",
    "    \n",
    "    bn2 = layers.BatchNormalization(axis=1)(c2)\n",
    "    a2 = layers.Activation(\"elu\")(bn2)\n",
    "    do2 = layers.Dropout(0.4)(a2)\n",
    "    maxpool2 = layers.MaxPooling1D(filter_size)(do2)\n",
    "    new_size = new_size//filter_size + 1\n",
    "    \n",
    "    # =========================================================================== #\n",
    "\n",
    "\n",
    "    # ================================== LSTM ================================== #\n",
    "\n",
    "    lstm3 = layers.LSTM(64, \n",
    "                        return_sequences=True, \n",
    "                        dropout=dropout, \n",
    "                        kernel_regularizer=keras.regularizers.l2(regularizer),\n",
    "                        activity_regularizer=keras.regularizers.l2(regularizer))(maxpool2)\n",
    "    lstm4 = layers.LSTM(64, \n",
    "                        return_sequences=True, \n",
    "                        dropout=dropout,\n",
    "                        kernel_regularizer=keras.regularizers.l2(regularizer),\n",
    "                        activity_regularizer=keras.regularizers.l2(regularizer))(lstm3)\n",
    "    \n",
    "    lstm5 = layers.LSTM(last_lstm_size, \n",
    "                        return_sequences=True, \n",
    "                        dropout=dropout,\n",
    "                        kernel_regularizer=keras.regularizers.l2(regularizer),\n",
    "                        activity_regularizer=keras.regularizers.l2(regularizer))(lstm4)\n",
    "\n",
    "\n",
    "    \n",
    "    # =========================================================================== #\n",
    "\n",
    "    f7 = layers.Flatten()(lstm5)\n",
    "    \n",
    "    elu7 = layers.Dense(last_hidden_layer, activation=\"elu\", kernel_regularizer=keras.regularizers.l2(regularizer))(f7)\n",
    "    do7 = layers.Dropout(last_dropout)(elu7)\n",
    "\n",
    "    # output\n",
    "    crnn_output = layers.Dense(4, activation=\"softmax\")(do7)\n",
    "    \n",
    "    return keras.Model(inputs = crnn_input, outputs = crnn_output)"
   ]
  },
  {
   "cell_type": "markdown",
   "metadata": {},
   "source": [
    "### Vary parameters"
   ]
  },
  {
   "cell_type": "code",
   "execution_count": 130,
   "metadata": {
    "scrolled": false
   },
   "outputs": [
    {
     "name": "stdout",
     "output_type": "stream",
     "text": [
      "Train on 1692 samples, validate on 423 samples\n",
      "Epoch 1/75\n",
      "1664/1692 [============================>.] - ETA: 0s - loss: 2.9761 - acc: 0.2680\n",
      "Epoch 00001: val_loss improved from inf to 2.52723, saving model to ./model_checkpoints/opt_aug_crnn_1000_32\n",
      "INFO:tensorflow:Assets written to: ./model_checkpoints/opt_aug_crnn_1000_32\\assets\n",
      "1692/1692 [==============================] - 33s 20ms/sample - loss: 2.9697 - acc: 0.2701 - val_loss: 2.5272 - val_acc: 0.3310\n",
      "Epoch 2/75\n",
      "1664/1692 [============================>.] - ETA: 0s - loss: 2.2934 - acc: 0.3522\n",
      "Epoch 00002: val_loss improved from 2.52723 to 2.07675, saving model to ./model_checkpoints/opt_aug_crnn_1000_32\n",
      "INFO:tensorflow:Assets written to: ./model_checkpoints/opt_aug_crnn_1000_32\\assets\n",
      "1692/1692 [==============================] - 32s 19ms/sample - loss: 2.2898 - acc: 0.3522 - val_loss: 2.0767 - val_acc: 0.3499\n",
      "Epoch 3/75\n",
      "1664/1692 [============================>.] - ETA: 0s - loss: 1.9435 - acc: 0.3504\n",
      "Epoch 00003: val_loss improved from 2.07675 to 1.82030, saving model to ./model_checkpoints/opt_aug_crnn_1000_32\n",
      "INFO:tensorflow:Assets written to: ./model_checkpoints/opt_aug_crnn_1000_32\\assets\n",
      "1692/1692 [==============================] - 32s 19ms/sample - loss: 1.9384 - acc: 0.3534 - val_loss: 1.8203 - val_acc: 0.3664\n",
      "Epoch 4/75\n",
      "1664/1692 [============================>.] - ETA: 0s - loss: 1.7310 - acc: 0.3624\n",
      "Epoch 00004: val_loss improved from 1.82030 to 1.76304, saving model to ./model_checkpoints/opt_aug_crnn_1000_32\n",
      "INFO:tensorflow:Assets written to: ./model_checkpoints/opt_aug_crnn_1000_32\\assets\n",
      "1692/1692 [==============================] - 33s 20ms/sample - loss: 1.7282 - acc: 0.3629 - val_loss: 1.7630 - val_acc: 0.3239\n",
      "Epoch 5/75\n",
      "1664/1692 [============================>.] - ETA: 0s - loss: 1.5954 - acc: 0.3924\n",
      "Epoch 00005: val_loss improved from 1.76304 to 1.54268, saving model to ./model_checkpoints/opt_aug_crnn_1000_32\n",
      "INFO:tensorflow:Assets written to: ./model_checkpoints/opt_aug_crnn_1000_32\\assets\n",
      "1692/1692 [==============================] - 32s 19ms/sample - loss: 1.5967 - acc: 0.3918 - val_loss: 1.5427 - val_acc: 0.3972\n",
      "Epoch 6/75\n",
      "1664/1692 [============================>.] - ETA: 0s - loss: 1.4978 - acc: 0.4171\n",
      "Epoch 00006: val_loss improved from 1.54268 to 1.45738, saving model to ./model_checkpoints/opt_aug_crnn_1000_32\n",
      "INFO:tensorflow:Assets written to: ./model_checkpoints/opt_aug_crnn_1000_32\\assets\n",
      "1692/1692 [==============================] - 34s 20ms/sample - loss: 1.4976 - acc: 0.4167 - val_loss: 1.4574 - val_acc: 0.3972\n",
      "Epoch 7/75\n",
      "1664/1692 [============================>.] - ETA: 0s - loss: 1.4168 - acc: 0.4447\n",
      "Epoch 00007: val_loss improved from 1.45738 to 1.37408, saving model to ./model_checkpoints/opt_aug_crnn_1000_32\n",
      "INFO:tensorflow:Assets written to: ./model_checkpoints/opt_aug_crnn_1000_32\\assets\n",
      "1692/1692 [==============================] - 31s 18ms/sample - loss: 1.4169 - acc: 0.4439 - val_loss: 1.3741 - val_acc: 0.4775\n",
      "Epoch 8/75\n",
      "1664/1692 [============================>.] - ETA: 0s - loss: 1.3915 - acc: 0.4669\n",
      "Epoch 00008: val_loss did not improve from 1.37408\n",
      "1692/1692 [==============================] - 23s 14ms/sample - loss: 1.3928 - acc: 0.4657 - val_loss: 1.3743 - val_acc: 0.4232\n",
      "Epoch 9/75\n",
      "1664/1692 [============================>.] - ETA: 0s - loss: 1.3469 - acc: 0.4856\n",
      "Epoch 00009: val_loss did not improve from 1.37408\n",
      "1692/1692 [==============================] - 24s 14ms/sample - loss: 1.3450 - acc: 0.4864 - val_loss: 1.4895 - val_acc: 0.4303\n",
      "Epoch 10/75\n",
      "1664/1692 [============================>.] - ETA: 0s - loss: 1.3179 - acc: 0.4970\n",
      "Epoch 00010: val_loss improved from 1.37408 to 1.37372, saving model to ./model_checkpoints/opt_aug_crnn_1000_32\n",
      "INFO:tensorflow:Assets written to: ./model_checkpoints/opt_aug_crnn_1000_32\\assets\n",
      "1692/1692 [==============================] - 34s 20ms/sample - loss: 1.3193 - acc: 0.4959 - val_loss: 1.3737 - val_acc: 0.4775\n",
      "Epoch 11/75\n",
      "1664/1692 [============================>.] - ETA: 0s - loss: 1.2888 - acc: 0.5252\n",
      "Epoch 00011: val_loss did not improve from 1.37372\n",
      "1692/1692 [==============================] - 22s 13ms/sample - loss: 1.2861 - acc: 0.5254 - val_loss: 1.3995 - val_acc: 0.4208\n",
      "Epoch 12/75\n",
      "1664/1692 [============================>.] - ETA: 0s - loss: 1.2593 - acc: 0.5252\n",
      "Epoch 00012: val_loss improved from 1.37372 to 1.29892, saving model to ./model_checkpoints/opt_aug_crnn_1000_32\n",
      "INFO:tensorflow:Assets written to: ./model_checkpoints/opt_aug_crnn_1000_32\\assets\n",
      "1692/1692 [==============================] - 31s 18ms/sample - loss: 1.2606 - acc: 0.5260 - val_loss: 1.2989 - val_acc: 0.4965\n",
      "Epoch 13/75\n",
      "1664/1692 [============================>.] - ETA: 0s - loss: 1.2503 - acc: 0.5264\n",
      "Epoch 00013: val_loss did not improve from 1.29892\n",
      "1692/1692 [==============================] - 22s 13ms/sample - loss: 1.2483 - acc: 0.5290 - val_loss: 1.3181 - val_acc: 0.4799\n",
      "Epoch 14/75\n",
      "1664/1692 [============================>.] - ETA: 0s - loss: 1.2369 - acc: 0.5319\n",
      "Epoch 00014: val_loss did not improve from 1.29892\n",
      "1692/1692 [==============================] - 22s 13ms/sample - loss: 1.2374 - acc: 0.5307 - val_loss: 1.3177 - val_acc: 0.4728\n",
      "Epoch 15/75\n",
      "1664/1692 [============================>.] - ETA: 0s - loss: 1.2256 - acc: 0.5481\n",
      "Epoch 00015: val_loss did not improve from 1.29892\n",
      "1692/1692 [==============================] - 22s 13ms/sample - loss: 1.2223 - acc: 0.5496 - val_loss: 1.3395 - val_acc: 0.5201\n",
      "Epoch 16/75\n",
      "1664/1692 [============================>.] - ETA: 0s - loss: 1.1919 - acc: 0.5631\n",
      "Epoch 00016: val_loss did not improve from 1.29892\n",
      "1692/1692 [==============================] - 22s 13ms/sample - loss: 1.1951 - acc: 0.5603 - val_loss: 1.3955 - val_acc: 0.4752\n",
      "Epoch 17/75\n",
      "1664/1692 [============================>.] - ETA: 0s - loss: 1.1930 - acc: 0.5535\n",
      "Epoch 00017: val_loss improved from 1.29892 to 1.23346, saving model to ./model_checkpoints/opt_aug_crnn_1000_32\n",
      "INFO:tensorflow:Assets written to: ./model_checkpoints/opt_aug_crnn_1000_32\\assets\n",
      "1692/1692 [==============================] - 30s 18ms/sample - loss: 1.1983 - acc: 0.5508 - val_loss: 1.2335 - val_acc: 0.5556\n",
      "Epoch 18/75\n",
      "1664/1692 [============================>.] - ETA: 0s - loss: 1.1659 - acc: 0.5613\n",
      "Epoch 00018: val_loss did not improve from 1.23346\n",
      "1692/1692 [==============================] - 23s 13ms/sample - loss: 1.1631 - acc: 0.5615 - val_loss: 1.2870 - val_acc: 0.5461\n",
      "Epoch 19/75\n",
      "1664/1692 [============================>.] - ETA: 0s - loss: 1.1386 - acc: 0.5913\n",
      "Epoch 00019: val_loss did not improve from 1.23346\n",
      "1692/1692 [==============================] - 24s 14ms/sample - loss: 1.1400 - acc: 0.5916 - val_loss: 1.3188 - val_acc: 0.4846\n",
      "Epoch 20/75\n",
      "1664/1692 [============================>.] - ETA: 0s - loss: 1.1397 - acc: 0.5847\n",
      "Epoch 00020: val_loss did not improve from 1.23346\n",
      "1692/1692 [==============================] - 25s 15ms/sample - loss: 1.1438 - acc: 0.5833 - val_loss: 1.3669 - val_acc: 0.5059\n",
      "Epoch 21/75\n",
      "1664/1692 [============================>.] - ETA: 0s - loss: 1.1466 - acc: 0.5691\n",
      "Epoch 00021: val_loss did not improve from 1.23346\n",
      "1692/1692 [==============================] - 24s 14ms/sample - loss: 1.1449 - acc: 0.5709 - val_loss: 1.3274 - val_acc: 0.4917\n",
      "Epoch 22/75\n",
      "1664/1692 [============================>.] - ETA: 0s - loss: 1.1030 - acc: 0.5944\n",
      "Epoch 00022: val_loss did not improve from 1.23346\n",
      "1692/1692 [==============================] - 24s 14ms/sample - loss: 1.1040 - acc: 0.5928 - val_loss: 1.3491 - val_acc: 0.5437\n",
      "Epoch 23/75\n",
      "1664/1692 [============================>.] - ETA: 0s - loss: 1.1086 - acc: 0.6028\n",
      "Epoch 00023: val_loss improved from 1.23346 to 1.21499, saving model to ./model_checkpoints/opt_aug_crnn_1000_32\n",
      "INFO:tensorflow:Assets written to: ./model_checkpoints/opt_aug_crnn_1000_32\\assets\n",
      "1692/1692 [==============================] - 34s 20ms/sample - loss: 1.1055 - acc: 0.6046 - val_loss: 1.2150 - val_acc: 0.5579\n",
      "Epoch 24/75\n",
      "1664/1692 [============================>.] - ETA: 0s - loss: 1.0609 - acc: 0.6154\n",
      "Epoch 00024: val_loss did not improve from 1.21499\n",
      "1692/1692 [==============================] - 23s 14ms/sample - loss: 1.0645 - acc: 0.6141 - val_loss: 1.2643 - val_acc: 0.5508\n",
      "Epoch 25/75\n"
     ]
    },
    {
     "name": "stdout",
     "output_type": "stream",
     "text": [
      "1664/1692 [============================>.] - ETA: 0s - loss: 1.0611 - acc: 0.6262\n",
      "Epoch 00025: val_loss improved from 1.21499 to 1.19693, saving model to ./model_checkpoints/opt_aug_crnn_1000_32\n",
      "INFO:tensorflow:Assets written to: ./model_checkpoints/opt_aug_crnn_1000_32\\assets\n",
      "1692/1692 [==============================] - 32s 19ms/sample - loss: 1.0605 - acc: 0.6265 - val_loss: 1.1969 - val_acc: 0.5745\n",
      "Epoch 26/75\n",
      "1664/1692 [============================>.] - ETA: 0s - loss: 1.0389 - acc: 0.6352\n",
      "Epoch 00026: val_loss did not improve from 1.19693\n",
      "1692/1692 [==============================] - 23s 14ms/sample - loss: 1.0362 - acc: 0.6377 - val_loss: 1.2746 - val_acc: 0.5390\n",
      "Epoch 27/75\n",
      "1664/1692 [============================>.] - ETA: 0s - loss: 1.0579 - acc: 0.6232\n",
      "Epoch 00027: val_loss improved from 1.19693 to 1.12696, saving model to ./model_checkpoints/opt_aug_crnn_1000_32\n",
      "INFO:tensorflow:Assets written to: ./model_checkpoints/opt_aug_crnn_1000_32\\assets\n",
      "1692/1692 [==============================] - 32s 19ms/sample - loss: 1.0550 - acc: 0.6265 - val_loss: 1.1270 - val_acc: 0.6123\n",
      "Epoch 28/75\n",
      "1664/1692 [============================>.] - ETA: 0s - loss: 1.0313 - acc: 0.6334\n",
      "Epoch 00028: val_loss did not improve from 1.12696\n",
      "1692/1692 [==============================] - 24s 14ms/sample - loss: 1.0346 - acc: 0.6324 - val_loss: 1.2148 - val_acc: 0.5556\n",
      "Epoch 29/75\n",
      "1664/1692 [============================>.] - ETA: 0s - loss: 1.0465 - acc: 0.6256\n",
      "Epoch 00029: val_loss did not improve from 1.12696\n",
      "1692/1692 [==============================] - 23s 14ms/sample - loss: 1.0456 - acc: 0.6259 - val_loss: 1.1506 - val_acc: 0.5887\n",
      "Epoch 30/75\n",
      "1664/1692 [============================>.] - ETA: 0s - loss: 0.9943 - acc: 0.6587\n",
      "Epoch 00030: val_loss did not improve from 1.12696\n",
      "1692/1692 [==============================] - 23s 14ms/sample - loss: 0.9991 - acc: 0.6548 - val_loss: 1.1610 - val_acc: 0.5957\n",
      "Epoch 31/75\n",
      "1664/1692 [============================>.] - ETA: 0s - loss: 0.9874 - acc: 0.6538\n",
      "Epoch 00031: val_loss did not improve from 1.12696\n",
      "1692/1692 [==============================] - 23s 14ms/sample - loss: 0.9913 - acc: 0.6543 - val_loss: 1.2229 - val_acc: 0.5863\n",
      "Epoch 32/75\n",
      "1664/1692 [============================>.] - ETA: 0s - loss: 0.9605 - acc: 0.6556\n",
      "Epoch 00032: val_loss did not improve from 1.12696\n",
      "1692/1692 [==============================] - 22s 13ms/sample - loss: 0.9634 - acc: 0.6548 - val_loss: 1.1803 - val_acc: 0.5981\n",
      "Epoch 33/75\n",
      "1664/1692 [============================>.] - ETA: 0s - loss: 0.9821 - acc: 0.6484\n",
      "Epoch 00033: val_loss did not improve from 1.12696\n",
      "1692/1692 [==============================] - 24s 14ms/sample - loss: 0.9841 - acc: 0.6478 - val_loss: 1.1405 - val_acc: 0.5910\n",
      "Epoch 34/75\n",
      "1664/1692 [============================>.] - ETA: 0s - loss: 0.9219 - acc: 0.6875\n",
      "Epoch 00034: val_loss did not improve from 1.12696\n",
      "1692/1692 [==============================] - 24s 14ms/sample - loss: 0.9236 - acc: 0.6856 - val_loss: 1.1736 - val_acc: 0.5957\n",
      "Epoch 35/75\n",
      "1280/1692 [=====================>........] - ETA: 5s - loss: 0.9113 - acc: 0.6811WARNING:tensorflow:Can save best model only with val_loss available, skipping.\n"
     ]
    },
    {
     "ename": "KeyboardInterrupt",
     "evalue": "",
     "output_type": "error",
     "traceback": [
      "\u001b[1;31m---------------------------------------------------------------------------\u001b[0m",
      "\u001b[1;31mKeyboardInterrupt\u001b[0m                         Traceback (most recent call last)",
      "\u001b[1;32m<ipython-input-130-14874565c95a>\u001b[0m in \u001b[0;36m<module>\u001b[1;34m\u001b[0m\n\u001b[0;32m     27\u001b[0m                       \u001b[0mvalidation_data\u001b[0m \u001b[1;33m=\u001b[0m \u001b[1;33m(\u001b[0m\u001b[0mX_valid\u001b[0m\u001b[1;33m,\u001b[0m \u001b[0my_valid\u001b[0m\u001b[1;33m)\u001b[0m\u001b[1;33m,\u001b[0m\u001b[1;33m\u001b[0m\u001b[0m\n\u001b[0;32m     28\u001b[0m                       \u001b[0mepochs\u001b[0m \u001b[1;33m=\u001b[0m \u001b[1;36m75\u001b[0m\u001b[1;33m,\u001b[0m\u001b[1;33m\u001b[0m\u001b[0m\n\u001b[1;32m---> 29\u001b[1;33m                       callbacks=checkpoint_callback)\n\u001b[0m",
      "\u001b[1;32m~\\Desktop\\UCLA\\Cources\\winter_2020\\C247\\project_C247\\venv_prj_C247\\lib\\site-packages\\tensorflow_core\\python\\keras\\engine\\training.py\u001b[0m in \u001b[0;36mfit\u001b[1;34m(self, x, y, batch_size, epochs, verbose, callbacks, validation_split, validation_data, shuffle, class_weight, sample_weight, initial_epoch, steps_per_epoch, validation_steps, validation_freq, max_queue_size, workers, use_multiprocessing, **kwargs)\u001b[0m\n\u001b[0;32m    817\u001b[0m         \u001b[0mmax_queue_size\u001b[0m\u001b[1;33m=\u001b[0m\u001b[0mmax_queue_size\u001b[0m\u001b[1;33m,\u001b[0m\u001b[1;33m\u001b[0m\u001b[0m\n\u001b[0;32m    818\u001b[0m         \u001b[0mworkers\u001b[0m\u001b[1;33m=\u001b[0m\u001b[0mworkers\u001b[0m\u001b[1;33m,\u001b[0m\u001b[1;33m\u001b[0m\u001b[0m\n\u001b[1;32m--> 819\u001b[1;33m         use_multiprocessing=use_multiprocessing)\n\u001b[0m\u001b[0;32m    820\u001b[0m \u001b[1;33m\u001b[0m\u001b[0m\n\u001b[0;32m    821\u001b[0m   def evaluate(self,\n",
      "\u001b[1;32m~\\Desktop\\UCLA\\Cources\\winter_2020\\C247\\project_C247\\venv_prj_C247\\lib\\site-packages\\tensorflow_core\\python\\keras\\engine\\training_v2.py\u001b[0m in \u001b[0;36mfit\u001b[1;34m(self, model, x, y, batch_size, epochs, verbose, callbacks, validation_split, validation_data, shuffle, class_weight, sample_weight, initial_epoch, steps_per_epoch, validation_steps, validation_freq, max_queue_size, workers, use_multiprocessing, **kwargs)\u001b[0m\n\u001b[0;32m    340\u001b[0m                 \u001b[0mmode\u001b[0m\u001b[1;33m=\u001b[0m\u001b[0mModeKeys\u001b[0m\u001b[1;33m.\u001b[0m\u001b[0mTRAIN\u001b[0m\u001b[1;33m,\u001b[0m\u001b[1;33m\u001b[0m\u001b[0m\n\u001b[0;32m    341\u001b[0m                 \u001b[0mtraining_context\u001b[0m\u001b[1;33m=\u001b[0m\u001b[0mtraining_context\u001b[0m\u001b[1;33m,\u001b[0m\u001b[1;33m\u001b[0m\u001b[0m\n\u001b[1;32m--> 342\u001b[1;33m                 total_epochs=epochs)\n\u001b[0m\u001b[0;32m    343\u001b[0m             \u001b[0mcbks\u001b[0m\u001b[1;33m.\u001b[0m\u001b[0mmake_logs\u001b[0m\u001b[1;33m(\u001b[0m\u001b[0mmodel\u001b[0m\u001b[1;33m,\u001b[0m \u001b[0mepoch_logs\u001b[0m\u001b[1;33m,\u001b[0m \u001b[0mtraining_result\u001b[0m\u001b[1;33m,\u001b[0m \u001b[0mModeKeys\u001b[0m\u001b[1;33m.\u001b[0m\u001b[0mTRAIN\u001b[0m\u001b[1;33m)\u001b[0m\u001b[1;33m\u001b[0m\u001b[0m\n\u001b[0;32m    344\u001b[0m \u001b[1;33m\u001b[0m\u001b[0m\n",
      "\u001b[1;32m~\\Desktop\\UCLA\\Cources\\winter_2020\\C247\\project_C247\\venv_prj_C247\\lib\\site-packages\\tensorflow_core\\python\\keras\\engine\\training_v2.py\u001b[0m in \u001b[0;36mrun_one_epoch\u001b[1;34m(model, iterator, execution_function, dataset_size, batch_size, strategy, steps_per_epoch, num_samples, mode, training_context, total_epochs)\u001b[0m\n\u001b[0;32m    126\u001b[0m         step=step, mode=mode, size=current_batch_size) as batch_logs:\n\u001b[0;32m    127\u001b[0m       \u001b[1;32mtry\u001b[0m\u001b[1;33m:\u001b[0m\u001b[1;33m\u001b[0m\u001b[0m\n\u001b[1;32m--> 128\u001b[1;33m         \u001b[0mbatch_outs\u001b[0m \u001b[1;33m=\u001b[0m \u001b[0mexecution_function\u001b[0m\u001b[1;33m(\u001b[0m\u001b[0miterator\u001b[0m\u001b[1;33m)\u001b[0m\u001b[1;33m\u001b[0m\u001b[0m\n\u001b[0m\u001b[0;32m    129\u001b[0m       \u001b[1;32mexcept\u001b[0m \u001b[1;33m(\u001b[0m\u001b[0mStopIteration\u001b[0m\u001b[1;33m,\u001b[0m \u001b[0merrors\u001b[0m\u001b[1;33m.\u001b[0m\u001b[0mOutOfRangeError\u001b[0m\u001b[1;33m)\u001b[0m\u001b[1;33m:\u001b[0m\u001b[1;33m\u001b[0m\u001b[0m\n\u001b[0;32m    130\u001b[0m         \u001b[1;31m# TODO(kaftan): File bug about tf function and errors.OutOfRangeError?\u001b[0m\u001b[1;33m\u001b[0m\u001b[1;33m\u001b[0m\u001b[0m\n",
      "\u001b[1;32m~\\Desktop\\UCLA\\Cources\\winter_2020\\C247\\project_C247\\venv_prj_C247\\lib\\site-packages\\tensorflow_core\\python\\keras\\engine\\training_v2_utils.py\u001b[0m in \u001b[0;36mexecution_function\u001b[1;34m(input_fn)\u001b[0m\n\u001b[0;32m     96\u001b[0m     \u001b[1;31m# `numpy` translates Tensors to values in Eager mode.\u001b[0m\u001b[1;33m\u001b[0m\u001b[1;33m\u001b[0m\u001b[0m\n\u001b[0;32m     97\u001b[0m     return nest.map_structure(_non_none_constant_value,\n\u001b[1;32m---> 98\u001b[1;33m                               distributed_function(input_fn))\n\u001b[0m\u001b[0;32m     99\u001b[0m \u001b[1;33m\u001b[0m\u001b[0m\n\u001b[0;32m    100\u001b[0m   \u001b[1;32mreturn\u001b[0m \u001b[0mexecution_function\u001b[0m\u001b[1;33m\u001b[0m\u001b[0m\n",
      "\u001b[1;32m~\\Desktop\\UCLA\\Cources\\winter_2020\\C247\\project_C247\\venv_prj_C247\\lib\\site-packages\\tensorflow_core\\python\\eager\\def_function.py\u001b[0m in \u001b[0;36m__call__\u001b[1;34m(self, *args, **kwds)\u001b[0m\n\u001b[0;32m    566\u001b[0m         \u001b[0mxla_context\u001b[0m\u001b[1;33m.\u001b[0m\u001b[0mExit\u001b[0m\u001b[1;33m(\u001b[0m\u001b[1;33m)\u001b[0m\u001b[1;33m\u001b[0m\u001b[0m\n\u001b[0;32m    567\u001b[0m     \u001b[1;32melse\u001b[0m\u001b[1;33m:\u001b[0m\u001b[1;33m\u001b[0m\u001b[0m\n\u001b[1;32m--> 568\u001b[1;33m       \u001b[0mresult\u001b[0m \u001b[1;33m=\u001b[0m \u001b[0mself\u001b[0m\u001b[1;33m.\u001b[0m\u001b[0m_call\u001b[0m\u001b[1;33m(\u001b[0m\u001b[1;33m*\u001b[0m\u001b[0margs\u001b[0m\u001b[1;33m,\u001b[0m \u001b[1;33m**\u001b[0m\u001b[0mkwds\u001b[0m\u001b[1;33m)\u001b[0m\u001b[1;33m\u001b[0m\u001b[0m\n\u001b[0m\u001b[0;32m    569\u001b[0m \u001b[1;33m\u001b[0m\u001b[0m\n\u001b[0;32m    570\u001b[0m     \u001b[1;32mif\u001b[0m \u001b[0mtracing_count\u001b[0m \u001b[1;33m==\u001b[0m \u001b[0mself\u001b[0m\u001b[1;33m.\u001b[0m\u001b[0m_get_tracing_count\u001b[0m\u001b[1;33m(\u001b[0m\u001b[1;33m)\u001b[0m\u001b[1;33m:\u001b[0m\u001b[1;33m\u001b[0m\u001b[0m\n",
      "\u001b[1;32m~\\Desktop\\UCLA\\Cources\\winter_2020\\C247\\project_C247\\venv_prj_C247\\lib\\site-packages\\tensorflow_core\\python\\eager\\def_function.py\u001b[0m in \u001b[0;36m_call\u001b[1;34m(self, *args, **kwds)\u001b[0m\n\u001b[0;32m    597\u001b[0m       \u001b[1;31m# In this case we have created variables on the first call, so we run the\u001b[0m\u001b[1;33m\u001b[0m\u001b[1;33m\u001b[0m\u001b[0m\n\u001b[0;32m    598\u001b[0m       \u001b[1;31m# defunned version which is guaranteed to never create variables.\u001b[0m\u001b[1;33m\u001b[0m\u001b[1;33m\u001b[0m\u001b[0m\n\u001b[1;32m--> 599\u001b[1;33m       \u001b[1;32mreturn\u001b[0m \u001b[0mself\u001b[0m\u001b[1;33m.\u001b[0m\u001b[0m_stateless_fn\u001b[0m\u001b[1;33m(\u001b[0m\u001b[1;33m*\u001b[0m\u001b[0margs\u001b[0m\u001b[1;33m,\u001b[0m \u001b[1;33m**\u001b[0m\u001b[0mkwds\u001b[0m\u001b[1;33m)\u001b[0m  \u001b[1;31m# pylint: disable=not-callable\u001b[0m\u001b[1;33m\u001b[0m\u001b[0m\n\u001b[0m\u001b[0;32m    600\u001b[0m     \u001b[1;32melif\u001b[0m \u001b[0mself\u001b[0m\u001b[1;33m.\u001b[0m\u001b[0m_stateful_fn\u001b[0m \u001b[1;32mis\u001b[0m \u001b[1;32mnot\u001b[0m \u001b[1;32mNone\u001b[0m\u001b[1;33m:\u001b[0m\u001b[1;33m\u001b[0m\u001b[0m\n\u001b[0;32m    601\u001b[0m       \u001b[1;31m# Release the lock early so that multiple threads can perform the call\u001b[0m\u001b[1;33m\u001b[0m\u001b[1;33m\u001b[0m\u001b[0m\n",
      "\u001b[1;32m~\\Desktop\\UCLA\\Cources\\winter_2020\\C247\\project_C247\\venv_prj_C247\\lib\\site-packages\\tensorflow_core\\python\\eager\\function.py\u001b[0m in \u001b[0;36m__call__\u001b[1;34m(self, *args, **kwargs)\u001b[0m\n\u001b[0;32m   2361\u001b[0m     \u001b[1;32mwith\u001b[0m \u001b[0mself\u001b[0m\u001b[1;33m.\u001b[0m\u001b[0m_lock\u001b[0m\u001b[1;33m:\u001b[0m\u001b[1;33m\u001b[0m\u001b[0m\n\u001b[0;32m   2362\u001b[0m       \u001b[0mgraph_function\u001b[0m\u001b[1;33m,\u001b[0m \u001b[0margs\u001b[0m\u001b[1;33m,\u001b[0m \u001b[0mkwargs\u001b[0m \u001b[1;33m=\u001b[0m \u001b[0mself\u001b[0m\u001b[1;33m.\u001b[0m\u001b[0m_maybe_define_function\u001b[0m\u001b[1;33m(\u001b[0m\u001b[0margs\u001b[0m\u001b[1;33m,\u001b[0m \u001b[0mkwargs\u001b[0m\u001b[1;33m)\u001b[0m\u001b[1;33m\u001b[0m\u001b[0m\n\u001b[1;32m-> 2363\u001b[1;33m     \u001b[1;32mreturn\u001b[0m \u001b[0mgraph_function\u001b[0m\u001b[1;33m.\u001b[0m\u001b[0m_filtered_call\u001b[0m\u001b[1;33m(\u001b[0m\u001b[0margs\u001b[0m\u001b[1;33m,\u001b[0m \u001b[0mkwargs\u001b[0m\u001b[1;33m)\u001b[0m  \u001b[1;31m# pylint: disable=protected-access\u001b[0m\u001b[1;33m\u001b[0m\u001b[0m\n\u001b[0m\u001b[0;32m   2364\u001b[0m \u001b[1;33m\u001b[0m\u001b[0m\n\u001b[0;32m   2365\u001b[0m   \u001b[1;33m@\u001b[0m\u001b[0mproperty\u001b[0m\u001b[1;33m\u001b[0m\u001b[0m\n",
      "\u001b[1;32m~\\Desktop\\UCLA\\Cources\\winter_2020\\C247\\project_C247\\venv_prj_C247\\lib\\site-packages\\tensorflow_core\\python\\eager\\function.py\u001b[0m in \u001b[0;36m_filtered_call\u001b[1;34m(self, args, kwargs)\u001b[0m\n\u001b[0;32m   1609\u001b[0m          if isinstance(t, (ops.Tensor,\n\u001b[0;32m   1610\u001b[0m                            resource_variable_ops.BaseResourceVariable))),\n\u001b[1;32m-> 1611\u001b[1;33m         self.captured_inputs)\n\u001b[0m\u001b[0;32m   1612\u001b[0m \u001b[1;33m\u001b[0m\u001b[0m\n\u001b[0;32m   1613\u001b[0m   \u001b[1;32mdef\u001b[0m \u001b[0m_call_flat\u001b[0m\u001b[1;33m(\u001b[0m\u001b[0mself\u001b[0m\u001b[1;33m,\u001b[0m \u001b[0margs\u001b[0m\u001b[1;33m,\u001b[0m \u001b[0mcaptured_inputs\u001b[0m\u001b[1;33m,\u001b[0m \u001b[0mcancellation_manager\u001b[0m\u001b[1;33m=\u001b[0m\u001b[1;32mNone\u001b[0m\u001b[1;33m)\u001b[0m\u001b[1;33m:\u001b[0m\u001b[1;33m\u001b[0m\u001b[0m\n",
      "\u001b[1;32m~\\Desktop\\UCLA\\Cources\\winter_2020\\C247\\project_C247\\venv_prj_C247\\lib\\site-packages\\tensorflow_core\\python\\eager\\function.py\u001b[0m in \u001b[0;36m_call_flat\u001b[1;34m(self, args, captured_inputs, cancellation_manager)\u001b[0m\n\u001b[0;32m   1690\u001b[0m       \u001b[1;31m# No tape is watching; skip to running the function.\u001b[0m\u001b[1;33m\u001b[0m\u001b[1;33m\u001b[0m\u001b[0m\n\u001b[0;32m   1691\u001b[0m       return self._build_call_outputs(self._inference_function.call(\n\u001b[1;32m-> 1692\u001b[1;33m           ctx, args, cancellation_manager=cancellation_manager))\n\u001b[0m\u001b[0;32m   1693\u001b[0m     forward_backward = self._select_forward_and_backward_functions(\n\u001b[0;32m   1694\u001b[0m         \u001b[0margs\u001b[0m\u001b[1;33m,\u001b[0m\u001b[1;33m\u001b[0m\u001b[0m\n",
      "\u001b[1;32m~\\Desktop\\UCLA\\Cources\\winter_2020\\C247\\project_C247\\venv_prj_C247\\lib\\site-packages\\tensorflow_core\\python\\eager\\function.py\u001b[0m in \u001b[0;36mcall\u001b[1;34m(self, ctx, args, cancellation_manager)\u001b[0m\n\u001b[0;32m    543\u001b[0m               \u001b[0minputs\u001b[0m\u001b[1;33m=\u001b[0m\u001b[0margs\u001b[0m\u001b[1;33m,\u001b[0m\u001b[1;33m\u001b[0m\u001b[0m\n\u001b[0;32m    544\u001b[0m               \u001b[0mattrs\u001b[0m\u001b[1;33m=\u001b[0m\u001b[1;33m(\u001b[0m\u001b[1;34m\"executor_type\"\u001b[0m\u001b[1;33m,\u001b[0m \u001b[0mexecutor_type\u001b[0m\u001b[1;33m,\u001b[0m \u001b[1;34m\"config_proto\"\u001b[0m\u001b[1;33m,\u001b[0m \u001b[0mconfig\u001b[0m\u001b[1;33m)\u001b[0m\u001b[1;33m,\u001b[0m\u001b[1;33m\u001b[0m\u001b[0m\n\u001b[1;32m--> 545\u001b[1;33m               ctx=ctx)\n\u001b[0m\u001b[0;32m    546\u001b[0m         \u001b[1;32melse\u001b[0m\u001b[1;33m:\u001b[0m\u001b[1;33m\u001b[0m\u001b[0m\n\u001b[0;32m    547\u001b[0m           outputs = execute.execute_with_cancellation(\n",
      "\u001b[1;32m~\\Desktop\\UCLA\\Cources\\winter_2020\\C247\\project_C247\\venv_prj_C247\\lib\\site-packages\\tensorflow_core\\python\\eager\\execute.py\u001b[0m in \u001b[0;36mquick_execute\u001b[1;34m(op_name, num_outputs, inputs, attrs, ctx, name)\u001b[0m\n\u001b[0;32m     59\u001b[0m     tensors = pywrap_tensorflow.TFE_Py_Execute(ctx._handle, device_name,\n\u001b[0;32m     60\u001b[0m                                                \u001b[0mop_name\u001b[0m\u001b[1;33m,\u001b[0m \u001b[0minputs\u001b[0m\u001b[1;33m,\u001b[0m \u001b[0mattrs\u001b[0m\u001b[1;33m,\u001b[0m\u001b[1;33m\u001b[0m\u001b[0m\n\u001b[1;32m---> 61\u001b[1;33m                                                num_outputs)\n\u001b[0m\u001b[0;32m     62\u001b[0m   \u001b[1;32mexcept\u001b[0m \u001b[0mcore\u001b[0m\u001b[1;33m.\u001b[0m\u001b[0m_NotOkStatusException\u001b[0m \u001b[1;32mas\u001b[0m \u001b[0me\u001b[0m\u001b[1;33m:\u001b[0m\u001b[1;33m\u001b[0m\u001b[0m\n\u001b[0;32m     63\u001b[0m     \u001b[1;32mif\u001b[0m \u001b[0mname\u001b[0m \u001b[1;32mis\u001b[0m \u001b[1;32mnot\u001b[0m \u001b[1;32mNone\u001b[0m\u001b[1;33m:\u001b[0m\u001b[1;33m\u001b[0m\u001b[0m\n",
      "\u001b[1;31mKeyboardInterrupt\u001b[0m: "
     ]
    }
   ],
   "source": [
    "TIME_WINDOW = 1000\n",
    "\n",
    "\n",
    "# save model with the best accuracy \n",
    "checkpoint_callback = [\n",
    "    keras.callbacks.ModelCheckpoint(\n",
    "        filepath='./model_checkpoints/opt_aug_crnn_1000_32' ,\n",
    "        # Path where to save the model\n",
    "        # The two parameters below mean that we will overwrite\n",
    "        # the current checkpoint if and only if\n",
    "        # the `val_loss` score has improved.\n",
    "        save_best_only=True,\n",
    "        monitor='val_loss',\n",
    "        verbose=1)\n",
    "]\n",
    "\n",
    "opt_aug_crnn_1000 = construct_opt_aug_CRNN_model(TIME_WINDOW, \n",
    "                                                 dropout=0.3, \n",
    "                                                 regularizer=0.001, \n",
    "                                                 last_lstm_size=32, \n",
    "                                                 last_hidden_layer=1000,\n",
    "                                                 last_dropout=0.3)\n",
    "\n",
    "opt_aug_crnn_1000.compile(\"adam\", \"sparse_categorical_crossentropy\", metrics=[\"acc\"])\n",
    "\n",
    "opt_aug_crnn_1000.fit(X_train, y_train,\n",
    "                      validation_data = (X_valid, y_valid),\n",
    "                      epochs = 75,\n",
    "                      callbacks=checkpoint_callback)"
   ]
  },
  {
   "cell_type": "code",
   "execution_count": null,
   "metadata": {},
   "outputs": [],
   "source": [
    "TIME_WINDOW = 1000\n",
    "\n",
    "\n",
    "# save model with the best accuracy \n",
    "checkpoint_callback = [\n",
    "    keras.callbacks.ModelCheckpoint(\n",
    "        filepath='./model_checkpoints/opt_aug_crnn_1000_64' ,\n",
    "        # Path where to save the model\n",
    "        # The two parameters below mean that we will overwrite\n",
    "        # the current checkpoint if and only if\n",
    "        # the `val_loss` score has improved.\n",
    "        save_best_only=True,\n",
    "        monitor='val_loss',\n",
    "        verbose=1)\n",
    "]\n",
    "\n",
    "opt_aug_crnn_1000 = construct_opt_aug_CRNN_model(TIME_WINDOW, \n",
    "                                                 dropout=0.3, \n",
    "                                                 regularizer=0.001, \n",
    "                                                 last_lstm_size=64, \n",
    "                                                 last_hidden_layer=1000,\n",
    "                                                 last_dropout=0.3)\n",
    "\n",
    "opt_aug_crnn_1000.compile(\"adam\", \"sparse_categorical_crossentropy\", metrics=[\"acc\"])\n",
    "\n",
    "opt_aug_crnn_1000.fit(X_train, y_train,\n",
    "                      validation_data = (X_valid, y_valid),\n",
    "                      epochs = 75,\n",
    "                      callbacks=checkpoint_callback)"
   ]
  }
 ],
 "metadata": {
  "kernelspec": {
   "display_name": "venv_prj_C247",
   "language": "python",
   "name": "venv_prj_c247"
  },
  "language_info": {
   "codemirror_mode": {
    "name": "ipython",
    "version": 3
   },
   "file_extension": ".py",
   "mimetype": "text/x-python",
   "name": "python",
   "nbconvert_exporter": "python",
   "pygments_lexer": "ipython3",
   "version": "3.5.6"
  },
  "varInspector": {
   "cols": {
    "lenName": 16,
    "lenType": 16,
    "lenVar": 40
   },
   "kernels_config": {
    "python": {
     "delete_cmd_postfix": "",
     "delete_cmd_prefix": "del ",
     "library": "var_list.py",
     "varRefreshCmd": "print(var_dic_list())"
    },
    "r": {
     "delete_cmd_postfix": ") ",
     "delete_cmd_prefix": "rm(",
     "library": "var_list.r",
     "varRefreshCmd": "cat(var_dic_list()) "
    }
   },
   "types_to_exclude": [
    "module",
    "function",
    "builtin_function_or_method",
    "instance",
    "_Feature"
   ],
   "window_display": false
  }
 },
 "nbformat": 4,
 "nbformat_minor": 2
}
