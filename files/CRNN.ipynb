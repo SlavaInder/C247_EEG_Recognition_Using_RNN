{
 "cells": [
  {
   "cell_type": "markdown",
   "metadata": {},
   "source": [
    "# Set up the environment"
   ]
  },
  {
   "cell_type": "code",
   "execution_count": 1,
   "metadata": {},
   "outputs": [],
   "source": [
    "%load_ext autoreload\n",
    "%autoreload 2\n",
    "%matplotlib inline"
   ]
  },
  {
   "cell_type": "code",
   "execution_count": 2,
   "metadata": {},
   "outputs": [],
   "source": [
    "from __future__ import absolute_import, division, print_function, unicode_literals\n",
    "\n",
    "# import tf\n",
    "import tensorflow as tf\n",
    "import tensorflow.keras as keras\n",
    "import tensorflow.keras.layers as layers\n",
    "import tensorflow.keras.backend as K\n",
    "\n",
    "# import os functions\n",
    "import os\n",
    "import time\n",
    "\n",
    "import numpy as np\n",
    "import matplotlib.pyplot as plt\n",
    "\n",
    "from IPython import display"
   ]
  },
  {
   "cell_type": "markdown",
   "metadata": {},
   "source": [
    "# Load the data"
   ]
  },
  {
   "cell_type": "markdown",
   "metadata": {},
   "source": [
    "### Read the files"
   ]
  },
  {
   "cell_type": "code",
   "execution_count": 3,
   "metadata": {},
   "outputs": [],
   "source": [
    "X_test = np.load(\"./EEG_data/X_test.npy\")\n",
    "y_test = np.load(\"./EEG_data/y_test.npy\") - 769\n",
    "person_train_valid = np.load(\"./EEG_data/person_train_valid.npy\")\n",
    "X_train_valid = np.load(\"./EEG_data/X_train_valid.npy\")\n",
    "y_train_valid = np.load(\"./EEG_data/y_train_valid.npy\") - 769\n",
    "person_test = np.load(\"./EEG_data/person_test.npy\")"
   ]
  },
  {
   "cell_type": "markdown",
   "metadata": {},
   "source": [
    "### Shape of data"
   ]
  },
  {
   "cell_type": "code",
   "execution_count": 4,
   "metadata": {},
   "outputs": [
    {
     "name": "stdout",
     "output_type": "stream",
     "text": [
      "training/Valid data shape: (2115, 22, 1000)\n",
      "Test data shape: (443, 22, 1000)\n",
      "Training/Valid target shape: (2115,)\n",
      "Test target shape: (443,)\n",
      "Person train/valid  shape: (2115, 1)\n",
      "Person test shape: (443, 1)\n"
     ]
    }
   ],
   "source": [
    "print(\"training/Valid data shape: {}\".format(X_train_valid.shape))       # training data of many persons\n",
    "print(\"Test data shape: {}\".format(X_test.shape))                        # test data of many persons\n",
    "print(\"Training/Valid target shape: {}\".format(y_train_valid.shape))     # training labels of many persons\n",
    "print(\"Test target shape: {}\".format(y_test.shape))                      # test labels of many persons\n",
    "print(\"Person train/valid  shape: {}\".format(person_train_valid.shape))  # which person correspond to the trail in test set\n",
    "print(\"Person test shape: {}\".format(person_test.shape))                 # which person correspond to the trail in test set"
   ]
  },
  {
   "cell_type": "markdown",
   "metadata": {},
   "source": [
    "### divide dataset into training and validation"
   ]
  },
  {
   "cell_type": "code",
   "execution_count": 5,
   "metadata": {},
   "outputs": [
    {
     "name": "stdout",
     "output_type": "stream",
     "text": [
      "Training data shape: (1692, 22, 1000)\n",
      "Training label shape: (1692,)\n",
      "Validation data shape: (423, 22, 1000)\n",
      "Validation label shape: (423,)\n",
      "Test data shape: (443, 22, 1000)\n",
      "Test label shape: (443,)\n"
     ]
    }
   ],
   "source": [
    "perm = np.random.permutation(X_train_valid.shape[0])\n",
    "num_train = int(0.8 * X_train_valid.shape[0])\n",
    "num_valid = X_train_valid.shape[0] - num_train\n",
    "X_train =  X_train_valid[perm[0:num_train]]\n",
    "y_train =  y_train_valid[perm[0:num_train]]\n",
    "X_valid = X_train_valid[perm[num_train: ]]\n",
    "y_valid = y_train_valid[perm[num_train: ]]\n",
    "\n",
    "\n",
    "print(\"Training data shape: {}\".format(X_train.shape))\n",
    "print(\"Training label shape: {}\".format(y_train.shape))\n",
    "print(\"Validation data shape: {}\".format(X_valid.shape))\n",
    "print(\"Validation label shape: {}\".format(y_valid.shape))\n",
    "print(\"Test data shape: {}\".format(X_test.shape))\n",
    "print(\"Test label shape: {}\".format(y_test.shape))"
   ]
  },
  {
   "cell_type": "markdown",
   "metadata": {},
   "source": [
    "### Preprocess data"
   ]
  },
  {
   "cell_type": "code",
   "execution_count": 6,
   "metadata": {},
   "outputs": [],
   "source": [
    "def sliding_window(X_arr, y_arr, time_window=100, time_step=1, time_stride=1):\n",
    "    temp_x = np.moveaxis(X_arr, 2, 0)\n",
    "    temp_x = temp_x.astype(np.float32)\n",
    "    buff = []\n",
    "    \n",
    "    num_slices = (len(temp_x)-time_window*time_step) // time_stride + 1\n",
    "    \n",
    "    # get time slices for data\n",
    "    for i in range(num_slices):\n",
    "        buff.append(temp_x[i*time_stride:i*time_stride + time_window*time_step:time_step])\n",
    "        buff[i] = np.moveaxis(buff[i], 0, 2)\n",
    "        # uncomment this if additional dimension is needed\n",
    "        # buff[i] = buff[i].reshape(1, buff[i].shape[0], buff[i].shape[1], buff[i].shape[2])\n",
    "        \n",
    "    temp_x = np.concatenate(buff)\n",
    "        \n",
    "    # get time slice for labels\n",
    "    temp_y = np.ones((X_arr.shape[0],num_slices))\n",
    "    \n",
    "    for i in range(len(y_arr)):\n",
    "        temp_y[i] = temp_y[i] * y_arr[i]\n",
    "        \n",
    "    temp_y = temp_y.reshape((-1))\n",
    "    \n",
    "    return temp_x, temp_y"
   ]
  },
  {
   "cell_type": "markdown",
   "metadata": {},
   "source": [
    "# Experiment 1: CRNN"
   ]
  },
  {
   "cell_type": "markdown",
   "metadata": {},
   "source": [
    "### Construct model"
   ]
  },
  {
   "cell_type": "code",
   "execution_count": 55,
   "metadata": {},
   "outputs": [],
   "source": [
    "def construct_CRNN_model(TIME_WINDOW, dropout=0, regularizer=0):\n",
    "    # input\n",
    "    crnn_input = layers.Input(shape=(22, TIME_WINDOW))\n",
    "\n",
    "\n",
    "    # ================================== CONV1 ================================== #\n",
    "\n",
    "    t1 = tf.keras.layers.Permute((2, 1))(crnn_input)\n",
    "    c1 = layers.Conv1D(32, 4, strides=1)(t1)\n",
    "    new_size = TIME_WINDOW - 8 + 1\n",
    "    \n",
    "    bn1 = layers.BatchNormalization(axis=1)(c1)\n",
    "    a1 = layers.Activation(\"relu\")(bn1)\n",
    "    do1 = layers.Dropout(0.5)(a1)\n",
    "    maxpool1 = layers.MaxPooling1D(4)(do1)\n",
    "    new_size = new_size//8 + 1\n",
    "    \n",
    "    # =========================================================================== #\n",
    "\n",
    "    # ================================== CONV2 ================================== #\n",
    "\n",
    "    c2 = layers.Conv1D(64, 4, strides=1)(maxpool1)\n",
    "    new_size = new_size - 8 + 1\n",
    "    \n",
    "    bn2 = layers.BatchNormalization(axis=1)(c2)\n",
    "    a2 = layers.Activation(\"relu\")(bn2)\n",
    "    do2 = layers.Dropout(0.5)(a2)\n",
    "    maxpool2 = layers.MaxPooling1D(4)(do2)\n",
    "    new_size = new_size//8 + 1\n",
    "    \n",
    "    # =========================================================================== #\n",
    "\n",
    "\n",
    "    # ================================== LSTM ================================== #\n",
    "\n",
    "    lstm3 = layers.LSTM(64, \n",
    "                        return_sequences=True, \n",
    "                        dropout=dropout, \n",
    "                        kernel_regularizer=keras.regularizers.l2(regularizer))(maxpool2)\n",
    "    lstm4 = layers.LSTM(64, \n",
    "                        return_sequences=True, \n",
    "                        dropout=dropout,\n",
    "                        kernel_regularizer=keras.regularizers.l2(regularizer),\n",
    "                        recurrent_constraint=keras.regularizers.l2(regularizer),\n",
    "                        activity_regularizer=keras.regularizers.l2(regularizer))(lstm3)\n",
    "\n",
    "    \n",
    "    # =========================================================================== #\n",
    "\n",
    "    f7 = layers.Flatten()(lstm4)\n",
    "\n",
    "    # output\n",
    "    crnn_output = layers.Dense(4, activation=\"softmax\")(f7)\n",
    "    \n",
    "    return keras.Model(inputs = crnn_input, outputs = crnn_output)"
   ]
  },
  {
   "cell_type": "code",
   "execution_count": 34,
   "metadata": {},
   "outputs": [],
   "source": [
    "crnn_model_1000 = construct_CRNN_model(1000, dropout=0.3, regularizer=0.001)\n",
    "crnn_model_1000.compile(\"adam\", \"sparse_categorical_crossentropy\", metrics=[\"acc\"])"
   ]
  },
  {
   "cell_type": "code",
   "execution_count": 35,
   "metadata": {},
   "outputs": [
    {
     "name": "stdout",
     "output_type": "stream",
     "text": [
      "Model: \"model_4\"\n",
      "_________________________________________________________________\n",
      "Layer (type)                 Output Shape              Param #   \n",
      "=================================================================\n",
      "input_9 (InputLayer)         [(None, 22, 1000)]        0         \n",
      "_________________________________________________________________\n",
      "permute_9 (Permute)          (None, 1000, 22)          0         \n",
      "_________________________________________________________________\n",
      "conv1d_10 (Conv1D)           (None, 997, 32)           2848      \n",
      "_________________________________________________________________\n",
      "batch_normalization_8 (Batch (None, 997, 32)           3988      \n",
      "_________________________________________________________________\n",
      "activation_8 (Activation)    (None, 997, 32)           0         \n",
      "_________________________________________________________________\n",
      "dropout_8 (Dropout)          (None, 997, 32)           0         \n",
      "_________________________________________________________________\n",
      "max_pooling1d_7 (MaxPooling1 (None, 249, 32)           0         \n",
      "_________________________________________________________________\n",
      "conv1d_11 (Conv1D)           (None, 246, 64)           8256      \n",
      "_________________________________________________________________\n",
      "batch_normalization_9 (Batch (None, 246, 64)           984       \n",
      "_________________________________________________________________\n",
      "activation_9 (Activation)    (None, 246, 64)           0         \n",
      "_________________________________________________________________\n",
      "dropout_9 (Dropout)          (None, 246, 64)           0         \n",
      "_________________________________________________________________\n",
      "max_pooling1d_8 (MaxPooling1 (None, 61, 64)            0         \n",
      "_________________________________________________________________\n",
      "lstm_2 (LSTM)                (None, 61, 64)            33024     \n",
      "_________________________________________________________________\n",
      "lstm_3 (LSTM)                (None, 61, 64)            33024     \n",
      "_________________________________________________________________\n",
      "flatten_4 (Flatten)          (None, 3904)              0         \n",
      "_________________________________________________________________\n",
      "dense_4 (Dense)              (None, 4)                 15620     \n",
      "=================================================================\n",
      "Total params: 97,744\n",
      "Trainable params: 95,258\n",
      "Non-trainable params: 2,486\n",
      "_________________________________________________________________\n"
     ]
    }
   ],
   "source": [
    "crnn_model_1000.summary()"
   ]
  },
  {
   "cell_type": "markdown",
   "metadata": {},
   "source": [
    "### Make checkpoints"
   ]
  },
  {
   "cell_type": "code",
   "execution_count": 36,
   "metadata": {},
   "outputs": [],
   "source": [
    "# save model with the best accuracy \n",
    "checkpoint_callback = [\n",
    "    keras.callbacks.ModelCheckpoint(\n",
    "        filepath='./model_checkpoints/crnn_1000',\n",
    "        # Path where to save the model\n",
    "        # The two parameters below mean that we will overwrite\n",
    "        # the current checkpoint if and only if\n",
    "        # the `val_loss` score has improved.\n",
    "        save_best_only=True,\n",
    "        monitor='val_loss',\n",
    "        verbose=1)\n",
    "]### Make checkpoints"
   ]
  },
  {
   "cell_type": "markdown",
   "metadata": {},
   "source": [
    "### Train model"
   ]
  },
  {
   "cell_type": "code",
   "execution_count": 37,
   "metadata": {},
   "outputs": [
    {
     "name": "stdout",
     "output_type": "stream",
     "text": [
      "Train on 1692 samples, validate on 423 samples\n",
      "Epoch 1/10\n",
      "1664/1692 [============================>.] - ETA: 0s - loss: 1.5707 - acc: 0.3047\n",
      "Epoch 00001: val_loss improved from inf to 1.50053, saving model to ./model_checkpoints/crnn_1000\n",
      "INFO:tensorflow:Assets written to: ./model_checkpoints/crnn_1000\\assets\n",
      "1692/1692 [==============================] - 14s 8ms/sample - loss: 1.5689 - acc: 0.3073 - val_loss: 1.5005 - val_acc: 0.3617\n",
      "Epoch 2/10\n",
      "1664/1692 [============================>.] - ETA: 0s - loss: 1.4721 - acc: 0.3552\n",
      "Epoch 00002: val_loss improved from 1.50053 to 1.44891, saving model to ./model_checkpoints/crnn_1000\n",
      "INFO:tensorflow:Assets written to: ./model_checkpoints/crnn_1000\\assets\n",
      "1692/1692 [==============================] - 12s 7ms/sample - loss: 1.4718 - acc: 0.3546 - val_loss: 1.4489 - val_acc: 0.3806\n",
      "Epoch 3/10\n",
      "1664/1692 [============================>.] - ETA: 0s - loss: 1.4006 - acc: 0.4159\n",
      "Epoch 00003: val_loss improved from 1.44891 to 1.35931, saving model to ./model_checkpoints/crnn_1000\n",
      "INFO:tensorflow:Assets written to: ./model_checkpoints/crnn_1000\\assets\n",
      "1692/1692 [==============================] - 12s 7ms/sample - loss: 1.4000 - acc: 0.4161 - val_loss: 1.3593 - val_acc: 0.4397\n",
      "Epoch 4/10\n",
      "1664/1692 [============================>.] - ETA: 0s - loss: 1.3119 - acc: 0.4706\n",
      "Epoch 00004: val_loss improved from 1.35931 to 1.29201, saving model to ./model_checkpoints/crnn_1000\n",
      "INFO:tensorflow:Assets written to: ./model_checkpoints/crnn_1000\\assets\n",
      "1692/1692 [==============================] - 13s 8ms/sample - loss: 1.3081 - acc: 0.4716 - val_loss: 1.2920 - val_acc: 0.4586\n",
      "Epoch 5/10\n",
      "1664/1692 [============================>.] - ETA: 0s - loss: 1.2632 - acc: 0.4922\n",
      "Epoch 00005: val_loss improved from 1.29201 to 1.27884, saving model to ./model_checkpoints/crnn_1000\n",
      "INFO:tensorflow:Assets written to: ./model_checkpoints/crnn_1000\\assets\n",
      "1692/1692 [==============================] - 13s 8ms/sample - loss: 1.2589 - acc: 0.4929 - val_loss: 1.2788 - val_acc: 0.4728\n",
      "Epoch 6/10\n",
      "1664/1692 [============================>.] - ETA: 0s - loss: 1.2064 - acc: 0.5138\n",
      "Epoch 00006: val_loss did not improve from 1.27884\n",
      "1692/1692 [==============================] - 7s 4ms/sample - loss: 1.2015 - acc: 0.5154 - val_loss: 1.3308 - val_acc: 0.4468\n",
      "Epoch 7/10\n",
      "1664/1692 [============================>.] - ETA: 0s - loss: 1.1790 - acc: 0.5379\n",
      "Epoch 00007: val_loss improved from 1.27884 to 1.24086, saving model to ./model_checkpoints/crnn_1000\n",
      "INFO:tensorflow:Assets written to: ./model_checkpoints/crnn_1000\\assets\n",
      "1692/1692 [==============================] - 13s 8ms/sample - loss: 1.1775 - acc: 0.5378 - val_loss: 1.2409 - val_acc: 0.4681\n",
      "Epoch 8/10\n",
      "1664/1692 [============================>.] - ETA: 0s - loss: 1.1427 - acc: 0.5397\n",
      "Epoch 00008: val_loss improved from 1.24086 to 1.21503, saving model to ./model_checkpoints/crnn_1000\n",
      "INFO:tensorflow:Assets written to: ./model_checkpoints/crnn_1000\\assets\n",
      "1692/1692 [==============================] - 13s 8ms/sample - loss: 1.1455 - acc: 0.5378 - val_loss: 1.2150 - val_acc: 0.5343\n",
      "Epoch 9/10\n",
      "1664/1692 [============================>.] - ETA: 0s - loss: 1.0929 - acc: 0.5715\n",
      "Epoch 00009: val_loss improved from 1.21503 to 1.17996, saving model to ./model_checkpoints/crnn_1000\n",
      "INFO:tensorflow:Assets written to: ./model_checkpoints/crnn_1000\\assets\n",
      "1692/1692 [==============================] - 14s 8ms/sample - loss: 1.0946 - acc: 0.5697 - val_loss: 1.1800 - val_acc: 0.5248\n",
      "Epoch 10/10\n",
      "1664/1692 [============================>.] - ETA: 0s - loss: 1.0628 - acc: 0.6076\n",
      "Epoch 00010: val_loss did not improve from 1.17996\n",
      "1692/1692 [==============================] - 8s 5ms/sample - loss: 1.0621 - acc: 0.6070 - val_loss: 1.2365 - val_acc: 0.4610\n"
     ]
    }
   ],
   "source": [
    "crnn_model_1000_loss_hist = crnn_model_1000.fit(X_train, y_train,\n",
    "                                                validation_data = (X_valid, y_valid),\n",
    "                                                epochs = 10,\n",
    "                                                callbacks=checkpoint_callback)"
   ]
  },
  {
   "cell_type": "code",
   "execution_count": null,
   "metadata": {},
   "outputs": [],
   "source": [
    "hist = deep_aug_model_1000_loss_hist.history\n",
    "\n",
    "plt.figure(figsize=(15, 7))\n",
    "plt.subplot(1, 2, 1)\n",
    "plt.plot(hist['loss'])\n",
    "plt.plot(hist['val_loss'])\n",
    "plt.ylabel('loss')\n",
    "plt.xlabel('epoch')\n",
    "plt.legend(['train', 'val'])\n",
    "\n",
    "plt.subplot(1, 2, 2)\n",
    "plt.plot(hist['acc'])\n",
    "plt.plot(hist['val_acc'])\n",
    "plt.ylabel('acc')\n",
    "plt.xlabel('epoch')\n",
    "plt.legend(['train', 'val'])"
   ]
  },
  {
   "cell_type": "markdown",
   "metadata": {},
   "source": [
    "# Experiment 2: augmented CRNN"
   ]
  },
  {
   "cell_type": "code",
   "execution_count": 111,
   "metadata": {},
   "outputs": [],
   "source": [
    "def construct_aug_CRNN_model(TIME_WINDOW, dropout=0, regularizer=0):\n",
    "    # input\n",
    "    crnn_input = layers.Input(shape=(22, TIME_WINDOW))\n",
    "\n",
    "\n",
    "    # ================================== CONV1 ================================== #\n",
    "\n",
    "    t1 = tf.keras.layers.Permute((2, 1))(crnn_input)\n",
    "    c1 = layers.Conv1D(32, 4, strides=1)(t1)\n",
    "    new_size = TIME_WINDOW - 8 + 1\n",
    "    \n",
    "    bn1 = layers.BatchNormalization(axis=1)(c1)\n",
    "    a1 = layers.Activation(\"elu\")(bn1)\n",
    "    do1 = layers.Dropout(0.5)(a1)\n",
    "    maxpool1 = layers.MaxPooling1D(4)(do1)\n",
    "    new_size = new_size//8 + 1\n",
    "    \n",
    "    # =========================================================================== #\n",
    "\n",
    "    # ================================== CONV2 ================================== #\n",
    "\n",
    "    c2 = layers.Conv1D(64, 4, strides=1)(maxpool1)\n",
    "    new_size = new_size - 8 + 1\n",
    "    \n",
    "    bn2 = layers.BatchNormalization(axis=1)(c2)\n",
    "    a2 = layers.Activation(\"elu\")(bn2)\n",
    "    do2 = layers.Dropout(0.5)(a2)\n",
    "    maxpool2 = layers.MaxPooling1D(4)(do2)\n",
    "    new_size = new_size//8 + 1\n",
    "    \n",
    "    # =========================================================================== #\n",
    "\n",
    "\n",
    "    # ================================== LSTM ================================== #\n",
    "\n",
    "    lstm3 = layers.LSTM(64, \n",
    "                        return_sequences=True, \n",
    "                        dropout=dropout, \n",
    "                        kernel_regularizer=keras.regularizers.l2(regularizer),\n",
    "                        activity_regularizer=keras.regularizers.l2(regularizer))(maxpool2)\n",
    "    lstm4 = layers.LSTM(64, \n",
    "                        return_sequences=True, \n",
    "                        dropout=dropout,\n",
    "                        kernel_regularizer=keras.regularizers.l2(regularizer),\n",
    "                        activity_regularizer=keras.regularizers.l2(regularizer))(lstm3)\n",
    "    \n",
    "    lstm5 = layers.LSTM(16, \n",
    "                        return_sequences=True, \n",
    "                        dropout=dropout,\n",
    "                        kernel_regularizer=keras.regularizers.l2(regularizer),\n",
    "                        activity_regularizer=keras.regularizers.l2(regularizer))(lstm4)\n",
    "\n",
    "\n",
    "    \n",
    "    # =========================================================================== #\n",
    "\n",
    "    f7 = layers.Flatten()(lstm5)\n",
    "    \n",
    "    elu7 = layers.Dense(64 * new_size, activation=\"elu\", kernel_regularizer=keras.regularizers.l2(regularizer))(f7)\n",
    "\n",
    "    # output\n",
    "    crnn_output = layers.Dense(4, activation=\"softmax\")(elu7)\n",
    "    \n",
    "    return keras.Model(inputs = crnn_input, outputs = crnn_output)"
   ]
  },
  {
   "cell_type": "code",
   "execution_count": 115,
   "metadata": {},
   "outputs": [],
   "source": [
    "# save model with the best accuracy \n",
    "checkpoint_callback = [\n",
    "    keras.callbacks.ModelCheckpoint(\n",
    "        filepath='./model_checkpoints/aug_crnn_1000',\n",
    "        # Path where to save the model\n",
    "        # The two parameters below mean that we will overwrite\n",
    "        # the current checkpoint if and only if\n",
    "        # the `val_loss` score has improved.\n",
    "        save_best_only=True,\n",
    "        monitor='val_loss',\n",
    "        verbose=1)\n",
    "]### Make checkpoints\n",
    "\n",
    "aug_crnn_model_1000 = construct_aug_CRNN_model(1000, dropout=0.3, regularizer=0.001)"
   ]
  },
  {
   "cell_type": "code",
   "execution_count": 116,
   "metadata": {},
   "outputs": [
    {
     "name": "stdout",
     "output_type": "stream",
     "text": [
      "Model: \"model_23\"\n",
      "_________________________________________________________________\n",
      "Layer (type)                 Output Shape              Param #   \n",
      "=================================================================\n",
      "input_29 (InputLayer)        [(None, 22, 1000)]        0         \n",
      "_________________________________________________________________\n",
      "permute_29 (Permute)         (None, 1000, 22)          0         \n",
      "_________________________________________________________________\n",
      "conv1d_50 (Conv1D)           (None, 997, 32)           2848      \n",
      "_________________________________________________________________\n",
      "batch_normalization_48 (Batc (None, 997, 32)           3988      \n",
      "_________________________________________________________________\n",
      "activation_48 (Activation)   (None, 997, 32)           0         \n",
      "_________________________________________________________________\n",
      "dropout_48 (Dropout)         (None, 997, 32)           0         \n",
      "_________________________________________________________________\n",
      "max_pooling1d_47 (MaxPooling (None, 249, 32)           0         \n",
      "_________________________________________________________________\n",
      "conv1d_51 (Conv1D)           (None, 246, 64)           8256      \n",
      "_________________________________________________________________\n",
      "batch_normalization_49 (Batc (None, 246, 64)           984       \n",
      "_________________________________________________________________\n",
      "activation_49 (Activation)   (None, 246, 64)           0         \n",
      "_________________________________________________________________\n",
      "dropout_49 (Dropout)         (None, 246, 64)           0         \n",
      "_________________________________________________________________\n",
      "max_pooling1d_48 (MaxPooling (None, 61, 64)            0         \n",
      "_________________________________________________________________\n",
      "lstm_43 (LSTM)               (None, 61, 64)            33024     \n",
      "_________________________________________________________________\n",
      "lstm_44 (LSTM)               (None, 61, 64)            33024     \n",
      "_________________________________________________________________\n",
      "lstm_45 (LSTM)               (None, 61, 16)            5184      \n",
      "_________________________________________________________________\n",
      "flatten_24 (Flatten)         (None, 976)               0         \n",
      "_________________________________________________________________\n",
      "dense_27 (Dense)             (None, 960)               937920    \n",
      "_________________________________________________________________\n",
      "dense_28 (Dense)             (None, 4)                 3844      \n",
      "=================================================================\n",
      "Total params: 1,029,072\n",
      "Trainable params: 1,026,586\n",
      "Non-trainable params: 2,486\n",
      "_________________________________________________________________\n"
     ]
    }
   ],
   "source": [
    "aug_crnn_model_1000.summary()"
   ]
  },
  {
   "cell_type": "code",
   "execution_count": 121,
   "metadata": {},
   "outputs": [
    {
     "name": "stdout",
     "output_type": "stream",
     "text": [
      "Train on 1692 samples, validate on 423 samples\n",
      "Epoch 1/10\n",
      "1664/1692 [============================>.] - ETA: 0s - loss: 0.9223 - acc: 0.6707\n",
      "Epoch 00001: val_loss did not improve from 1.10012\n",
      "1692/1692 [==============================] - 26s 15ms/sample - loss: 0.9258 - acc: 0.6684 - val_loss: 1.1466 - val_acc: 0.5721\n",
      "Epoch 2/10\n",
      "1664/1692 [============================>.] - ETA: 0s - loss: 0.9012 - acc: 0.6863\n",
      "Epoch 00002: val_loss did not improve from 1.10012\n",
      "1692/1692 [==============================] - 18s 11ms/sample - loss: 0.8974 - acc: 0.6891 - val_loss: 1.1482 - val_acc: 0.5556\n",
      "Epoch 3/10\n",
      "1664/1692 [============================>.] - ETA: 0s - loss: 0.8814 - acc: 0.6965\n",
      "Epoch 00003: val_loss did not improve from 1.10012\n",
      "1692/1692 [==============================] - 18s 11ms/sample - loss: 0.8788 - acc: 0.6974 - val_loss: 1.1237 - val_acc: 0.5792\n",
      "Epoch 4/10\n",
      "1664/1692 [============================>.] - ETA: 0s - loss: 0.8812 - acc: 0.6845\n",
      "Epoch 00004: val_loss did not improve from 1.10012\n",
      "1692/1692 [==============================] - 21s 12ms/sample - loss: 0.8800 - acc: 0.6844 - val_loss: 1.1238 - val_acc: 0.5768\n",
      "Epoch 5/10\n",
      "1664/1692 [============================>.] - ETA: 0s - loss: 0.8648 - acc: 0.6917\n",
      "Epoch 00005: val_loss improved from 1.10012 to 1.07414, saving model to ./model_checkpoints/aug_crnn_1000\n",
      "INFO:tensorflow:Assets written to: ./model_checkpoints/aug_crnn_1000\\assets\n",
      "1692/1692 [==============================] - 28s 16ms/sample - loss: 0.8645 - acc: 0.6915 - val_loss: 1.0741 - val_acc: 0.5981\n",
      "Epoch 6/10\n",
      "1664/1692 [============================>.] - ETA: 0s - loss: 0.8721 - acc: 0.6995\n",
      "Epoch 00006: val_loss did not improve from 1.07414\n",
      "1692/1692 [==============================] - 18s 11ms/sample - loss: 0.8770 - acc: 0.6968 - val_loss: 1.1090 - val_acc: 0.6028\n",
      "Epoch 7/10\n",
      "1664/1692 [============================>.] - ETA: 0s - loss: 0.8621 - acc: 0.6875\n",
      "Epoch 00007: val_loss did not improve from 1.07414\n",
      "1692/1692 [==============================] - 18s 11ms/sample - loss: 0.8608 - acc: 0.6897 - val_loss: 1.1618 - val_acc: 0.5556\n",
      "Epoch 8/10\n",
      "1664/1692 [============================>.] - ETA: 0s - loss: 0.8272 - acc: 0.7260\n",
      "Epoch 00008: val_loss did not improve from 1.07414\n",
      "1692/1692 [==============================] - 18s 10ms/sample - loss: 0.8261 - acc: 0.7258 - val_loss: 1.1233 - val_acc: 0.5839\n",
      "Epoch 9/10\n",
      "1664/1692 [============================>.] - ETA: 0s - loss: 0.8385 - acc: 0.7037\n",
      "Epoch 00009: val_loss did not improve from 1.07414\n",
      "1692/1692 [==============================] - 18s 11ms/sample - loss: 0.8392 - acc: 0.7033 - val_loss: 1.0855 - val_acc: 0.6147\n",
      "Epoch 10/10\n",
      "1664/1692 [============================>.] - ETA: 0s - loss: 0.8614 - acc: 0.6863\n",
      "Epoch 00010: val_loss did not improve from 1.07414\n",
      "1692/1692 [==============================] - 18s 10ms/sample - loss: 0.8636 - acc: 0.6850 - val_loss: 1.0789 - val_acc: 0.6028\n"
     ]
    },
    {
     "data": {
      "text/plain": [
       "<tensorflow.python.keras.callbacks.History at 0x2cba18d6208>"
      ]
     },
     "execution_count": 121,
     "metadata": {},
     "output_type": "execute_result"
    }
   ],
   "source": [
    "aug_crnn_model_1000.compile(keras.optimizers.Adam(), \n",
    "                                                  \"sparse_categorical_crossentropy\", \n",
    "                                                  metrics=[\"acc\"])\n",
    "\n",
    "aug_crnn_model_1000.fit(X_train, y_train,\n",
    "                        validation_data = (X_valid, y_valid),\n",
    "                        epochs = 10,\n",
    "                        callbacks = checkpoint_callback)"
   ]
  },
  {
   "cell_type": "code",
   "execution_count": 125,
   "metadata": {},
   "outputs": [
    {
     "name": "stdout",
     "output_type": "stream",
     "text": [
      "Train on 1692 samples, validate on 423 samples\n",
      "Epoch 1/10\n",
      "1664/1692 [============================>.] - ETA: 0s - loss: 0.6369 - acc: 0.7945\n",
      "Epoch 00001: val_loss did not improve from 1.05815\n",
      "1692/1692 [==============================] - 23s 14ms/sample - loss: 0.6377 - acc: 0.7931 - val_loss: 1.2839 - val_acc: 0.5910\n",
      "Epoch 2/10\n",
      "1664/1692 [============================>.] - ETA: 0s - loss: 0.6246 - acc: 0.8059\n",
      "Epoch 00002: val_loss did not improve from 1.05815\n",
      "1692/1692 [==============================] - 19s 11ms/sample - loss: 0.6253 - acc: 0.8061 - val_loss: 1.1201 - val_acc: 0.6407\n",
      "Epoch 3/10\n",
      "1664/1692 [============================>.] - ETA: 0s - loss: 0.6165 - acc: 0.8065\n",
      "Epoch 00003: val_loss did not improve from 1.05815\n",
      "1692/1692 [==============================] - 20s 12ms/sample - loss: 0.6207 - acc: 0.8056 - val_loss: 1.1069 - val_acc: 0.6194\n",
      "Epoch 4/10\n",
      "1664/1692 [============================>.] - ETA: 0s - loss: 0.6186 - acc: 0.8089\n",
      "Epoch 00004: val_loss did not improve from 1.05815\n",
      "1692/1692 [==============================] - 20s 12ms/sample - loss: 0.6159 - acc: 0.8103 - val_loss: 1.1760 - val_acc: 0.6336\n",
      "Epoch 5/10\n",
      "1664/1692 [============================>.] - ETA: 0s - loss: 0.6030 - acc: 0.8107\n",
      "Epoch 00005: val_loss did not improve from 1.05815\n",
      "1692/1692 [==============================] - 19s 11ms/sample - loss: 0.6058 - acc: 0.8091 - val_loss: 1.4458 - val_acc: 0.5461\n",
      "Epoch 6/10\n",
      "1664/1692 [============================>.] - ETA: 0s - loss: 0.6050 - acc: 0.8119\n",
      "Epoch 00006: val_loss did not improve from 1.05815\n",
      "1692/1692 [==============================] - 20s 12ms/sample - loss: 0.6054 - acc: 0.8109 - val_loss: 1.0912 - val_acc: 0.6478\n",
      "Epoch 7/10\n",
      "1664/1692 [============================>.] - ETA: 0s - loss: 0.5731 - acc: 0.8185\n",
      "Epoch 00007: val_loss did not improve from 1.05815\n",
      "1692/1692 [==============================] - 19s 11ms/sample - loss: 0.5743 - acc: 0.8186 - val_loss: 1.3378 - val_acc: 0.5981\n",
      "Epoch 8/10\n",
      "1664/1692 [============================>.] - ETA: 0s - loss: 0.5888 - acc: 0.8197\n",
      "Epoch 00008: val_loss did not improve from 1.05815\n",
      "1692/1692 [==============================] - 20s 12ms/sample - loss: 0.5890 - acc: 0.8197 - val_loss: 1.1939 - val_acc: 0.6099\n",
      "Epoch 9/10\n",
      "1664/1692 [============================>.] - ETA: 0s - loss: 0.5958 - acc: 0.8113\n",
      "Epoch 00009: val_loss did not improve from 1.05815\n",
      "1692/1692 [==============================] - 20s 12ms/sample - loss: 0.5954 - acc: 0.8109 - val_loss: 1.2057 - val_acc: 0.6288\n",
      "Epoch 10/10\n",
      "1664/1692 [============================>.] - ETA: 0s - loss: 0.5594 - acc: 0.8335\n",
      "Epoch 00010: val_loss did not improve from 1.05815\n",
      "1692/1692 [==============================] - 20s 12ms/sample - loss: 0.5589 - acc: 0.8322 - val_loss: 1.1485 - val_acc: 0.6643\n"
     ]
    },
    {
     "data": {
      "text/plain": [
       "<tensorflow.python.keras.callbacks.History at 0x2cba04a7ac8>"
      ]
     },
     "execution_count": 125,
     "metadata": {},
     "output_type": "execute_result"
    }
   ],
   "source": [
    "aug_crnn_model_1000.compile(keras.optimizers.Adam(), \n",
    "                                                  \"sparse_categorical_crossentropy\", \n",
    "                                                  metrics=[\"acc\"])\n",
    "\n",
    "aug_crnn_model_1000.fit(X_train, y_train,\n",
    "                        validation_data = (X_valid, y_valid),\n",
    "                        epochs = 10,\n",
    "                        callbacks = checkpoint_callback)"
   ]
  },
  {
   "cell_type": "code",
   "execution_count": 126,
   "metadata": {},
   "outputs": [
    {
     "name": "stdout",
     "output_type": "stream",
     "text": [
      "Train on 1692 samples, validate on 423 samples\n",
      "Epoch 1/10\n",
      "1664/1692 [============================>.] - ETA: 0s - loss: 0.6011 - acc: 0.8107\n",
      "Epoch 00001: val_loss did not improve from 1.05815\n",
      "1692/1692 [==============================] - 25s 15ms/sample - loss: 0.6015 - acc: 0.8103 - val_loss: 1.2330 - val_acc: 0.6217\n",
      "Epoch 2/10\n",
      "1664/1692 [============================>.] - ETA: 0s - loss: 0.5916 - acc: 0.8143\n",
      "Epoch 00002: val_loss did not improve from 1.05815\n",
      "1692/1692 [==============================] - 20s 12ms/sample - loss: 0.5929 - acc: 0.8126 - val_loss: 1.2244 - val_acc: 0.5721\n",
      "Epoch 3/10\n",
      "1664/1692 [============================>.] - ETA: 0s - loss: 0.6102 - acc: 0.8101\n",
      "Epoch 00003: val_loss did not improve from 1.05815\n",
      "1692/1692 [==============================] - 20s 12ms/sample - loss: 0.6077 - acc: 0.8109 - val_loss: 1.1580 - val_acc: 0.6170\n",
      "Epoch 4/10\n",
      "1664/1692 [============================>.] - ETA: 0s - loss: 0.5541 - acc: 0.8275\n",
      "Epoch 00004: val_loss did not improve from 1.05815\n",
      "1692/1692 [==============================] - 22s 13ms/sample - loss: 0.5520 - acc: 0.8280 - val_loss: 1.2419 - val_acc: 0.5887\n",
      "Epoch 5/10\n",
      "1664/1692 [============================>.] - ETA: 0s - loss: 0.5594 - acc: 0.8305\n",
      "Epoch 00005: val_loss did not improve from 1.05815\n",
      "1692/1692 [==============================] - 21s 12ms/sample - loss: 0.5583 - acc: 0.8316 - val_loss: 1.1154 - val_acc: 0.6430\n",
      "Epoch 6/10\n",
      "1664/1692 [============================>.] - ETA: 0s - loss: 0.5433 - acc: 0.8293\n",
      "Epoch 00006: val_loss did not improve from 1.05815\n",
      "1692/1692 [==============================] - 21s 13ms/sample - loss: 0.5429 - acc: 0.8292 - val_loss: 1.1121 - val_acc: 0.6548\n",
      "Epoch 7/10\n",
      "1664/1692 [============================>.] - ETA: 0s - loss: 0.5606 - acc: 0.8359\n",
      "Epoch 00007: val_loss did not improve from 1.05815\n",
      "1692/1692 [==============================] - 20s 12ms/sample - loss: 0.5606 - acc: 0.8363 - val_loss: 1.2163 - val_acc: 0.6194\n",
      "Epoch 8/10\n",
      "1664/1692 [============================>.] - ETA: 0s - loss: 0.5448 - acc: 0.8401\n",
      "Epoch 00008: val_loss did not improve from 1.05815\n",
      "1692/1692 [==============================] - 22s 13ms/sample - loss: 0.5436 - acc: 0.8410 - val_loss: 1.2702 - val_acc: 0.6194\n",
      "Epoch 9/10\n",
      "1664/1692 [============================>.] - ETA: 0s - loss: 0.5336 - acc: 0.8498\n",
      "Epoch 00009: val_loss did not improve from 1.05815\n",
      "1692/1692 [==============================] - 21s 12ms/sample - loss: 0.5340 - acc: 0.8493 - val_loss: 1.3379 - val_acc: 0.6099\n",
      "Epoch 10/10\n",
      "1664/1692 [============================>.] - ETA: 0s - loss: 0.5418 - acc: 0.8335\n",
      "Epoch 00010: val_loss did not improve from 1.05815\n",
      "1692/1692 [==============================] - 20s 12ms/sample - loss: 0.5414 - acc: 0.8339 - val_loss: 1.2635 - val_acc: 0.6052\n"
     ]
    },
    {
     "data": {
      "text/plain": [
       "<tensorflow.python.keras.callbacks.History at 0x2cba035a588>"
      ]
     },
     "execution_count": 126,
     "metadata": {},
     "output_type": "execute_result"
    }
   ],
   "source": [
    "aug_crnn_model_1000.compile(keras.optimizers.Adam(), \n",
    "                                                  \"sparse_categorical_crossentropy\", \n",
    "                                                  metrics=[\"acc\"])\n",
    "\n",
    "aug_crnn_model_1000.fit(X_train, y_train,\n",
    "                        validation_data = (X_valid, y_valid),\n",
    "                        epochs = 10,\n",
    "                        callbacks = checkpoint_callback)"
   ]
  },
  {
   "cell_type": "markdown",
   "metadata": {},
   "source": [
    "crnn_model_1000 = construct_CRNN_model(1000, dropout=0.3, regularizer=0.001) 55 % at best\n",
    "added activity regularizer.\n",
    "aug_crnn_model_1000 = construct_CRNN_model(1000, dropout=0.3, regularizer=0.01) 43% at best\n",
    "aug_crnn_model_1000 = construct_CRNN_model(1000, dropout=0.5, regularizer=0.005) 53% at best\n",
    "changed relu to elu, addded a new dense elu layer in the end, addded new lstm layer\n",
    "construct_aug_CRNN_model(1000, dropout=0.3, regularizer=0.005)"
   ]
  }
 ],
 "metadata": {
  "kernelspec": {
   "display_name": "venv_prj_C247",
   "language": "python",
   "name": "venv_prj_c247"
  },
  "language_info": {
   "codemirror_mode": {
    "name": "ipython",
    "version": 3
   },
   "file_extension": ".py",
   "mimetype": "text/x-python",
   "name": "python",
   "nbconvert_exporter": "python",
   "pygments_lexer": "ipython3",
   "version": "3.5.6"
  },
  "varInspector": {
   "cols": {
    "lenName": 16,
    "lenType": 16,
    "lenVar": 40
   },
   "kernels_config": {
    "python": {
     "delete_cmd_postfix": "",
     "delete_cmd_prefix": "del ",
     "library": "var_list.py",
     "varRefreshCmd": "print(var_dic_list())"
    },
    "r": {
     "delete_cmd_postfix": ") ",
     "delete_cmd_prefix": "rm(",
     "library": "var_list.r",
     "varRefreshCmd": "cat(var_dic_list()) "
    }
   },
   "types_to_exclude": [
    "module",
    "function",
    "builtin_function_or_method",
    "instance",
    "_Feature"
   ],
   "window_display": false
  }
 },
 "nbformat": 4,
 "nbformat_minor": 2
}
